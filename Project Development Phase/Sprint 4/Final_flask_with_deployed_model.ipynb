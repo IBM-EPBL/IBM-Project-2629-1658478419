{
  "nbformat": 4,
  "nbformat_minor": 0,
  "metadata": {
    "colab": {
      "provenance": []
    },
    "kernelspec": {
      "name": "python3",
      "display_name": "Python 3"
    },
    "language_info": {
      "name": "python"
    },
    "accelerator": "GPU",
    "gpuClass": "standard"
  },
  "cells": [
    {
      "cell_type": "code",
      "source": [
        "!git clone https://github.com/IBM-EPBL/IBM-Project-2629-1658478419.git"
      ],
      "metadata": {
        "colab": {
          "base_uri": "https://localhost:8080/"
        },
        "id": "w4oir6aXZmri",
        "outputId": "4c11e2d4-7280-440c-88e0-99af984caa6b"
      },
      "execution_count": 1,
      "outputs": [
        {
          "output_type": "stream",
          "name": "stdout",
          "text": [
            "Cloning into 'IBM-Project-2629-1658478419'...\n",
            "remote: Enumerating objects: 655, done.\u001b[K\n",
            "remote: Counting objects: 100% (275/275), done.\u001b[K\n",
            "remote: Compressing objects: 100% (152/152), done.\u001b[K\n",
            "remote: Total 655 (delta 116), reused 261 (delta 111), pack-reused 380\u001b[K\n",
            "Receiving objects: 100% (655/655), 17.76 MiB | 11.31 MiB/s, done.\n",
            "Resolving deltas: 100% (235/235), done.\n"
          ]
        }
      ]
    },
    {
      "cell_type": "code",
      "source": [
        "import requests\n",
        "\n",
        "import json\n",
        "# NOTE: you must manually set API_KEY below using information retrieved from your IBM Cloud account.\n",
        "API_KEY = \"IYhl2VJPcsKa1DvohrhA8BwB8Wk43ShPuQ1VzL0fPMXJ\"\n",
        "token_response = requests.post('https://iam.cloud.ibm.com/identity/token', data={\"apikey\":\n",
        " API_KEY, \"grant_type\": 'urn:ibm:params:oauth:grant-type:apikey'})\n",
        "mltoken = token_response.json()[\"access_token\"]\n",
        "\n",
        "header = {'Content-Type': 'application/json', 'Authorization': 'Bearer ' + mltoken}\n"
      ],
      "metadata": {
        "id": "UFpg4VHuWIPk"
      },
      "execution_count": 2,
      "outputs": []
    },
    {
      "cell_type": "code",
      "source": [
        "'''import pickle\n",
        "\n",
        "filen = \"/content/IBM-Project-2629-1658478419/Project Development Phase/Sprint 2/Models/KNN_rainfall.pkl\"\n",
        "model = pickle.load(open(filen, 'rb'))\n",
        "'''"
      ],
      "metadata": {
        "id": "51pmlRXlRV6c",
        "colab": {
          "base_uri": "https://localhost:8080/",
          "height": 71
        },
        "outputId": "bf84cf16-723e-4f11-8865-f4d98f8dd94b"
      },
      "execution_count": 3,
      "outputs": [
        {
          "output_type": "execute_result",
          "data": {
            "text/plain": [
              "'import pickle\\n\\nfilen = \"/content/IBM-Project-2629-1658478419/Project Development Phase/Sprint 2/Models/KNN_rainfall.pkl\"\\nmodel = pickle.load(open(filen, \\'rb\\'))\\n'"
            ],
            "application/vnd.google.colaboratory.intrinsic+json": {
              "type": "string"
            }
          },
          "metadata": {},
          "execution_count": 3
        }
      ]
    },
    {
      "cell_type": "code",
      "execution_count": 4,
      "metadata": {
        "colab": {
          "base_uri": "https://localhost:8080/"
        },
        "id": "M_Qe9ZvQEfz2",
        "outputId": "77fcd4c3-7f18-4a5c-ad60-1cb3ec5f12a5"
      },
      "outputs": [
        {
          "output_type": "stream",
          "name": "stdout",
          "text": [
            "Looking in indexes: https://pypi.org/simple, https://us-python.pkg.dev/colab-wheels/public/simple/\n",
            "Collecting flask-ngrok\n",
            "  Downloading flask_ngrok-0.0.25-py3-none-any.whl (3.1 kB)\n",
            "Requirement already satisfied: Flask>=0.8 in /usr/local/lib/python3.7/dist-packages (from flask-ngrok) (1.1.4)\n",
            "Requirement already satisfied: requests in /usr/local/lib/python3.7/dist-packages (from flask-ngrok) (2.23.0)\n",
            "Requirement already satisfied: Werkzeug<2.0,>=0.15 in /usr/local/lib/python3.7/dist-packages (from Flask>=0.8->flask-ngrok) (1.0.1)\n",
            "Requirement already satisfied: Jinja2<3.0,>=2.10.1 in /usr/local/lib/python3.7/dist-packages (from Flask>=0.8->flask-ngrok) (2.11.3)\n",
            "Requirement already satisfied: itsdangerous<2.0,>=0.24 in /usr/local/lib/python3.7/dist-packages (from Flask>=0.8->flask-ngrok) (1.1.0)\n",
            "Requirement already satisfied: click<8.0,>=5.1 in /usr/local/lib/python3.7/dist-packages (from Flask>=0.8->flask-ngrok) (7.1.2)\n",
            "Requirement already satisfied: MarkupSafe>=0.23 in /usr/local/lib/python3.7/dist-packages (from Jinja2<3.0,>=2.10.1->Flask>=0.8->flask-ngrok) (2.0.1)\n",
            "Requirement already satisfied: urllib3!=1.25.0,!=1.25.1,<1.26,>=1.21.1 in /usr/local/lib/python3.7/dist-packages (from requests->flask-ngrok) (1.24.3)\n",
            "Requirement already satisfied: certifi>=2017.4.17 in /usr/local/lib/python3.7/dist-packages (from requests->flask-ngrok) (2022.9.24)\n",
            "Requirement already satisfied: idna<3,>=2.5 in /usr/local/lib/python3.7/dist-packages (from requests->flask-ngrok) (2.10)\n",
            "Requirement already satisfied: chardet<4,>=3.0.2 in /usr/local/lib/python3.7/dist-packages (from requests->flask-ngrok) (3.0.4)\n",
            "Installing collected packages: flask-ngrok\n",
            "Successfully installed flask-ngrok-0.0.25\n"
          ]
        }
      ],
      "source": [
        "!pip install flask-ngrok"
      ]
    },
    {
      "cell_type": "code",
      "execution_count": 5,
      "metadata": {
        "colab": {
          "base_uri": "https://localhost:8080/"
        },
        "id": "zez4lIYZEkij",
        "outputId": "837d7278-ab87-4d27-cfdb-181dc557401c"
      },
      "outputs": [
        {
          "output_type": "stream",
          "name": "stdout",
          "text": [
            "Looking in indexes: https://pypi.org/simple, https://us-python.pkg.dev/colab-wheels/public/simple/\n",
            "Collecting pyngrok==4.1.1\n",
            "  Downloading pyngrok-4.1.1.tar.gz (18 kB)\n",
            "Requirement already satisfied: future in /usr/local/lib/python3.7/dist-packages (from pyngrok==4.1.1) (0.16.0)\n",
            "Requirement already satisfied: PyYAML in /usr/local/lib/python3.7/dist-packages (from pyngrok==4.1.1) (6.0)\n",
            "Building wheels for collected packages: pyngrok\n",
            "  Building wheel for pyngrok (setup.py) ... \u001b[?25l\u001b[?25hdone\n",
            "  Created wheel for pyngrok: filename=pyngrok-4.1.1-py3-none-any.whl size=15982 sha256=db3eb5717e5d2917f9fc86b3429a788417db743bcf2fd19c71a63a4cfeeb0ba7\n",
            "  Stored in directory: /root/.cache/pip/wheels/b1/d9/12/045a042fee3127dc40ba6f5df2798aa2df38c414bf533ca765\n",
            "Successfully built pyngrok\n",
            "Installing collected packages: pyngrok\n",
            "Successfully installed pyngrok-4.1.1\n"
          ]
        }
      ],
      "source": [
        "!pip install pyngrok==4.1.1"
      ]
    },
    {
      "cell_type": "code",
      "execution_count": 6,
      "metadata": {
        "colab": {
          "base_uri": "https://localhost:8080/"
        },
        "id": "s8VDw58CEkfH",
        "outputId": "ce5c0a15-56e6-4fb9-98a1-fd0f9cd68152"
      },
      "outputs": [
        {
          "output_type": "stream",
          "name": "stdout",
          "text": [
            "Authtoken saved to configuration file: /root/.ngrok2/ngrok.yml\n"
          ]
        }
      ],
      "source": [
        "!ngrok authtoken 23Jg2oDy2N9PJD3njx9iWFHSfCs_3J7KXYfQXtzxHX3a5digi"
      ]
    },
    {
      "cell_type": "code",
      "source": [
        "import pandas as pd\n",
        "\n",
        "df = pd.read_csv(\"/content/IBM-Project-2629-1658478419/Project Development Phase/Sprint 1/weatherAUS.csv\")"
      ],
      "metadata": {
        "id": "QZTJmNXbhSgk"
      },
      "execution_count": 7,
      "outputs": []
    },
    {
      "cell_type": "code",
      "source": [
        "from flask import Flask, render_template, request\n",
        "from flask_ngrok import run_with_ngrok\n",
        "from datetime import datetime\n",
        "app = Flask(__name__,template_folder=\"/content/IBM-Project-2629-1658478419/Project Development Phase/Sprint 3/HTML Files/\")\n",
        "run_with_ngrok(app)\n",
        "\n",
        "@app.route(\"/\")\n",
        "def prec():\n",
        "  return render_template(\"Precautions.html\")\n",
        "\n",
        "@app.route(\"/pred_in\")\n",
        "def pred_in():\n",
        "  return render_template(\"pred_in.html\")\n",
        "\n",
        "@app.route(\"/pred_out\")\n",
        "def pred_out():\n",
        "  MinTemp = request.args.get(\"MinTemp\")\n",
        "  MaxTemp = request.args.get(\"MaxTemp\")\n",
        "  Rainfall = request.args.get(\"Rainfall\")\n",
        "  Evaporation = request.args.get(\"Evaporation\")\n",
        "  Sunshine = request.args.get(\"Sunshine\")\n",
        "  WindGustSpeed = request.args.get(\"WindGustSpeed\")\n",
        "  WindSpeed9am = request.args.get(\"WindSpeed9am\")\n",
        "  WindSpeed3pm = request.args.get(\"WindSpeed3pm\")\n",
        "  Humidity9am = request.args.get(\"Humidity9am\")\n",
        "  Humidity3pm = request.args.get(\"Humidity3pm\")\n",
        "  Pressure9am = request.args.get(\"Pressure9am\")\n",
        "  Pressure3pm = request.args.get(\"Pressure3pm\")\n",
        "  Cloud9am = request.args.get(\"Cloud9am\")\n",
        "  Cloud3pm = request.args.get(\"Cloud3pm\")\n",
        "  Temp9am = request.args.get(\"Temp9am\")\n",
        "  Temp3pm = request.args.get(\"Temp3pm\")\n",
        "  lis = [[MinTemp, MaxTemp, Rainfall, Evaporation, Sunshine, WindGustSpeed, WindSpeed9am, WindSpeed3pm, Humidity9am, Humidity3pm, Pressure9am, Pressure3pm ,Cloud9am, Cloud3pm, Temp9am, Temp3pm\t]]\n",
        "  payload_scoring = {\"input_data\": [{\"field\": [[\"MinTemp\", \"MaxTemp\", \"Rainfall\", \"Evaporation\", \"Sunshine\", \"WindGustSpeed\", \"WindSpeed9am\", \"WindSpeed3pm\", \"Humidity9am\", \"Humidity3pm\", \n",
        "                                              \"Pressure9am\", \"Pressure3pm\" ,\"Cloud9am\", \"Cloud3pm\", \"Temp9am\", \"Temp3pm\"]], \n",
        "                                             \"values\": lis}]}\n",
        "  response_scoring = requests.post('https://us-south.ml.cloud.ibm.com/ml/v4/deployments/988a35a4-5d94-4dff-81e8-0fd5e93519f4/predictions?version=2022-11-22', json=payload_scoring,\n",
        " headers={'Authorization': 'Bearer ' + mltoken})\n",
        "  pred = response_scoring.json() \n",
        "  p = pred['predictions'][0]['values'][0][0]\n",
        "  return render_template(\"pred_out.html\", Prediction_result = p)\n",
        "\n",
        "@app.route(\"/trend_in\")\n",
        "def trend_in():\n",
        "  return render_template(\"trend_in.html\")\n",
        "\n",
        "@app.route(\"/trend_out\")\n",
        "def trend_out():\n",
        "  loc = request.args.get(\"locations\")\n",
        "  yr = request.args.get(\"year\")\n",
        "  df['Date'] = pd.to_datetime(df['Date'])  \n",
        "  sd = str(yr)+'-1-1'\n",
        "  sd = datetime.strptime(sd, '%Y-%m-%d')\n",
        "  ed = str(yr)+'-12-31'\n",
        "  ed = datetime.strptime(ed, '%Y-%m-%d')\n",
        "  date_mask = (df['Date'] >= sd ) & (df['Date'] <= ed)\n",
        "  loc_mask = (df['Location']==loc)\n",
        "  mask = date_mask & loc_mask\n",
        "  data = df.loc[mask]\n",
        "  return render_template(\"trend_out.html\", tab = data.to_html(), loc=loc, yr = yr)\n",
        "\n",
        "if __name__ == \"__main__\":\n",
        "    app.run() "
      ],
      "metadata": {
        "colab": {
          "base_uri": "https://localhost:8080/"
        },
        "id": "Sccw1jLTZYGD",
        "outputId": "9250933a-0a62-4d44-8c0f-d59b1423ce6e"
      },
      "execution_count": 8,
      "outputs": [
        {
          "output_type": "stream",
          "name": "stdout",
          "text": [
            " * Serving Flask app \"__main__\" (lazy loading)\n",
            " * Environment: production\n",
            "\u001b[31m   WARNING: This is a development server. Do not use it in a production deployment.\u001b[0m\n",
            "\u001b[2m   Use a production WSGI server instead.\u001b[0m\n",
            " * Debug mode: off\n"
          ]
        },
        {
          "output_type": "stream",
          "name": "stderr",
          "text": [
            "INFO:werkzeug: * Running on http://127.0.0.1:5000/ (Press CTRL+C to quit)\n"
          ]
        },
        {
          "output_type": "stream",
          "name": "stdout",
          "text": [
            " * Running on http://6103-34-126-138-133.ngrok.io\n",
            " * Traffic stats available on http://127.0.0.1:4040\n"
          ]
        },
        {
          "output_type": "stream",
          "name": "stderr",
          "text": [
            "INFO:werkzeug:127.0.0.1 - - [22/Nov/2022 17:22:05] \"\u001b[37mGET / HTTP/1.1\u001b[0m\" 200 -\n",
            "INFO:werkzeug:127.0.0.1 - - [22/Nov/2022 17:22:06] \"\u001b[33mGET /favicon.ico HTTP/1.1\u001b[0m\" 404 -\n",
            "INFO:werkzeug:127.0.0.1 - - [22/Nov/2022 17:22:10] \"\u001b[37mGET /pred_in HTTP/1.1\u001b[0m\" 200 -\n",
            "INFO:werkzeug:127.0.0.1 - - [22/Nov/2022 17:23:09] \"\u001b[37mGET /pred_out?Date=2022-11-24&location=NorfolkIsland&MinTemp=12.3&MaxTemp=23.2&Rainfall=12.3&Evaporation=33.2&Sunshine=2.0&WindGustDir=SW&WindGustSpeed=12&WindDir9am=ENE&WindDir3PM=ENE&WindSpeed9am=21&WindSpeed3pm=32&Humidity9am=12&Humidity3pm=23&Pressure9am=23&Pressure3pm=23&Cloud9am=12&Cloud3pm=12&Temp9am=23&Temp3pm=12&RainToday=Yes HTTP/1.1\u001b[0m\" 200 -\n",
            "INFO:werkzeug:127.0.0.1 - - [22/Nov/2022 17:23:11] \"\u001b[37mGET /trend_in HTTP/1.1\u001b[0m\" 200 -\n",
            "INFO:werkzeug:127.0.0.1 - - [22/Nov/2022 17:23:17] \"\u001b[37mGET /trend_out?locations=NorfolkIsland&year=2012 HTTP/1.1\u001b[0m\" 200 -\n"
          ]
        }
      ]
    }
  ]
}
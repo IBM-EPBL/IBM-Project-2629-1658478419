{
  "nbformat": 4,
  "nbformat_minor": 0,
  "metadata": {
    "colab": {
      "provenance": [],
      "collapsed_sections": [],
      "authorship_tag": "ABX9TyMhkQjdQJ3sw3Lg2P7reLaC",
      "include_colab_link": true
    },
    "kernelspec": {
      "name": "python3",
      "display_name": "Python 3"
    },
    "language_info": {
      "name": "python"
    },
    "accelerator": "GPU",
    "gpuClass": "standard"
  },
  "cells": [
    {
      "cell_type": "markdown",
      "metadata": {
        "id": "view-in-github",
        "colab_type": "text"
      },
      "source": [
        "<a href=\"https://colab.research.google.com/github/IBM-EPBL/IBM-Project-2629-1658478419/blob/main/Project%20Development%20Phase/Sprint%203/Sprint_3_Model_Building.ipynb\" target=\"_parent\"><img src=\"https://colab.research.google.com/assets/colab-badge.svg\" alt=\"Open In Colab\"/></a>"
      ]
    },
    {
      "cell_type": "code",
      "source": [
        "!git clone https://github.com/IBM-EPBL/IBM-Project-2629-1658478419.git"
      ],
      "metadata": {
        "colab": {
          "base_uri": "https://localhost:8080/"
        },
        "id": "w4oir6aXZmri",
        "outputId": "51f91749-0ee5-4d35-e598-f59c3af1a757"
      },
      "execution_count": null,
      "outputs": [
        {
          "output_type": "stream",
          "name": "stdout",
          "text": [
            "Cloning into 'IBM-Project-2629-1658478419'...\n",
            "remote: Enumerating objects: 605, done.\u001b[K\n",
            "remote: Counting objects: 100% (225/225), done.\u001b[K\n",
            "remote: Compressing objects: 100% (153/153), done.\u001b[K\n",
            "remote: Total 605 (delta 87), reused 141 (delta 61), pack-reused 380\u001b[K\n",
            "Receiving objects: 100% (605/605), 17.75 MiB | 13.50 MiB/s, done.\n",
            "Resolving deltas: 100% (206/206), done.\n"
          ]
        }
      ]
    },
    {
      "cell_type": "code",
      "source": [
        "import pickle\n",
        "\n",
        "filen = \"/content/IBM-Project-2629-1658478419/Project Development Phase/Sprint 2/Models/KNN_rainfall.pkl\"\n",
        "model = pickle.load(open(filen, 'rb'))"
      ],
      "metadata": {
        "id": "51pmlRXlRV6c"
      },
      "execution_count": null,
      "outputs": []
    },
    {
      "cell_type": "code",
      "source": [
        "### PREDICTION EXAMPLE ####\n",
        "\n",
        "MinTemp = float(input())\n",
        "MaxTemp = float(input())\n",
        "Rainfall = float(input())\n",
        "Evaporation = float(input()) \n",
        "Sunshine = float(input())\n",
        "WindGustSpeed = float(input())\n",
        "WindSpeed9am = float(input())\n",
        "WindSpeed3pm = float(input())\n",
        "Humidity9am = float(input())\n",
        "Humidity3pm = float(input())\n",
        "Pressure9am = float(input())\n",
        "Pressure3pm = float(input())\n",
        "Cloud9am = float(input())\n",
        "Cloud3pm = float(input())\n",
        "Temp9am = float(input())\n",
        "Temp3pm = float(input())\n",
        "lis = [[MinTemp, MaxTemp, Rainfall, Evaporation, Sunshine, WindGustSpeed, WindSpeed9am, WindSpeed3pm, Humidity9am, Humidity3pm, Pressure9am, Pressure3pm ,Cloud9am, Cloud3pm, Temp9am, Temp3pm\t]]\n",
        "\n",
        "pred = model.predict(lis)\n",
        "pred"
      ],
      "metadata": {
        "colab": {
          "base_uri": "https://localhost:8080/"
        },
        "id": "8prksudfRV3F",
        "outputId": "7e0d3031-27e7-48d6-950c-aa78d3215454"
      },
      "execution_count": null,
      "outputs": [
        {
          "name": "stdout",
          "output_type": "stream",
          "text": [
            "13.4\n",
            "22.9\n",
            "0.6\n",
            "0.2\n",
            "0.4\n",
            "44.0\n",
            "20.0\n",
            "24.0\n",
            "71.0\n",
            "22.0\n",
            "1007.7\n",
            "1007.1\n",
            "8\n",
            "16.9\n",
            "21.8\n",
            "21.8\n"
          ]
        },
        {
          "output_type": "stream",
          "name": "stderr",
          "text": [
            "/usr/local/lib/python3.7/dist-packages/sklearn/base.py:451: UserWarning: X does not have valid feature names, but KNeighborsClassifier was fitted with feature names\n",
            "  \"X does not have valid feature names, but\"\n"
          ]
        },
        {
          "output_type": "execute_result",
          "data": {
            "text/plain": [
              "array(['No'], dtype=object)"
            ]
          },
          "metadata": {},
          "execution_count": 7
        }
      ]
    },
    {
      "cell_type": "code",
      "execution_count": null,
      "metadata": {
        "colab": {
          "base_uri": "https://localhost:8080/"
        },
        "id": "M_Qe9ZvQEfz2",
        "outputId": "3f184e15-9f24-4595-bacb-16e1ec49d399"
      },
      "outputs": [
        {
          "output_type": "stream",
          "name": "stdout",
          "text": [
            "Looking in indexes: https://pypi.org/simple, https://us-python.pkg.dev/colab-wheels/public/simple/\n",
            "Collecting flask-ngrok\n",
            "  Downloading flask_ngrok-0.0.25-py3-none-any.whl (3.1 kB)\n",
            "Requirement already satisfied: requests in /usr/local/lib/python3.7/dist-packages (from flask-ngrok) (2.23.0)\n",
            "Requirement already satisfied: Flask>=0.8 in /usr/local/lib/python3.7/dist-packages (from flask-ngrok) (1.1.4)\n",
            "Requirement already satisfied: click<8.0,>=5.1 in /usr/local/lib/python3.7/dist-packages (from Flask>=0.8->flask-ngrok) (7.1.2)\n",
            "Requirement already satisfied: Werkzeug<2.0,>=0.15 in /usr/local/lib/python3.7/dist-packages (from Flask>=0.8->flask-ngrok) (1.0.1)\n",
            "Requirement already satisfied: itsdangerous<2.0,>=0.24 in /usr/local/lib/python3.7/dist-packages (from Flask>=0.8->flask-ngrok) (1.1.0)\n",
            "Requirement already satisfied: Jinja2<3.0,>=2.10.1 in /usr/local/lib/python3.7/dist-packages (from Flask>=0.8->flask-ngrok) (2.11.3)\n",
            "Requirement already satisfied: MarkupSafe>=0.23 in /usr/local/lib/python3.7/dist-packages (from Jinja2<3.0,>=2.10.1->Flask>=0.8->flask-ngrok) (2.0.1)\n",
            "Requirement already satisfied: certifi>=2017.4.17 in /usr/local/lib/python3.7/dist-packages (from requests->flask-ngrok) (2022.9.24)\n",
            "Requirement already satisfied: chardet<4,>=3.0.2 in /usr/local/lib/python3.7/dist-packages (from requests->flask-ngrok) (3.0.4)\n",
            "Requirement already satisfied: idna<3,>=2.5 in /usr/local/lib/python3.7/dist-packages (from requests->flask-ngrok) (2.10)\n",
            "Requirement already satisfied: urllib3!=1.25.0,!=1.25.1,<1.26,>=1.21.1 in /usr/local/lib/python3.7/dist-packages (from requests->flask-ngrok) (1.24.3)\n",
            "Installing collected packages: flask-ngrok\n",
            "Successfully installed flask-ngrok-0.0.25\n"
          ]
        }
      ],
      "source": [
        "!pip install flask-ngrok"
      ]
    },
    {
      "cell_type": "code",
      "execution_count": null,
      "metadata": {
        "colab": {
          "base_uri": "https://localhost:8080/"
        },
        "id": "zez4lIYZEkij",
        "outputId": "e41e5e9a-96aa-4deb-a52f-0ce07d01f6c6"
      },
      "outputs": [
        {
          "output_type": "stream",
          "name": "stdout",
          "text": [
            "Looking in indexes: https://pypi.org/simple, https://us-python.pkg.dev/colab-wheels/public/simple/\n",
            "Collecting pyngrok==4.1.1\n",
            "  Downloading pyngrok-4.1.1.tar.gz (18 kB)\n",
            "Requirement already satisfied: future in /usr/local/lib/python3.7/dist-packages (from pyngrok==4.1.1) (0.16.0)\n",
            "Requirement already satisfied: PyYAML in /usr/local/lib/python3.7/dist-packages (from pyngrok==4.1.1) (6.0)\n",
            "Building wheels for collected packages: pyngrok\n",
            "  Building wheel for pyngrok (setup.py) ... \u001b[?25l\u001b[?25hdone\n",
            "  Created wheel for pyngrok: filename=pyngrok-4.1.1-py3-none-any.whl size=15984 sha256=87f55aaa2e433614f2713d967b04c8746e84b048e5d8daec6cb28f95fab87770\n",
            "  Stored in directory: /root/.cache/pip/wheels/b1/d9/12/045a042fee3127dc40ba6f5df2798aa2df38c414bf533ca765\n",
            "Successfully built pyngrok\n",
            "Installing collected packages: pyngrok\n",
            "Successfully installed pyngrok-4.1.1\n"
          ]
        }
      ],
      "source": [
        "!pip install pyngrok==4.1.1"
      ]
    },
    {
      "cell_type": "code",
      "execution_count": null,
      "metadata": {
        "colab": {
          "base_uri": "https://localhost:8080/"
        },
        "id": "s8VDw58CEkfH",
        "outputId": "ad2007e6-890d-4873-fc94-8a44bfdc84dd"
      },
      "outputs": [
        {
          "output_type": "stream",
          "name": "stdout",
          "text": [
            "Authtoken saved to configuration file: /root/.ngrok2/ngrok.yml\n"
          ]
        }
      ],
      "source": [
        "!ngrok authtoken 23Jg2oDy2N9PJD3njx9iWFHSfCs_3J7KXYfQXtzxHX3a5digi"
      ]
    },
    {
      "cell_type": "code",
      "source": [
        "import pandas as pd\n",
        "\n",
        "df = pd.read_csv(\"/content/IBM-Project-2629-1658478419/Project Development Phase/Sprint 1/weatherAUS.csv\")"
      ],
      "metadata": {
        "id": "QZTJmNXbhSgk"
      },
      "execution_count": null,
      "outputs": []
    },
    {
      "cell_type": "code",
      "source": [
        "from flask import Flask, render_template, request\n",
        "from flask_ngrok import run_with_ngrok\n",
        "from datetime import datetime\n",
        "#/content/IBM-Project-2629-1658478419/Project Development Phase/Sprint 3/HTML Files\n",
        "app = Flask(__name__,template_folder=\"/content/IBM-Project-2629-1658478419/Project Development Phase/Sprint 3/HTML Files/\")\n",
        "run_with_ngrok(app)\n",
        "\n",
        "@app.route(\"/\")\n",
        "def prec():\n",
        "  return render_template(\"Precautions.html\")\n",
        "\n",
        "@app.route(\"/pred_in\")\n",
        "def pred_in():\n",
        "  return render_template(\"pred_in.html\")\n",
        "\n",
        "@app.route(\"/pred_out\")\n",
        "def pred_out():\n",
        "  MinTemp = request.args.get(\"MinTemp\")\n",
        "  MaxTemp = request.args.get(\"MaxTemp\")\n",
        "  Rainfall = request.args.get(\"Rainfall\")\n",
        "  Evaporation = request.args.get(\"Evaporation\")\n",
        "  Sunshine = request.args.get(\"Sunshine\")\n",
        "  WindGustSpeed = request.args.get(\"WindGustSpeed\")\n",
        "  WindSpeed9am = request.args.get(\"WindSpeed9am\")\n",
        "  WindSpeed3pm = request.args.get(\"WindSpeed3pm\")\n",
        "  Humidity9am = request.args.get(\"Humidity9am\")\n",
        "  Humidity3pm = request.args.get(\"Humidity3pm\")\n",
        "  Pressure9am = request.args.get(\"Pressure9am\")\n",
        "  Pressure3pm = request.args.get(\"Pressure3pm\")\n",
        "  Cloud9am = request.args.get(\"Cloud9am\")\n",
        "  Cloud3pm = request.args.get(\"Cloud3pm\")\n",
        "  Temp9am = request.args.get(\"Temp9am\")\n",
        "  Temp3pm = request.args.get(\"Temp3pm\")\n",
        "  lis = [[MinTemp, MaxTemp, Rainfall, Evaporation, Sunshine, WindGustSpeed, WindSpeed9am, WindSpeed3pm, Humidity9am, Humidity3pm, Pressure9am, Pressure3pm ,Cloud9am, Cloud3pm, Temp9am, Temp3pm\t]]\n",
        "\n",
        "  [pred] = model.predict(lis)\n",
        "  return render_template(\"pred_out.html\", Prediction_result = pred)\n",
        "\n",
        "@app.route(\"/trend_in\")\n",
        "def trend_in():\n",
        "  return render_template(\"trend_in.html\")\n",
        "\n",
        "@app.route(\"/trend_out\")\n",
        "def trend_out():\n",
        "  loc = request.args.get(\"locations\")\n",
        "  yr = request.args.get(\"year\")\n",
        "  df['Date'] = pd.to_datetime(df['Date'])  \n",
        "  sd = str(yr)+'-1-1'\n",
        "  sd = datetime.strptime(sd, '%Y-%m-%d')\n",
        "  ed = str(yr)+'-12-31'\n",
        "  ed = datetime.strptime(ed, '%Y-%m-%d')\n",
        "  date_mask = (df['Date'] >= sd ) & (df['Date'] <= ed)\n",
        "  loc_mask = (df['Location']==loc)\n",
        "  mask = date_mask & loc_mask\n",
        "  data = df.loc[mask]\n",
        "  return render_template(\"trend_out.html\", tab = data.to_html(), loc=loc, yr = yr)\n",
        "\n",
        "if __name__ == \"__main__\":\n",
        "    app.run() "
      ],
      "metadata": {
        "colab": {
          "base_uri": "https://localhost:8080/"
        },
        "id": "Sccw1jLTZYGD",
        "outputId": "5ad75bb0-5fbd-4ff9-af0a-77acc8487b22"
      },
      "execution_count": null,
      "outputs": [
        {
          "output_type": "stream",
          "name": "stdout",
          "text": [
            " * Serving Flask app \"__main__\" (lazy loading)\n",
            " * Environment: production\n",
            "\u001b[31m   WARNING: This is a development server. Do not use it in a production deployment.\u001b[0m\n",
            "\u001b[2m   Use a production WSGI server instead.\u001b[0m\n",
            " * Debug mode: off\n"
          ]
        },
        {
          "output_type": "stream",
          "name": "stderr",
          "text": [
            "INFO:werkzeug: * Running on http://127.0.0.1:5000/ (Press CTRL+C to quit)\n"
          ]
        },
        {
          "output_type": "stream",
          "name": "stdout",
          "text": [
            " * Running on http://99ae-34-91-91-145.ngrok.io\n",
            " * Traffic stats available on http://127.0.0.1:4040\n"
          ]
        },
        {
          "output_type": "stream",
          "name": "stderr",
          "text": [
            "INFO:werkzeug:127.0.0.1 - - [13/Nov/2022 07:45:21] \"\u001b[37mGET / HTTP/1.1\u001b[0m\" 200 -\n",
            "INFO:werkzeug:127.0.0.1 - - [13/Nov/2022 07:45:22] \"\u001b[33mGET /favicon.ico HTTP/1.1\u001b[0m\" 404 -\n",
            "INFO:werkzeug:127.0.0.1 - - [13/Nov/2022 07:45:27] \"\u001b[37mGET /pred_in HTTP/1.1\u001b[0m\" 200 -\n",
            "INFO:werkzeug:127.0.0.1 - - [13/Nov/2022 07:45:30] \"\u001b[37mGET /trend_in HTTP/1.1\u001b[0m\" 200 -\n",
            "INFO:werkzeug:127.0.0.1 - - [13/Nov/2022 07:45:37] \"\u001b[37mGET /trend_out?locations=BadgerysCreek&year=2012 HTTP/1.1\u001b[0m\" 200 -\n"
          ]
        }
      ]
    }
  ]
}
{
  "nbformat": 4,
  "nbformat_minor": 0,
  "metadata": {
    "colab": {
      "provenance": [],
      "collapsed_sections": [],
      "include_colab_link": true
    },
    "kernelspec": {
      "name": "python3",
      "display_name": "Python 3"
    },
    "language_info": {
      "name": "python"
    },
    "accelerator": "GPU",
    "gpuClass": "standard"
  },
  "cells": [
    {
      "cell_type": "markdown",
      "metadata": {
        "id": "view-in-github",
        "colab_type": "text"
      },
      "source": [
        "<a href=\"https://colab.research.google.com/github/IBM-EPBL/IBM-Project-2629-1658478419/blob/main/IBM-Project-2629-1658478419/Project%20Development%20Phase/Sprint%201/RainfallPrediction.ipynb\" target=\"_parent\"><img src=\"https://colab.research.google.com/assets/colab-badge.svg\" alt=\"Open In Colab\"/></a>"
      ]
    },
    {
      "cell_type": "markdown",
      "source": [
        "### **DATA** **COLLECTION**"
      ],
      "metadata": {
        "id": "xyLqjqTMf24U"
      }
    },
    {
      "cell_type": "code",
      "execution_count": null,
      "metadata": {
        "id": "zgG2bV3Pbfip"
      },
      "outputs": [],
      "source": [
        "import pandas as pd\n",
        "import numpy as np\n",
        "import matplotlib.pyplot as plt\n",
        "import seaborn as sns\n",
        "from sklearn import datasets\n",
        "from sklearn.preprocessing import MinMaxScaler #use anything\n",
        "from sklearn.decomposition import PCA #use anything "
      ]
    },
    {
      "cell_type": "code",
      "source": [
        "df = pd.read_csv(\"/content/weatherAUS.csv\")"
      ],
      "metadata": {
        "id": "G-8iaobOctwB"
      },
      "execution_count": null,
      "outputs": []
    },
    {
      "cell_type": "markdown",
      "source": [
        "###**DATA ANALYSIS**"
      ],
      "metadata": {
        "id": "UrLSncKdgG4Y"
      }
    },
    {
      "cell_type": "markdown",
      "source": [
        "Following table showcases the first 5 rows of the dataset with all 23 columns data."
      ],
      "metadata": {
        "id": "sjPoCcxKevJn"
      }
    },
    {
      "cell_type": "code",
      "source": [
        "df.head()"
      ],
      "metadata": {
        "id": "ImnQACl9eckM",
        "colab": {
          "base_uri": "https://localhost:8080/",
          "height": 332
        },
        "outputId": "491106d1-9e5c-4b88-fa1b-590be45a62ec"
      },
      "execution_count": null,
      "outputs": [
        {
          "output_type": "execute_result",
          "data": {
            "text/plain": [
              "         Date Location  MinTemp  MaxTemp  Rainfall  Evaporation  Sunshine  \\\n",
              "0  2008-12-01   Albury     13.4     22.9       0.6          NaN       NaN   \n",
              "1  2008-12-02   Albury      7.4     25.1       0.0          NaN       NaN   \n",
              "2  2008-12-03   Albury     12.9     25.7       0.0          NaN       NaN   \n",
              "3  2008-12-04   Albury      9.2     28.0       0.0          NaN       NaN   \n",
              "4  2008-12-05   Albury     17.5     32.3       1.0          NaN       NaN   \n",
              "\n",
              "  WindGustDir  WindGustSpeed WindDir9am  ... Humidity9am  Humidity3pm  \\\n",
              "0           W           44.0          W  ...        71.0         22.0   \n",
              "1         WNW           44.0        NNW  ...        44.0         25.0   \n",
              "2         WSW           46.0          W  ...        38.0         30.0   \n",
              "3          NE           24.0         SE  ...        45.0         16.0   \n",
              "4           W           41.0        ENE  ...        82.0         33.0   \n",
              "\n",
              "   Pressure9am  Pressure3pm  Cloud9am  Cloud3pm  Temp9am  Temp3pm  RainToday  \\\n",
              "0       1007.7       1007.1       8.0       NaN     16.9     21.8         No   \n",
              "1       1010.6       1007.8       NaN       NaN     17.2     24.3         No   \n",
              "2       1007.6       1008.7       NaN       2.0     21.0     23.2         No   \n",
              "3       1017.6       1012.8       NaN       NaN     18.1     26.5         No   \n",
              "4       1010.8       1006.0       7.0       8.0     17.8     29.7         No   \n",
              "\n",
              "   RainTomorrow  \n",
              "0            No  \n",
              "1            No  \n",
              "2            No  \n",
              "3            No  \n",
              "4            No  \n",
              "\n",
              "[5 rows x 23 columns]"
            ],
            "text/html": [
              "\n",
              "  <div id=\"df-23db996b-b7d1-4ecc-ae20-6b0fe33253db\">\n",
              "    <div class=\"colab-df-container\">\n",
              "      <div>\n",
              "<style scoped>\n",
              "    .dataframe tbody tr th:only-of-type {\n",
              "        vertical-align: middle;\n",
              "    }\n",
              "\n",
              "    .dataframe tbody tr th {\n",
              "        vertical-align: top;\n",
              "    }\n",
              "\n",
              "    .dataframe thead th {\n",
              "        text-align: right;\n",
              "    }\n",
              "</style>\n",
              "<table border=\"1\" class=\"dataframe\">\n",
              "  <thead>\n",
              "    <tr style=\"text-align: right;\">\n",
              "      <th></th>\n",
              "      <th>Date</th>\n",
              "      <th>Location</th>\n",
              "      <th>MinTemp</th>\n",
              "      <th>MaxTemp</th>\n",
              "      <th>Rainfall</th>\n",
              "      <th>Evaporation</th>\n",
              "      <th>Sunshine</th>\n",
              "      <th>WindGustDir</th>\n",
              "      <th>WindGustSpeed</th>\n",
              "      <th>WindDir9am</th>\n",
              "      <th>...</th>\n",
              "      <th>Humidity9am</th>\n",
              "      <th>Humidity3pm</th>\n",
              "      <th>Pressure9am</th>\n",
              "      <th>Pressure3pm</th>\n",
              "      <th>Cloud9am</th>\n",
              "      <th>Cloud3pm</th>\n",
              "      <th>Temp9am</th>\n",
              "      <th>Temp3pm</th>\n",
              "      <th>RainToday</th>\n",
              "      <th>RainTomorrow</th>\n",
              "    </tr>\n",
              "  </thead>\n",
              "  <tbody>\n",
              "    <tr>\n",
              "      <th>0</th>\n",
              "      <td>2008-12-01</td>\n",
              "      <td>Albury</td>\n",
              "      <td>13.4</td>\n",
              "      <td>22.9</td>\n",
              "      <td>0.6</td>\n",
              "      <td>NaN</td>\n",
              "      <td>NaN</td>\n",
              "      <td>W</td>\n",
              "      <td>44.0</td>\n",
              "      <td>W</td>\n",
              "      <td>...</td>\n",
              "      <td>71.0</td>\n",
              "      <td>22.0</td>\n",
              "      <td>1007.7</td>\n",
              "      <td>1007.1</td>\n",
              "      <td>8.0</td>\n",
              "      <td>NaN</td>\n",
              "      <td>16.9</td>\n",
              "      <td>21.8</td>\n",
              "      <td>No</td>\n",
              "      <td>No</td>\n",
              "    </tr>\n",
              "    <tr>\n",
              "      <th>1</th>\n",
              "      <td>2008-12-02</td>\n",
              "      <td>Albury</td>\n",
              "      <td>7.4</td>\n",
              "      <td>25.1</td>\n",
              "      <td>0.0</td>\n",
              "      <td>NaN</td>\n",
              "      <td>NaN</td>\n",
              "      <td>WNW</td>\n",
              "      <td>44.0</td>\n",
              "      <td>NNW</td>\n",
              "      <td>...</td>\n",
              "      <td>44.0</td>\n",
              "      <td>25.0</td>\n",
              "      <td>1010.6</td>\n",
              "      <td>1007.8</td>\n",
              "      <td>NaN</td>\n",
              "      <td>NaN</td>\n",
              "      <td>17.2</td>\n",
              "      <td>24.3</td>\n",
              "      <td>No</td>\n",
              "      <td>No</td>\n",
              "    </tr>\n",
              "    <tr>\n",
              "      <th>2</th>\n",
              "      <td>2008-12-03</td>\n",
              "      <td>Albury</td>\n",
              "      <td>12.9</td>\n",
              "      <td>25.7</td>\n",
              "      <td>0.0</td>\n",
              "      <td>NaN</td>\n",
              "      <td>NaN</td>\n",
              "      <td>WSW</td>\n",
              "      <td>46.0</td>\n",
              "      <td>W</td>\n",
              "      <td>...</td>\n",
              "      <td>38.0</td>\n",
              "      <td>30.0</td>\n",
              "      <td>1007.6</td>\n",
              "      <td>1008.7</td>\n",
              "      <td>NaN</td>\n",
              "      <td>2.0</td>\n",
              "      <td>21.0</td>\n",
              "      <td>23.2</td>\n",
              "      <td>No</td>\n",
              "      <td>No</td>\n",
              "    </tr>\n",
              "    <tr>\n",
              "      <th>3</th>\n",
              "      <td>2008-12-04</td>\n",
              "      <td>Albury</td>\n",
              "      <td>9.2</td>\n",
              "      <td>28.0</td>\n",
              "      <td>0.0</td>\n",
              "      <td>NaN</td>\n",
              "      <td>NaN</td>\n",
              "      <td>NE</td>\n",
              "      <td>24.0</td>\n",
              "      <td>SE</td>\n",
              "      <td>...</td>\n",
              "      <td>45.0</td>\n",
              "      <td>16.0</td>\n",
              "      <td>1017.6</td>\n",
              "      <td>1012.8</td>\n",
              "      <td>NaN</td>\n",
              "      <td>NaN</td>\n",
              "      <td>18.1</td>\n",
              "      <td>26.5</td>\n",
              "      <td>No</td>\n",
              "      <td>No</td>\n",
              "    </tr>\n",
              "    <tr>\n",
              "      <th>4</th>\n",
              "      <td>2008-12-05</td>\n",
              "      <td>Albury</td>\n",
              "      <td>17.5</td>\n",
              "      <td>32.3</td>\n",
              "      <td>1.0</td>\n",
              "      <td>NaN</td>\n",
              "      <td>NaN</td>\n",
              "      <td>W</td>\n",
              "      <td>41.0</td>\n",
              "      <td>ENE</td>\n",
              "      <td>...</td>\n",
              "      <td>82.0</td>\n",
              "      <td>33.0</td>\n",
              "      <td>1010.8</td>\n",
              "      <td>1006.0</td>\n",
              "      <td>7.0</td>\n",
              "      <td>8.0</td>\n",
              "      <td>17.8</td>\n",
              "      <td>29.7</td>\n",
              "      <td>No</td>\n",
              "      <td>No</td>\n",
              "    </tr>\n",
              "  </tbody>\n",
              "</table>\n",
              "<p>5 rows × 23 columns</p>\n",
              "</div>\n",
              "      <button class=\"colab-df-convert\" onclick=\"convertToInteractive('df-23db996b-b7d1-4ecc-ae20-6b0fe33253db')\"\n",
              "              title=\"Convert this dataframe to an interactive table.\"\n",
              "              style=\"display:none;\">\n",
              "        \n",
              "  <svg xmlns=\"http://www.w3.org/2000/svg\" height=\"24px\"viewBox=\"0 0 24 24\"\n",
              "       width=\"24px\">\n",
              "    <path d=\"M0 0h24v24H0V0z\" fill=\"none\"/>\n",
              "    <path d=\"M18.56 5.44l.94 2.06.94-2.06 2.06-.94-2.06-.94-.94-2.06-.94 2.06-2.06.94zm-11 1L8.5 8.5l.94-2.06 2.06-.94-2.06-.94L8.5 2.5l-.94 2.06-2.06.94zm10 10l.94 2.06.94-2.06 2.06-.94-2.06-.94-.94-2.06-.94 2.06-2.06.94z\"/><path d=\"M17.41 7.96l-1.37-1.37c-.4-.4-.92-.59-1.43-.59-.52 0-1.04.2-1.43.59L10.3 9.45l-7.72 7.72c-.78.78-.78 2.05 0 2.83L4 21.41c.39.39.9.59 1.41.59.51 0 1.02-.2 1.41-.59l7.78-7.78 2.81-2.81c.8-.78.8-2.07 0-2.86zM5.41 20L4 18.59l7.72-7.72 1.47 1.35L5.41 20z\"/>\n",
              "  </svg>\n",
              "      </button>\n",
              "      \n",
              "  <style>\n",
              "    .colab-df-container {\n",
              "      display:flex;\n",
              "      flex-wrap:wrap;\n",
              "      gap: 12px;\n",
              "    }\n",
              "\n",
              "    .colab-df-convert {\n",
              "      background-color: #E8F0FE;\n",
              "      border: none;\n",
              "      border-radius: 50%;\n",
              "      cursor: pointer;\n",
              "      display: none;\n",
              "      fill: #1967D2;\n",
              "      height: 32px;\n",
              "      padding: 0 0 0 0;\n",
              "      width: 32px;\n",
              "    }\n",
              "\n",
              "    .colab-df-convert:hover {\n",
              "      background-color: #E2EBFA;\n",
              "      box-shadow: 0px 1px 2px rgba(60, 64, 67, 0.3), 0px 1px 3px 1px rgba(60, 64, 67, 0.15);\n",
              "      fill: #174EA6;\n",
              "    }\n",
              "\n",
              "    [theme=dark] .colab-df-convert {\n",
              "      background-color: #3B4455;\n",
              "      fill: #D2E3FC;\n",
              "    }\n",
              "\n",
              "    [theme=dark] .colab-df-convert:hover {\n",
              "      background-color: #434B5C;\n",
              "      box-shadow: 0px 1px 3px 1px rgba(0, 0, 0, 0.15);\n",
              "      filter: drop-shadow(0px 1px 2px rgba(0, 0, 0, 0.3));\n",
              "      fill: #FFFFFF;\n",
              "    }\n",
              "  </style>\n",
              "\n",
              "      <script>\n",
              "        const buttonEl =\n",
              "          document.querySelector('#df-23db996b-b7d1-4ecc-ae20-6b0fe33253db button.colab-df-convert');\n",
              "        buttonEl.style.display =\n",
              "          google.colab.kernel.accessAllowed ? 'block' : 'none';\n",
              "\n",
              "        async function convertToInteractive(key) {\n",
              "          const element = document.querySelector('#df-23db996b-b7d1-4ecc-ae20-6b0fe33253db');\n",
              "          const dataTable =\n",
              "            await google.colab.kernel.invokeFunction('convertToInteractive',\n",
              "                                                     [key], {});\n",
              "          if (!dataTable) return;\n",
              "\n",
              "          const docLinkHtml = 'Like what you see? Visit the ' +\n",
              "            '<a target=\"_blank\" href=https://colab.research.google.com/notebooks/data_table.ipynb>data table notebook</a>'\n",
              "            + ' to learn more about interactive tables.';\n",
              "          element.innerHTML = '';\n",
              "          dataTable['output_type'] = 'display_data';\n",
              "          await google.colab.output.renderOutput(dataTable, element);\n",
              "          const docLink = document.createElement('div');\n",
              "          docLink.innerHTML = docLinkHtml;\n",
              "          element.appendChild(docLink);\n",
              "        }\n",
              "      </script>\n",
              "    </div>\n",
              "  </div>\n",
              "  "
            ]
          },
          "metadata": {},
          "execution_count": 5
        },
        {
          "output_type": "stream",
          "name": "stdout",
          "text": [
            "Warning: Total number of columns (23) exceeds max_columns (20) limiting to first (20) columns.\n"
          ]
        }
      ]
    },
    {
      "cell_type": "markdown",
      "source": [
        "Table showcasing the last 5 rows with 23 columns of the dataset."
      ],
      "metadata": {
        "id": "Y7MYUGVfe86R"
      }
    },
    {
      "cell_type": "code",
      "source": [
        "df.tail()"
      ],
      "metadata": {
        "colab": {
          "base_uri": "https://localhost:8080/",
          "height": 386
        },
        "id": "0TSG4mezZlFS",
        "outputId": "e62e6a90-8e81-40a0-ad66-cff66c9570e0"
      },
      "execution_count": null,
      "outputs": [
        {
          "output_type": "execute_result",
          "data": {
            "text/plain": [
              "              Date Location  MinTemp  MaxTemp  Rainfall  Evaporation  \\\n",
              "145455  2017-06-21    Uluru      2.8     23.4       0.0          NaN   \n",
              "145456  2017-06-22    Uluru      3.6     25.3       0.0          NaN   \n",
              "145457  2017-06-23    Uluru      5.4     26.9       0.0          NaN   \n",
              "145458  2017-06-24    Uluru      7.8     27.0       0.0          NaN   \n",
              "145459  2017-06-25    Uluru     14.9      NaN       0.0          NaN   \n",
              "\n",
              "        Sunshine WindGustDir  WindGustSpeed WindDir9am  ... Humidity9am  \\\n",
              "145455       NaN           E           31.0         SE  ...        51.0   \n",
              "145456       NaN         NNW           22.0         SE  ...        56.0   \n",
              "145457       NaN           N           37.0         SE  ...        53.0   \n",
              "145458       NaN          SE           28.0        SSE  ...        51.0   \n",
              "145459       NaN         NaN            NaN        ESE  ...        62.0   \n",
              "\n",
              "        Humidity3pm  Pressure9am  Pressure3pm  Cloud9am  Cloud3pm  Temp9am  \\\n",
              "145455         24.0       1024.6       1020.3       NaN       NaN     10.1   \n",
              "145456         21.0       1023.5       1019.1       NaN       NaN     10.9   \n",
              "145457         24.0       1021.0       1016.8       NaN       NaN     12.5   \n",
              "145458         24.0       1019.4       1016.5       3.0       2.0     15.1   \n",
              "145459         36.0       1020.2       1017.9       8.0       8.0     15.0   \n",
              "\n",
              "        Temp3pm  RainToday  RainTomorrow  \n",
              "145455     22.4         No            No  \n",
              "145456     24.5         No            No  \n",
              "145457     26.1         No            No  \n",
              "145458     26.0         No            No  \n",
              "145459     20.9         No           NaN  \n",
              "\n",
              "[5 rows x 23 columns]"
            ],
            "text/html": [
              "\n",
              "  <div id=\"df-1972165d-d10d-4386-859f-06466a4e0ad4\">\n",
              "    <div class=\"colab-df-container\">\n",
              "      <div>\n",
              "<style scoped>\n",
              "    .dataframe tbody tr th:only-of-type {\n",
              "        vertical-align: middle;\n",
              "    }\n",
              "\n",
              "    .dataframe tbody tr th {\n",
              "        vertical-align: top;\n",
              "    }\n",
              "\n",
              "    .dataframe thead th {\n",
              "        text-align: right;\n",
              "    }\n",
              "</style>\n",
              "<table border=\"1\" class=\"dataframe\">\n",
              "  <thead>\n",
              "    <tr style=\"text-align: right;\">\n",
              "      <th></th>\n",
              "      <th>Date</th>\n",
              "      <th>Location</th>\n",
              "      <th>MinTemp</th>\n",
              "      <th>MaxTemp</th>\n",
              "      <th>Rainfall</th>\n",
              "      <th>Evaporation</th>\n",
              "      <th>Sunshine</th>\n",
              "      <th>WindGustDir</th>\n",
              "      <th>WindGustSpeed</th>\n",
              "      <th>WindDir9am</th>\n",
              "      <th>...</th>\n",
              "      <th>Humidity9am</th>\n",
              "      <th>Humidity3pm</th>\n",
              "      <th>Pressure9am</th>\n",
              "      <th>Pressure3pm</th>\n",
              "      <th>Cloud9am</th>\n",
              "      <th>Cloud3pm</th>\n",
              "      <th>Temp9am</th>\n",
              "      <th>Temp3pm</th>\n",
              "      <th>RainToday</th>\n",
              "      <th>RainTomorrow</th>\n",
              "    </tr>\n",
              "  </thead>\n",
              "  <tbody>\n",
              "    <tr>\n",
              "      <th>145455</th>\n",
              "      <td>2017-06-21</td>\n",
              "      <td>Uluru</td>\n",
              "      <td>2.8</td>\n",
              "      <td>23.4</td>\n",
              "      <td>0.0</td>\n",
              "      <td>NaN</td>\n",
              "      <td>NaN</td>\n",
              "      <td>E</td>\n",
              "      <td>31.0</td>\n",
              "      <td>SE</td>\n",
              "      <td>...</td>\n",
              "      <td>51.0</td>\n",
              "      <td>24.0</td>\n",
              "      <td>1024.6</td>\n",
              "      <td>1020.3</td>\n",
              "      <td>NaN</td>\n",
              "      <td>NaN</td>\n",
              "      <td>10.1</td>\n",
              "      <td>22.4</td>\n",
              "      <td>No</td>\n",
              "      <td>No</td>\n",
              "    </tr>\n",
              "    <tr>\n",
              "      <th>145456</th>\n",
              "      <td>2017-06-22</td>\n",
              "      <td>Uluru</td>\n",
              "      <td>3.6</td>\n",
              "      <td>25.3</td>\n",
              "      <td>0.0</td>\n",
              "      <td>NaN</td>\n",
              "      <td>NaN</td>\n",
              "      <td>NNW</td>\n",
              "      <td>22.0</td>\n",
              "      <td>SE</td>\n",
              "      <td>...</td>\n",
              "      <td>56.0</td>\n",
              "      <td>21.0</td>\n",
              "      <td>1023.5</td>\n",
              "      <td>1019.1</td>\n",
              "      <td>NaN</td>\n",
              "      <td>NaN</td>\n",
              "      <td>10.9</td>\n",
              "      <td>24.5</td>\n",
              "      <td>No</td>\n",
              "      <td>No</td>\n",
              "    </tr>\n",
              "    <tr>\n",
              "      <th>145457</th>\n",
              "      <td>2017-06-23</td>\n",
              "      <td>Uluru</td>\n",
              "      <td>5.4</td>\n",
              "      <td>26.9</td>\n",
              "      <td>0.0</td>\n",
              "      <td>NaN</td>\n",
              "      <td>NaN</td>\n",
              "      <td>N</td>\n",
              "      <td>37.0</td>\n",
              "      <td>SE</td>\n",
              "      <td>...</td>\n",
              "      <td>53.0</td>\n",
              "      <td>24.0</td>\n",
              "      <td>1021.0</td>\n",
              "      <td>1016.8</td>\n",
              "      <td>NaN</td>\n",
              "      <td>NaN</td>\n",
              "      <td>12.5</td>\n",
              "      <td>26.1</td>\n",
              "      <td>No</td>\n",
              "      <td>No</td>\n",
              "    </tr>\n",
              "    <tr>\n",
              "      <th>145458</th>\n",
              "      <td>2017-06-24</td>\n",
              "      <td>Uluru</td>\n",
              "      <td>7.8</td>\n",
              "      <td>27.0</td>\n",
              "      <td>0.0</td>\n",
              "      <td>NaN</td>\n",
              "      <td>NaN</td>\n",
              "      <td>SE</td>\n",
              "      <td>28.0</td>\n",
              "      <td>SSE</td>\n",
              "      <td>...</td>\n",
              "      <td>51.0</td>\n",
              "      <td>24.0</td>\n",
              "      <td>1019.4</td>\n",
              "      <td>1016.5</td>\n",
              "      <td>3.0</td>\n",
              "      <td>2.0</td>\n",
              "      <td>15.1</td>\n",
              "      <td>26.0</td>\n",
              "      <td>No</td>\n",
              "      <td>No</td>\n",
              "    </tr>\n",
              "    <tr>\n",
              "      <th>145459</th>\n",
              "      <td>2017-06-25</td>\n",
              "      <td>Uluru</td>\n",
              "      <td>14.9</td>\n",
              "      <td>NaN</td>\n",
              "      <td>0.0</td>\n",
              "      <td>NaN</td>\n",
              "      <td>NaN</td>\n",
              "      <td>NaN</td>\n",
              "      <td>NaN</td>\n",
              "      <td>ESE</td>\n",
              "      <td>...</td>\n",
              "      <td>62.0</td>\n",
              "      <td>36.0</td>\n",
              "      <td>1020.2</td>\n",
              "      <td>1017.9</td>\n",
              "      <td>8.0</td>\n",
              "      <td>8.0</td>\n",
              "      <td>15.0</td>\n",
              "      <td>20.9</td>\n",
              "      <td>No</td>\n",
              "      <td>NaN</td>\n",
              "    </tr>\n",
              "  </tbody>\n",
              "</table>\n",
              "<p>5 rows × 23 columns</p>\n",
              "</div>\n",
              "      <button class=\"colab-df-convert\" onclick=\"convertToInteractive('df-1972165d-d10d-4386-859f-06466a4e0ad4')\"\n",
              "              title=\"Convert this dataframe to an interactive table.\"\n",
              "              style=\"display:none;\">\n",
              "        \n",
              "  <svg xmlns=\"http://www.w3.org/2000/svg\" height=\"24px\"viewBox=\"0 0 24 24\"\n",
              "       width=\"24px\">\n",
              "    <path d=\"M0 0h24v24H0V0z\" fill=\"none\"/>\n",
              "    <path d=\"M18.56 5.44l.94 2.06.94-2.06 2.06-.94-2.06-.94-.94-2.06-.94 2.06-2.06.94zm-11 1L8.5 8.5l.94-2.06 2.06-.94-2.06-.94L8.5 2.5l-.94 2.06-2.06.94zm10 10l.94 2.06.94-2.06 2.06-.94-2.06-.94-.94-2.06-.94 2.06-2.06.94z\"/><path d=\"M17.41 7.96l-1.37-1.37c-.4-.4-.92-.59-1.43-.59-.52 0-1.04.2-1.43.59L10.3 9.45l-7.72 7.72c-.78.78-.78 2.05 0 2.83L4 21.41c.39.39.9.59 1.41.59.51 0 1.02-.2 1.41-.59l7.78-7.78 2.81-2.81c.8-.78.8-2.07 0-2.86zM5.41 20L4 18.59l7.72-7.72 1.47 1.35L5.41 20z\"/>\n",
              "  </svg>\n",
              "      </button>\n",
              "      \n",
              "  <style>\n",
              "    .colab-df-container {\n",
              "      display:flex;\n",
              "      flex-wrap:wrap;\n",
              "      gap: 12px;\n",
              "    }\n",
              "\n",
              "    .colab-df-convert {\n",
              "      background-color: #E8F0FE;\n",
              "      border: none;\n",
              "      border-radius: 50%;\n",
              "      cursor: pointer;\n",
              "      display: none;\n",
              "      fill: #1967D2;\n",
              "      height: 32px;\n",
              "      padding: 0 0 0 0;\n",
              "      width: 32px;\n",
              "    }\n",
              "\n",
              "    .colab-df-convert:hover {\n",
              "      background-color: #E2EBFA;\n",
              "      box-shadow: 0px 1px 2px rgba(60, 64, 67, 0.3), 0px 1px 3px 1px rgba(60, 64, 67, 0.15);\n",
              "      fill: #174EA6;\n",
              "    }\n",
              "\n",
              "    [theme=dark] .colab-df-convert {\n",
              "      background-color: #3B4455;\n",
              "      fill: #D2E3FC;\n",
              "    }\n",
              "\n",
              "    [theme=dark] .colab-df-convert:hover {\n",
              "      background-color: #434B5C;\n",
              "      box-shadow: 0px 1px 3px 1px rgba(0, 0, 0, 0.15);\n",
              "      filter: drop-shadow(0px 1px 2px rgba(0, 0, 0, 0.3));\n",
              "      fill: #FFFFFF;\n",
              "    }\n",
              "  </style>\n",
              "\n",
              "      <script>\n",
              "        const buttonEl =\n",
              "          document.querySelector('#df-1972165d-d10d-4386-859f-06466a4e0ad4 button.colab-df-convert');\n",
              "        buttonEl.style.display =\n",
              "          google.colab.kernel.accessAllowed ? 'block' : 'none';\n",
              "\n",
              "        async function convertToInteractive(key) {\n",
              "          const element = document.querySelector('#df-1972165d-d10d-4386-859f-06466a4e0ad4');\n",
              "          const dataTable =\n",
              "            await google.colab.kernel.invokeFunction('convertToInteractive',\n",
              "                                                     [key], {});\n",
              "          if (!dataTable) return;\n",
              "\n",
              "          const docLinkHtml = 'Like what you see? Visit the ' +\n",
              "            '<a target=\"_blank\" href=https://colab.research.google.com/notebooks/data_table.ipynb>data table notebook</a>'\n",
              "            + ' to learn more about interactive tables.';\n",
              "          element.innerHTML = '';\n",
              "          dataTable['output_type'] = 'display_data';\n",
              "          await google.colab.output.renderOutput(dataTable, element);\n",
              "          const docLink = document.createElement('div');\n",
              "          docLink.innerHTML = docLinkHtml;\n",
              "          element.appendChild(docLink);\n",
              "        }\n",
              "      </script>\n",
              "    </div>\n",
              "  </div>\n",
              "  "
            ]
          },
          "metadata": {},
          "execution_count": 6
        }
      ]
    },
    {
      "cell_type": "markdown",
      "source": [
        "Displaying all the column names of the dataset"
      ],
      "metadata": {
        "id": "5dznjSfzfsMt"
      }
    },
    {
      "cell_type": "code",
      "source": [
        "df.columns"
      ],
      "metadata": {
        "colab": {
          "base_uri": "https://localhost:8080/"
        },
        "id": "8qAMuBMMZ_Cs",
        "outputId": "7794c14f-1c22-4b64-a365-7dc4b08bf7b9"
      },
      "execution_count": null,
      "outputs": [
        {
          "output_type": "execute_result",
          "data": {
            "text/plain": [
              "Index(['Date', 'Location', 'MinTemp', 'MaxTemp', 'Rainfall', 'Evaporation',\n",
              "       'Sunshine', 'WindGustDir', 'WindGustSpeed', 'WindDir9am', 'WindDir3pm',\n",
              "       'WindSpeed9am', 'WindSpeed3pm', 'Humidity9am', 'Humidity3pm',\n",
              "       'Pressure9am', 'Pressure3pm', 'Cloud9am', 'Cloud3pm', 'Temp9am',\n",
              "       'Temp3pm', 'RainToday', 'RainTomorrow'],\n",
              "      dtype='object')"
            ]
          },
          "metadata": {},
          "execution_count": 7
        }
      ]
    },
    {
      "cell_type": "code",
      "source": [
        "df.shape"
      ],
      "metadata": {
        "colab": {
          "base_uri": "https://localhost:8080/"
        },
        "id": "I_X4nV_iaFsU",
        "outputId": "260910d2-7ff0-45cc-9115-ccabc934c9e6"
      },
      "execution_count": null,
      "outputs": [
        {
          "output_type": "execute_result",
          "data": {
            "text/plain": [
              "(145460, 23)"
            ]
          },
          "metadata": {},
          "execution_count": 9
        }
      ]
    },
    {
      "cell_type": "markdown",
      "source": [
        "This shows that the dataset contains of 145460 rows and 23 rows."
      ],
      "metadata": {
        "id": "kPqDWCQ6gD3b"
      }
    },
    {
      "cell_type": "markdown",
      "source": [
        "Displaying general information of the dataset like number of non-Null values, datatype."
      ],
      "metadata": {
        "id": "f3jDTFcFg6Rh"
      }
    },
    {
      "cell_type": "code",
      "source": [
        "df.info()"
      ],
      "metadata": {
        "colab": {
          "base_uri": "https://localhost:8080/"
        },
        "id": "Cs5qzpXkaLYP",
        "outputId": "52ffbec3-dd0e-4a92-a0bc-e46ee49fdd8e"
      },
      "execution_count": null,
      "outputs": [
        {
          "output_type": "stream",
          "name": "stdout",
          "text": [
            "<class 'pandas.core.frame.DataFrame'>\n",
            "RangeIndex: 145460 entries, 0 to 145459\n",
            "Data columns (total 23 columns):\n",
            " #   Column         Non-Null Count   Dtype  \n",
            "---  ------         --------------   -----  \n",
            " 0   Date           145460 non-null  object \n",
            " 1   Location       145460 non-null  object \n",
            " 2   MinTemp        143975 non-null  float64\n",
            " 3   MaxTemp        144199 non-null  float64\n",
            " 4   Rainfall       142199 non-null  float64\n",
            " 5   Evaporation    82670 non-null   float64\n",
            " 6   Sunshine       75625 non-null   float64\n",
            " 7   WindGustDir    135134 non-null  object \n",
            " 8   WindGustSpeed  135197 non-null  float64\n",
            " 9   WindDir9am     134894 non-null  object \n",
            " 10  WindDir3pm     141232 non-null  object \n",
            " 11  WindSpeed9am   143693 non-null  float64\n",
            " 12  WindSpeed3pm   142398 non-null  float64\n",
            " 13  Humidity9am    142806 non-null  float64\n",
            " 14  Humidity3pm    140953 non-null  float64\n",
            " 15  Pressure9am    130395 non-null  float64\n",
            " 16  Pressure3pm    130432 non-null  float64\n",
            " 17  Cloud9am       89572 non-null   float64\n",
            " 18  Cloud3pm       86102 non-null   float64\n",
            " 19  Temp9am        143693 non-null  float64\n",
            " 20  Temp3pm        141851 non-null  float64\n",
            " 21  RainToday      142199 non-null  object \n",
            " 22  RainTomorrow   142193 non-null  object \n",
            "dtypes: float64(16), object(7)\n",
            "memory usage: 25.5+ MB\n"
          ]
        }
      ]
    },
    {
      "cell_type": "markdown",
      "source": [
        "Describing the dataset by displaying the general parameters like mean, standard deviation, minimum and maximum values."
      ],
      "metadata": {
        "id": "owdLBMyShSOs"
      }
    },
    {
      "cell_type": "code",
      "source": [
        "df.describe()"
      ],
      "metadata": {
        "colab": {
          "base_uri": "https://localhost:8080/",
          "height": 364
        },
        "id": "irIXm1u-aPvK",
        "outputId": "d5c9a164-469e-4564-a009-e4ea57e90704"
      },
      "execution_count": null,
      "outputs": [
        {
          "output_type": "execute_result",
          "data": {
            "text/plain": [
              "             MinTemp        MaxTemp       Rainfall   Evaporation  \\\n",
              "count  143975.000000  144199.000000  142199.000000  82670.000000   \n",
              "mean       12.194034      23.221348       2.360918      5.468232   \n",
              "std         6.398495       7.119049       8.478060      4.193704   \n",
              "min        -8.500000      -4.800000       0.000000      0.000000   \n",
              "25%         7.600000      17.900000       0.000000      2.600000   \n",
              "50%        12.000000      22.600000       0.000000      4.800000   \n",
              "75%        16.900000      28.200000       0.800000      7.400000   \n",
              "max        33.900000      48.100000     371.000000    145.000000   \n",
              "\n",
              "           Sunshine  WindGustSpeed   WindSpeed9am   WindSpeed3pm  \\\n",
              "count  75625.000000  135197.000000  143693.000000  142398.000000   \n",
              "mean       7.611178      40.035230      14.043426      18.662657   \n",
              "std        3.785483      13.607062       8.915375       8.809800   \n",
              "min        0.000000       6.000000       0.000000       0.000000   \n",
              "25%        4.800000      31.000000       7.000000      13.000000   \n",
              "50%        8.400000      39.000000      13.000000      19.000000   \n",
              "75%       10.600000      48.000000      19.000000      24.000000   \n",
              "max       14.500000     135.000000     130.000000      87.000000   \n",
              "\n",
              "         Humidity9am    Humidity3pm   Pressure9am    Pressure3pm  \\\n",
              "count  142806.000000  140953.000000  130395.00000  130432.000000   \n",
              "mean       68.880831      51.539116    1017.64994    1015.255889   \n",
              "std        19.029164      20.795902       7.10653       7.037414   \n",
              "min         0.000000       0.000000     980.50000     977.100000   \n",
              "25%        57.000000      37.000000    1012.90000    1010.400000   \n",
              "50%        70.000000      52.000000    1017.60000    1015.200000   \n",
              "75%        83.000000      66.000000    1022.40000    1020.000000   \n",
              "max       100.000000     100.000000    1041.00000    1039.600000   \n",
              "\n",
              "           Cloud9am      Cloud3pm        Temp9am       Temp3pm  \n",
              "count  89572.000000  86102.000000  143693.000000  141851.00000  \n",
              "mean       4.447461      4.509930      16.990631      21.68339  \n",
              "std        2.887159      2.720357       6.488753       6.93665  \n",
              "min        0.000000      0.000000      -7.200000      -5.40000  \n",
              "25%        1.000000      2.000000      12.300000      16.60000  \n",
              "50%        5.000000      5.000000      16.700000      21.10000  \n",
              "75%        7.000000      7.000000      21.600000      26.40000  \n",
              "max        9.000000      9.000000      40.200000      46.70000  "
            ],
            "text/html": [
              "\n",
              "  <div id=\"df-365ab152-aac6-4b9d-8caf-e0e841a930d0\">\n",
              "    <div class=\"colab-df-container\">\n",
              "      <div>\n",
              "<style scoped>\n",
              "    .dataframe tbody tr th:only-of-type {\n",
              "        vertical-align: middle;\n",
              "    }\n",
              "\n",
              "    .dataframe tbody tr th {\n",
              "        vertical-align: top;\n",
              "    }\n",
              "\n",
              "    .dataframe thead th {\n",
              "        text-align: right;\n",
              "    }\n",
              "</style>\n",
              "<table border=\"1\" class=\"dataframe\">\n",
              "  <thead>\n",
              "    <tr style=\"text-align: right;\">\n",
              "      <th></th>\n",
              "      <th>MinTemp</th>\n",
              "      <th>MaxTemp</th>\n",
              "      <th>Rainfall</th>\n",
              "      <th>Evaporation</th>\n",
              "      <th>Sunshine</th>\n",
              "      <th>WindGustSpeed</th>\n",
              "      <th>WindSpeed9am</th>\n",
              "      <th>WindSpeed3pm</th>\n",
              "      <th>Humidity9am</th>\n",
              "      <th>Humidity3pm</th>\n",
              "      <th>Pressure9am</th>\n",
              "      <th>Pressure3pm</th>\n",
              "      <th>Cloud9am</th>\n",
              "      <th>Cloud3pm</th>\n",
              "      <th>Temp9am</th>\n",
              "      <th>Temp3pm</th>\n",
              "    </tr>\n",
              "  </thead>\n",
              "  <tbody>\n",
              "    <tr>\n",
              "      <th>count</th>\n",
              "      <td>143975.000000</td>\n",
              "      <td>144199.000000</td>\n",
              "      <td>142199.000000</td>\n",
              "      <td>82670.000000</td>\n",
              "      <td>75625.000000</td>\n",
              "      <td>135197.000000</td>\n",
              "      <td>143693.000000</td>\n",
              "      <td>142398.000000</td>\n",
              "      <td>142806.000000</td>\n",
              "      <td>140953.000000</td>\n",
              "      <td>130395.00000</td>\n",
              "      <td>130432.000000</td>\n",
              "      <td>89572.000000</td>\n",
              "      <td>86102.000000</td>\n",
              "      <td>143693.000000</td>\n",
              "      <td>141851.00000</td>\n",
              "    </tr>\n",
              "    <tr>\n",
              "      <th>mean</th>\n",
              "      <td>12.194034</td>\n",
              "      <td>23.221348</td>\n",
              "      <td>2.360918</td>\n",
              "      <td>5.468232</td>\n",
              "      <td>7.611178</td>\n",
              "      <td>40.035230</td>\n",
              "      <td>14.043426</td>\n",
              "      <td>18.662657</td>\n",
              "      <td>68.880831</td>\n",
              "      <td>51.539116</td>\n",
              "      <td>1017.64994</td>\n",
              "      <td>1015.255889</td>\n",
              "      <td>4.447461</td>\n",
              "      <td>4.509930</td>\n",
              "      <td>16.990631</td>\n",
              "      <td>21.68339</td>\n",
              "    </tr>\n",
              "    <tr>\n",
              "      <th>std</th>\n",
              "      <td>6.398495</td>\n",
              "      <td>7.119049</td>\n",
              "      <td>8.478060</td>\n",
              "      <td>4.193704</td>\n",
              "      <td>3.785483</td>\n",
              "      <td>13.607062</td>\n",
              "      <td>8.915375</td>\n",
              "      <td>8.809800</td>\n",
              "      <td>19.029164</td>\n",
              "      <td>20.795902</td>\n",
              "      <td>7.10653</td>\n",
              "      <td>7.037414</td>\n",
              "      <td>2.887159</td>\n",
              "      <td>2.720357</td>\n",
              "      <td>6.488753</td>\n",
              "      <td>6.93665</td>\n",
              "    </tr>\n",
              "    <tr>\n",
              "      <th>min</th>\n",
              "      <td>-8.500000</td>\n",
              "      <td>-4.800000</td>\n",
              "      <td>0.000000</td>\n",
              "      <td>0.000000</td>\n",
              "      <td>0.000000</td>\n",
              "      <td>6.000000</td>\n",
              "      <td>0.000000</td>\n",
              "      <td>0.000000</td>\n",
              "      <td>0.000000</td>\n",
              "      <td>0.000000</td>\n",
              "      <td>980.50000</td>\n",
              "      <td>977.100000</td>\n",
              "      <td>0.000000</td>\n",
              "      <td>0.000000</td>\n",
              "      <td>-7.200000</td>\n",
              "      <td>-5.40000</td>\n",
              "    </tr>\n",
              "    <tr>\n",
              "      <th>25%</th>\n",
              "      <td>7.600000</td>\n",
              "      <td>17.900000</td>\n",
              "      <td>0.000000</td>\n",
              "      <td>2.600000</td>\n",
              "      <td>4.800000</td>\n",
              "      <td>31.000000</td>\n",
              "      <td>7.000000</td>\n",
              "      <td>13.000000</td>\n",
              "      <td>57.000000</td>\n",
              "      <td>37.000000</td>\n",
              "      <td>1012.90000</td>\n",
              "      <td>1010.400000</td>\n",
              "      <td>1.000000</td>\n",
              "      <td>2.000000</td>\n",
              "      <td>12.300000</td>\n",
              "      <td>16.60000</td>\n",
              "    </tr>\n",
              "    <tr>\n",
              "      <th>50%</th>\n",
              "      <td>12.000000</td>\n",
              "      <td>22.600000</td>\n",
              "      <td>0.000000</td>\n",
              "      <td>4.800000</td>\n",
              "      <td>8.400000</td>\n",
              "      <td>39.000000</td>\n",
              "      <td>13.000000</td>\n",
              "      <td>19.000000</td>\n",
              "      <td>70.000000</td>\n",
              "      <td>52.000000</td>\n",
              "      <td>1017.60000</td>\n",
              "      <td>1015.200000</td>\n",
              "      <td>5.000000</td>\n",
              "      <td>5.000000</td>\n",
              "      <td>16.700000</td>\n",
              "      <td>21.10000</td>\n",
              "    </tr>\n",
              "    <tr>\n",
              "      <th>75%</th>\n",
              "      <td>16.900000</td>\n",
              "      <td>28.200000</td>\n",
              "      <td>0.800000</td>\n",
              "      <td>7.400000</td>\n",
              "      <td>10.600000</td>\n",
              "      <td>48.000000</td>\n",
              "      <td>19.000000</td>\n",
              "      <td>24.000000</td>\n",
              "      <td>83.000000</td>\n",
              "      <td>66.000000</td>\n",
              "      <td>1022.40000</td>\n",
              "      <td>1020.000000</td>\n",
              "      <td>7.000000</td>\n",
              "      <td>7.000000</td>\n",
              "      <td>21.600000</td>\n",
              "      <td>26.40000</td>\n",
              "    </tr>\n",
              "    <tr>\n",
              "      <th>max</th>\n",
              "      <td>33.900000</td>\n",
              "      <td>48.100000</td>\n",
              "      <td>371.000000</td>\n",
              "      <td>145.000000</td>\n",
              "      <td>14.500000</td>\n",
              "      <td>135.000000</td>\n",
              "      <td>130.000000</td>\n",
              "      <td>87.000000</td>\n",
              "      <td>100.000000</td>\n",
              "      <td>100.000000</td>\n",
              "      <td>1041.00000</td>\n",
              "      <td>1039.600000</td>\n",
              "      <td>9.000000</td>\n",
              "      <td>9.000000</td>\n",
              "      <td>40.200000</td>\n",
              "      <td>46.70000</td>\n",
              "    </tr>\n",
              "  </tbody>\n",
              "</table>\n",
              "</div>\n",
              "      <button class=\"colab-df-convert\" onclick=\"convertToInteractive('df-365ab152-aac6-4b9d-8caf-e0e841a930d0')\"\n",
              "              title=\"Convert this dataframe to an interactive table.\"\n",
              "              style=\"display:none;\">\n",
              "        \n",
              "  <svg xmlns=\"http://www.w3.org/2000/svg\" height=\"24px\"viewBox=\"0 0 24 24\"\n",
              "       width=\"24px\">\n",
              "    <path d=\"M0 0h24v24H0V0z\" fill=\"none\"/>\n",
              "    <path d=\"M18.56 5.44l.94 2.06.94-2.06 2.06-.94-2.06-.94-.94-2.06-.94 2.06-2.06.94zm-11 1L8.5 8.5l.94-2.06 2.06-.94-2.06-.94L8.5 2.5l-.94 2.06-2.06.94zm10 10l.94 2.06.94-2.06 2.06-.94-2.06-.94-.94-2.06-.94 2.06-2.06.94z\"/><path d=\"M17.41 7.96l-1.37-1.37c-.4-.4-.92-.59-1.43-.59-.52 0-1.04.2-1.43.59L10.3 9.45l-7.72 7.72c-.78.78-.78 2.05 0 2.83L4 21.41c.39.39.9.59 1.41.59.51 0 1.02-.2 1.41-.59l7.78-7.78 2.81-2.81c.8-.78.8-2.07 0-2.86zM5.41 20L4 18.59l7.72-7.72 1.47 1.35L5.41 20z\"/>\n",
              "  </svg>\n",
              "      </button>\n",
              "      \n",
              "  <style>\n",
              "    .colab-df-container {\n",
              "      display:flex;\n",
              "      flex-wrap:wrap;\n",
              "      gap: 12px;\n",
              "    }\n",
              "\n",
              "    .colab-df-convert {\n",
              "      background-color: #E8F0FE;\n",
              "      border: none;\n",
              "      border-radius: 50%;\n",
              "      cursor: pointer;\n",
              "      display: none;\n",
              "      fill: #1967D2;\n",
              "      height: 32px;\n",
              "      padding: 0 0 0 0;\n",
              "      width: 32px;\n",
              "    }\n",
              "\n",
              "    .colab-df-convert:hover {\n",
              "      background-color: #E2EBFA;\n",
              "      box-shadow: 0px 1px 2px rgba(60, 64, 67, 0.3), 0px 1px 3px 1px rgba(60, 64, 67, 0.15);\n",
              "      fill: #174EA6;\n",
              "    }\n",
              "\n",
              "    [theme=dark] .colab-df-convert {\n",
              "      background-color: #3B4455;\n",
              "      fill: #D2E3FC;\n",
              "    }\n",
              "\n",
              "    [theme=dark] .colab-df-convert:hover {\n",
              "      background-color: #434B5C;\n",
              "      box-shadow: 0px 1px 3px 1px rgba(0, 0, 0, 0.15);\n",
              "      filter: drop-shadow(0px 1px 2px rgba(0, 0, 0, 0.3));\n",
              "      fill: #FFFFFF;\n",
              "    }\n",
              "  </style>\n",
              "\n",
              "      <script>\n",
              "        const buttonEl =\n",
              "          document.querySelector('#df-365ab152-aac6-4b9d-8caf-e0e841a930d0 button.colab-df-convert');\n",
              "        buttonEl.style.display =\n",
              "          google.colab.kernel.accessAllowed ? 'block' : 'none';\n",
              "\n",
              "        async function convertToInteractive(key) {\n",
              "          const element = document.querySelector('#df-365ab152-aac6-4b9d-8caf-e0e841a930d0');\n",
              "          const dataTable =\n",
              "            await google.colab.kernel.invokeFunction('convertToInteractive',\n",
              "                                                     [key], {});\n",
              "          if (!dataTable) return;\n",
              "\n",
              "          const docLinkHtml = 'Like what you see? Visit the ' +\n",
              "            '<a target=\"_blank\" href=https://colab.research.google.com/notebooks/data_table.ipynb>data table notebook</a>'\n",
              "            + ' to learn more about interactive tables.';\n",
              "          element.innerHTML = '';\n",
              "          dataTable['output_type'] = 'display_data';\n",
              "          await google.colab.output.renderOutput(dataTable, element);\n",
              "          const docLink = document.createElement('div');\n",
              "          docLink.innerHTML = docLinkHtml;\n",
              "          element.appendChild(docLink);\n",
              "        }\n",
              "      </script>\n",
              "    </div>\n",
              "  </div>\n",
              "  "
            ]
          },
          "metadata": {},
          "execution_count": 11
        }
      ]
    },
    {
      "cell_type": "markdown",
      "source": [
        "###**DATA PRE-PROCESSING**"
      ],
      "metadata": {
        "id": "b7OHFz0-gTj3"
      }
    },
    {
      "cell_type": "markdown",
      "source": [
        "**To check if any column has null values and handle the same** <br>\n",
        "*True :* null present <br>\n",
        "*False:* non-null\n"
      ],
      "metadata": {
        "id": "numWCn4I0Q5R"
      }
    },
    {
      "cell_type": "code",
      "source": [
        "df.isnull().any()"
      ],
      "metadata": {
        "colab": {
          "base_uri": "https://localhost:8080/"
        },
        "id": "4xJZXFvQxn7T",
        "outputId": "365687cf-f80e-477d-82c2-ec3a1a78999f"
      },
      "execution_count": null,
      "outputs": [
        {
          "output_type": "execute_result",
          "data": {
            "text/plain": [
              "Date             False\n",
              "Location         False\n",
              "MinTemp           True\n",
              "MaxTemp           True\n",
              "Rainfall          True\n",
              "Evaporation       True\n",
              "Sunshine          True\n",
              "WindGustDir       True\n",
              "WindGustSpeed     True\n",
              "WindDir9am        True\n",
              "WindDir3pm        True\n",
              "WindSpeed9am      True\n",
              "WindSpeed3pm      True\n",
              "Humidity9am       True\n",
              "Humidity3pm       True\n",
              "Pressure9am       True\n",
              "Pressure3pm       True\n",
              "Cloud9am          True\n",
              "Cloud3pm          True\n",
              "Temp9am           True\n",
              "Temp3pm           True\n",
              "RainToday         True\n",
              "RainTomorrow      True\n",
              "dtype: bool"
            ]
          },
          "metadata": {},
          "execution_count": 12
        }
      ]
    },
    {
      "cell_type": "markdown",
      "source": [
        "**Except Date and Location all other features have values missing:**<br><br>\n",
        "*To replace all null values in each column with its mean value:*"
      ],
      "metadata": {
        "id": "_GKnWGUt0z85"
      }
    },
    {
      "cell_type": "code",
      "source": [
        "df[ \"MinTemp\"].fillna(df[\"MinTemp\"].mean(),inplace=True)\n",
        "df[ \"MaxTemp\"].fillna(df[\"MaxTemp\"].mean(),inplace=True)\n",
        "df[ \"Rainfall\"].fillna(df[\"Rainfall\"].mean(),inplace=True)\n",
        "df[ \"Evaporation\"].fillna(df[\"Evaporation\"].mean(),inplace=True)\n",
        "df[ \"Sunshine\"].fillna(df[\"Sunshine\"].mean(),inplace=True)\n",
        "df[ \"Pressure9am\"].fillna(df[\"Pressure9am\"].mean(),inplace=True)\n",
        "df[ \"Pressure3pm\"].fillna(df[\"Pressure3pm\"].mean(),inplace=True)\n",
        "df[ \"Cloud9am\"].fillna(df[\"Cloud9am\"].mean(),inplace=True)\n",
        "df[ \"Cloud3pm\"].fillna(df[\"Cloud3pm\"].mean(),inplace=True)\n",
        "df[ \"Temp9am\"].fillna(df[\"Temp9am\"].mean(),inplace=True)\n",
        "df[ \"Temp3pm\"].fillna(df[\"Temp3pm\"].mean(),inplace=True)"
      ],
      "metadata": {
        "id": "AtNMU1JTzFx1"
      },
      "execution_count": null,
      "outputs": []
    },
    {
      "cell_type": "markdown",
      "source": [
        "*To replace all null values in each column with its mode value:*"
      ],
      "metadata": {
        "id": "SmolZoSr3BtN"
      }
    },
    {
      "cell_type": "code",
      "source": [
        "df[ \"WindGustSpeed\"].fillna(df[\"WindGustSpeed\"].mode(),inplace=True)\n",
        "df[ \"WindSpeed9am\"].fillna(df[\"WindSpeed9am\"].mode(),inplace=True)\n",
        "df[ \"WindSpeed3pm\"].fillna(df[\"WindSpeed3pm\"].mode(),inplace=True)\n",
        "df[ \"Humidity9am\"].fillna(df[\"Humidity9am\"].mode(),inplace=True)\n",
        "df[ \"Humidity3pm\"].fillna(df[\"Humidity3pm\"].mode(),inplace=True)"
      ],
      "metadata": {
        "id": "Z8EzKM-12t3H"
      },
      "execution_count": null,
      "outputs": []
    },
    {
      "cell_type": "markdown",
      "source": [
        "*For string fields, replacing mode values: *"
      ],
      "metadata": {
        "id": "c7ShCXT63bYm"
      }
    },
    {
      "cell_type": "code",
      "source": [
        "print(\"Unique values in WindGustDir:\",df.WindGustDir.unique())\n",
        "print(\"Unique values in WindDir9am:\",df.WindDir9am.unique())\n",
        "print(\"Unique values in WindDir3pm:\",df.WindDir3pm.unique())\n",
        "print(\"Unique values in RainToday:\",df.RainToday.unique())\n",
        "print(\"Unique values in RainTomorrow:\",df.RainTomorrow.unique())"
      ],
      "metadata": {
        "colab": {
          "base_uri": "https://localhost:8080/"
        },
        "id": "yxRVMlHM3m-X",
        "outputId": "4e9b5fb5-f035-4dc7-a731-c11677dc4f2e"
      },
      "execution_count": null,
      "outputs": [
        {
          "output_type": "stream",
          "name": "stdout",
          "text": [
            "Unique values in WindGustDir: ['W' 'WNW' 'WSW' 'NE' 'NNW' 'N' 'NNE' 'SW' nan 'ENE' 'SSE' 'S' 'NW' 'SE'\n",
            " 'ESE' 'E' 'SSW']\n",
            "Unique values in WindDir9am: ['W' 'NNW' 'SE' 'ENE' 'SW' 'SSE' 'S' 'NE' nan 'SSW' 'N' 'WSW' 'ESE' 'E'\n",
            " 'NW' 'WNW' 'NNE']\n",
            "Unique values in WindDir3pm: ['WNW' 'WSW' 'E' 'NW' 'W' 'SSE' 'ESE' 'ENE' 'NNW' 'SSW' 'SW' 'SE' 'N' 'S'\n",
            " 'NNE' nan 'NE']\n",
            "Unique values in RainToday: ['No' 'Yes' nan]\n",
            "Unique values in RainTomorrow: ['No' 'Yes' nan]\n"
          ]
        }
      ]
    },
    {
      "cell_type": "code",
      "source": [
        "df[ \"WindGustDir\"].fillna(df[\"WindGustDir\"].mode()[0],inplace=True)\n",
        "df[ \"WindDir9am\"].fillna(df[\"WindDir9am\"].mode()[0],inplace=True)\n",
        "df[ \"WindDir3pm\"].fillna(df[\"WindDir3pm\"].mode()[0],inplace=True)\n",
        "df[ \"RainToday\"].fillna(df[\"RainToday\"].mode()[0],inplace=True)\n",
        "df[ \"RainTomorrow\"].fillna(df[\"RainTomorrow\"].mode()[0],inplace=True)"
      ],
      "metadata": {
        "id": "-HUls1jR3Otp"
      },
      "execution_count": null,
      "outputs": []
    },
    {
      "cell_type": "markdown",
      "source": [
        "*Checking for null values again:*<br>\n",
        "(Should result in False)"
      ],
      "metadata": {
        "id": "Myq-x1qw9Uvz"
      }
    },
    {
      "cell_type": "code",
      "source": [
        "df.isnull().any()"
      ],
      "metadata": {
        "colab": {
          "base_uri": "https://localhost:8080/"
        },
        "id": "YDJskWDv9Prb",
        "outputId": "79dfc0c2-3d28-49b4-95f0-bd9eca3ac5e0"
      },
      "execution_count": null,
      "outputs": [
        {
          "output_type": "execute_result",
          "data": {
            "text/plain": [
              "Date             False\n",
              "Location         False\n",
              "MinTemp          False\n",
              "MaxTemp          False\n",
              "Rainfall         False\n",
              "Evaporation      False\n",
              "Sunshine         False\n",
              "WindGustDir      False\n",
              "WindGustSpeed     True\n",
              "WindDir9am       False\n",
              "WindDir3pm       False\n",
              "WindSpeed9am      True\n",
              "WindSpeed3pm      True\n",
              "Humidity9am       True\n",
              "Humidity3pm       True\n",
              "Pressure9am      False\n",
              "Pressure3pm      False\n",
              "Cloud9am         False\n",
              "Cloud3pm         False\n",
              "Temp9am          False\n",
              "Temp3pm          False\n",
              "RainToday        False\n",
              "RainTomorrow     False\n",
              "dtype: bool"
            ]
          },
          "metadata": {},
          "execution_count": 8
        }
      ]
    },
    {
      "cell_type": "markdown",
      "source": [
        "**To check for dependent and independent variables:**</br></br>\n",
        "*All columns except RainToday and RainTomorrow, are independent varibles*"
      ],
      "metadata": {
        "id": "0Be3SM0igT2L"
      }
    },
    {
      "cell_type": "code",
      "source": [
        "X = df.iloc[:, :-2].values\n",
        "print(X)"
      ],
      "metadata": {
        "id": "SNsSqYqtdn8B",
        "colab": {
          "base_uri": "https://localhost:8080/"
        },
        "outputId": "bd5e38e1-b978-4d36-bf47-0344d173501c"
      },
      "execution_count": null,
      "outputs": [
        {
          "output_type": "stream",
          "name": "stdout",
          "text": [
            "[['2008-12-01' 'Albury' 13.4 ... 4.509930082924903 16.9 21.8]\n",
            " ['2008-12-02' 'Albury' 7.4 ... 4.509930082924903 17.2 24.3]\n",
            " ['2008-12-03' 'Albury' 12.9 ... 2.0 21.0 23.2]\n",
            " ...\n",
            " ['2017-06-23' 'Uluru' 5.4 ... 4.509930082924903 12.5 26.1]\n",
            " ['2017-06-24' 'Uluru' 7.8 ... 2.0 15.1 26.0]\n",
            " ['2017-06-25' 'Uluru' 14.9 ... 8.0 15.0 20.9]]\n"
          ]
        }
      ]
    },
    {
      "cell_type": "markdown",
      "source": [
        "*RainToday and Rain Tomorrow depend on the other columns like rainfall, wind_speed etc..*"
      ],
      "metadata": {
        "id": "cCUKlVk1gq2O"
      }
    },
    {
      "cell_type": "code",
      "source": [
        "Y = df.iloc[:, -2].values\n",
        "print(Y)"
      ],
      "metadata": {
        "colab": {
          "base_uri": "https://localhost:8080/"
        },
        "id": "RMhb78wse9-H",
        "outputId": "6c2fe525-42f4-47f7-91d3-554992fd8b3a"
      },
      "execution_count": null,
      "outputs": [
        {
          "output_type": "stream",
          "name": "stdout",
          "text": [
            "['No' 'No' 'No' ... 'No' 'No' 'No']\n"
          ]
        }
      ]
    },
    {
      "cell_type": "markdown",
      "source": [
        "###**DATA VISUALIZATION**"
      ],
      "metadata": {
        "id": "wleQB2JSgbnP"
      }
    },
    {
      "cell_type": "markdown",
      "source": [
        "### **Analyzing target values using pie chart**"
      ],
      "metadata": {
        "id": "YuBmf_6HtXYz"
      }
    },
    {
      "cell_type": "code",
      "source": [
        "df['RainTomorrow'].value_counts().plot(kind='pie',autopct='%1.0f%%')"
      ],
      "metadata": {
        "id": "MJ4xq0MBgjjX",
        "colab": {
          "base_uri": "https://localhost:8080/",
          "height": 266
        },
        "outputId": "8d1f0de8-50cf-426f-f42c-45e8b3a3a012"
      },
      "execution_count": null,
      "outputs": [
        {
          "output_type": "execute_result",
          "data": {
            "text/plain": [
              "<matplotlib.axes._subplots.AxesSubplot at 0x7f3b77e94a10>"
            ]
          },
          "metadata": {},
          "execution_count": 77
        },
        {
          "output_type": "display_data",
          "data": {
            "text/plain": [
              "<Figure size 432x288 with 1 Axes>"
            ],
            "image/png": "[encoded data removed]"
          },
          "metadata": {}
        }
      ]
    },
    {
      "cell_type": "markdown",
      "source": [
        "The target variable RainTomorrow returns two values, 'Yes' and 'No'.\\\n",
        "78% of result is 'Yes' and 22% is 'No'.\\\n",
        "This is an example of imbalanced classification, as we have uneven distribution of classes in the training dataset"
      ],
      "metadata": {
        "id": "ZF0o__yntvKQ"
      }
    },
    {
      "cell_type": "markdown",
      "source": [
        "### **Rainy Days by Location**"
      ],
      "metadata": {
        "id": "pL9qfdn_uDNQ"
      }
    },
    {
      "cell_type": "code",
      "source": [
        "df.RainToday = df.RainToday.map({'No': 0, 'Yes': 1})\n",
        "df_rain_by_loc = df.groupby(by='Location').sum()\n",
        "df_rain_by_loc = df_rain_by_loc[['RainToday']]\n",
        "df_rain_by_loc.head()"
      ],
      "metadata": {
        "colab": {
          "base_uri": "https://localhost:8080/",
          "height": 237
        },
        "id": "rFnxlbu-ttk2",
        "outputId": "cdd3a2cc-bfcb-4e04-8d43-0bc74a65f6a6"
      },
      "execution_count": null,
      "outputs": [
        {
          "output_type": "execute_result",
          "data": {
            "text/plain": [
              "               RainToday\n",
              "Location                \n",
              "Adelaide             689\n",
              "Albany               902\n",
              "Albury               617\n",
              "AliceSprings         244\n",
              "BadgerysCreek        583"
            ],
            "text/html": [
              "\n",
              "  <div id=\"df-109c56df-4167-4261-ad32-1b9340dcc0d7\">\n",
              "    <div class=\"colab-df-container\">\n",
              "      <div>\n",
              "<style scoped>\n",
              "    .dataframe tbody tr th:only-of-type {\n",
              "        vertical-align: middle;\n",
              "    }\n",
              "\n",
              "    .dataframe tbody tr th {\n",
              "        vertical-align: top;\n",
              "    }\n",
              "\n",
              "    .dataframe thead th {\n",
              "        text-align: right;\n",
              "    }\n",
              "</style>\n",
              "<table border=\"1\" class=\"dataframe\">\n",
              "  <thead>\n",
              "    <tr style=\"text-align: right;\">\n",
              "      <th></th>\n",
              "      <th>RainToday</th>\n",
              "    </tr>\n",
              "    <tr>\n",
              "      <th>Location</th>\n",
              "      <th></th>\n",
              "    </tr>\n",
              "  </thead>\n",
              "  <tbody>\n",
              "    <tr>\n",
              "      <th>Adelaide</th>\n",
              "      <td>689</td>\n",
              "    </tr>\n",
              "    <tr>\n",
              "      <th>Albany</th>\n",
              "      <td>902</td>\n",
              "    </tr>\n",
              "    <tr>\n",
              "      <th>Albury</th>\n",
              "      <td>617</td>\n",
              "    </tr>\n",
              "    <tr>\n",
              "      <th>AliceSprings</th>\n",
              "      <td>244</td>\n",
              "    </tr>\n",
              "    <tr>\n",
              "      <th>BadgerysCreek</th>\n",
              "      <td>583</td>\n",
              "    </tr>\n",
              "  </tbody>\n",
              "</table>\n",
              "</div>\n",
              "      <button class=\"colab-df-convert\" onclick=\"convertToInteractive('df-109c56df-4167-4261-ad32-1b9340dcc0d7')\"\n",
              "              title=\"Convert this dataframe to an interactive table.\"\n",
              "              style=\"display:none;\">\n",
              "        \n",
              "  <svg xmlns=\"http://www.w3.org/2000/svg\" height=\"24px\"viewBox=\"0 0 24 24\"\n",
              "       width=\"24px\">\n",
              "    <path d=\"M0 0h24v24H0V0z\" fill=\"none\"/>\n",
              "    <path d=\"M18.56 5.44l.94 2.06.94-2.06 2.06-.94-2.06-.94-.94-2.06-.94 2.06-2.06.94zm-11 1L8.5 8.5l.94-2.06 2.06-.94-2.06-.94L8.5 2.5l-.94 2.06-2.06.94zm10 10l.94 2.06.94-2.06 2.06-.94-2.06-.94-.94-2.06-.94 2.06-2.06.94z\"/><path d=\"M17.41 7.96l-1.37-1.37c-.4-.4-.92-.59-1.43-.59-.52 0-1.04.2-1.43.59L10.3 9.45l-7.72 7.72c-.78.78-.78 2.05 0 2.83L4 21.41c.39.39.9.59 1.41.59.51 0 1.02-.2 1.41-.59l7.78-7.78 2.81-2.81c.8-.78.8-2.07 0-2.86zM5.41 20L4 18.59l7.72-7.72 1.47 1.35L5.41 20z\"/>\n",
              "  </svg>\n",
              "      </button>\n",
              "      \n",
              "  <style>\n",
              "    .colab-df-container {\n",
              "      display:flex;\n",
              "      flex-wrap:wrap;\n",
              "      gap: 12px;\n",
              "    }\n",
              "\n",
              "    .colab-df-convert {\n",
              "      background-color: #E8F0FE;\n",
              "      border: none;\n",
              "      border-radius: 50%;\n",
              "      cursor: pointer;\n",
              "      display: none;\n",
              "      fill: #1967D2;\n",
              "      height: 32px;\n",
              "      padding: 0 0 0 0;\n",
              "      width: 32px;\n",
              "    }\n",
              "\n",
              "    .colab-df-convert:hover {\n",
              "      background-color: #E2EBFA;\n",
              "      box-shadow: 0px 1px 2px rgba(60, 64, 67, 0.3), 0px 1px 3px 1px rgba(60, 64, 67, 0.15);\n",
              "      fill: #174EA6;\n",
              "    }\n",
              "\n",
              "    [theme=dark] .colab-df-convert {\n",
              "      background-color: #3B4455;\n",
              "      fill: #D2E3FC;\n",
              "    }\n",
              "\n",
              "    [theme=dark] .colab-df-convert:hover {\n",
              "      background-color: #434B5C;\n",
              "      box-shadow: 0px 1px 3px 1px rgba(0, 0, 0, 0.15);\n",
              "      filter: drop-shadow(0px 1px 2px rgba(0, 0, 0, 0.3));\n",
              "      fill: #FFFFFF;\n",
              "    }\n",
              "  </style>\n",
              "\n",
              "      <script>\n",
              "        const buttonEl =\n",
              "          document.querySelector('#df-109c56df-4167-4261-ad32-1b9340dcc0d7 button.colab-df-convert');\n",
              "        buttonEl.style.display =\n",
              "          google.colab.kernel.accessAllowed ? 'block' : 'none';\n",
              "\n",
              "        async function convertToInteractive(key) {\n",
              "          const element = document.querySelector('#df-109c56df-4167-4261-ad32-1b9340dcc0d7');\n",
              "          const dataTable =\n",
              "            await google.colab.kernel.invokeFunction('convertToInteractive',\n",
              "                                                     [key], {});\n",
              "          if (!dataTable) return;\n",
              "\n",
              "          const docLinkHtml = 'Like what you see? Visit the ' +\n",
              "            '<a target=\"_blank\" href=https://colab.research.google.com/notebooks/data_table.ipynb>data table notebook</a>'\n",
              "            + ' to learn more about interactive tables.';\n",
              "          element.innerHTML = '';\n",
              "          dataTable['output_type'] = 'display_data';\n",
              "          await google.colab.output.renderOutput(dataTable, element);\n",
              "          const docLink = document.createElement('div');\n",
              "          docLink.innerHTML = docLinkHtml;\n",
              "          element.appendChild(docLink);\n",
              "        }\n",
              "      </script>\n",
              "    </div>\n",
              "  </div>\n",
              "  "
            ]
          },
          "metadata": {},
          "execution_count": 80
        }
      ]
    },
    {
      "cell_type": "code",
      "source": [
        "import matplotlib.pyplot as plt\n",
        "plt.figure(figsize=(8, 12))\n",
        "sns.barplot(x='RainToday', \n",
        "            y=df_rain_by_loc.index, \n",
        "            data=df_rain_by_loc.sort_values('RainToday', ascending=False), \n",
        "            orient='h'\n",
        "           )\n",
        "plt.xlabel('Number of Days')\n",
        "plt.title('Rainy Days by Location')\n",
        "plt.tight_layout()"
      ],
      "metadata": {
        "colab": {
          "base_uri": "https://localhost:8080/",
          "height": 873
        },
        "id": "J0rQThyiuoMb",
        "outputId": "d0fdc95b-4e8e-48f2-8835-f1b0dde6c641"
      },
      "execution_count": null,
      "outputs": [
        {
          "output_type": "display_data",
          "data": {
            "text/plain": [
              "<Figure size 576x864 with 1 Axes>"
            ],
            "image/png": "[encoded data removed]"
          },
          "metadata": {
            "needs_background": "light"
          }
        }
      ]
    },
    {
      "cell_type": "markdown",
      "source": [
        "The above chart is useful for a quick check on the differences between locations with regard to the number of rainy days."
      ],
      "metadata": {
        "id": "fQAye0wKuvxw"
      }
    },
    {
      "cell_type": "markdown",
      "source": [
        "### **Visualizing minimum and maximum temperature using scatter plot**"
      ],
      "metadata": {
        "id": "gh0meQT3vgpZ"
      }
    },
    {
      "cell_type": "code",
      "source": [
        "import plotly.express as px\n",
        "px.scatter(df.sample(2000), \n",
        "           title='Min Temp. vs Max Temp.',\n",
        "           x='MinTemp', \n",
        "           y='MaxTemp', \n",
        "           width=600, height=600,\n",
        "           color='RainToday')"
      ],
      "metadata": {
        "colab": {
          "base_uri": "https://localhost:8080/",
          "height": 617
        },
        "id": "DLYUXnWqu01e",
        "outputId": "44ee51ed-8164-4ad9-a5c1-d5e562055621"
      },
      "execution_count": null,
      "outputs": [
        {
          "output_type": "display_data",
          "data": {
            "text/html": [
              "<html>\n",
              "<head><meta charset=\"utf-8\" /></head>\n",
              "<body>\n",
              "    <div>            <script src=\"https://cdnjs.cloudflare.com/ajax/libs/mathjax/2.7.5/MathJax.js?config=TeX-AMS-MML_SVG\"></script><script type=\"text/javascript\">if (window.MathJax) {MathJax.Hub.Config({SVG: {font: \"STIX-Web\"}});}</script>                <script type=\"text/javascript\">window.PlotlyConfig = {MathJaxConfig: 'local'};</script>\n",
              "        <script src=\"https://cdn.plot.ly/plotly-2.8.3.min.js\"></script>                <div id=\"9a440dea-08f2-447e-889c-ba3d2f13dbd9\" class=\"plotly-graph-div\" style=\"height:600px; width:600px;\"></div>            <script type=\"text/javascript\">                                    window.PLOTLYENV=window.PLOTLYENV || {};                                    if (document.getElementById(\"9a440dea-08f2-447e-889c-ba3d2f13dbd9\")) {                    Plotly.newPlot(                        \"9a440dea-08f2-447e-889c-ba3d2f13dbd9\",                        [{\"hovertemplate\":\"MinTemp=%{x}<br>MaxTemp=%{y}<br>RainToday=%{marker.color}<extra></extra>\",\"legendgroup\":\"\",\"marker\":{\"color\":[0,0,0,0,0,0,0,0,0,0,0,0,1,0,0,0,0,0,0,0,1,1,0,0,0,0,0,1,0,0,0,0,0,0,1,1,0,0,0,0,0,0,1,1,0,0,0,1,0,0,0,0,0,1,0,1,0,0,0,0,1,0,0,0,0,0,0,1,0,1,1,0,0,0,1,1,1,1,0,0,0,1,0,0,1,0,0,1,0,0,0,0,0,0,0,0,0,0,1,0,0,0,0,0,0,1,0,1,0,0,0,0,0,0,0,0,0,0,0,0,1,1,0,1,0,0,0,0,0,0,0,0,1,0,0,1,0,0,0,0,0,1,1,0,0,0,0,0,1,0,0,0,0,0,0,0,1,0,1,0,0,0,0,0,0,0,0,0,1,0,0,0,0,1,0,0,0,0,0,1,0,0,0,0,0,0,0,0,0,1,0,0,0,0,0,0,0,0,0,0,0,0,0,0,0,0,0,0,0,0,0,0,0,1,0,1,0,0,0,1,0,0,0,0,1,0,1,0,0,0,0,0,0,0,0,0,0,0,1,1,1,0,0,1,0,0,0,0,0,0,0,0,0,1,1,0,0,0,0,0,0,1,0,0,1,1,0,0,1,0,1,1,0,0,0,0,1,0,0,0,0,0,0,0,0,0,0,0,0,0,0,0,0,1,0,0,1,0,0,0,0,0,0,0,1,0,0,0,0,1,1,0,1,0,0,0,1,0,0,0,0,1,0,0,1,0,0,0,0,1,0,1,1,0,0,0,0,0,0,1,0,1,0,0,0,0,0,0,0,0,0,0,0,1,0,0,0,0,0,0,0,0,1,1,0,0,0,1,0,0,0,0,0,1,0,0,1,0,1,1,0,0,1,1,0,0,0,0,1,1,0,0,0,1,0,0,0,0,0,0,0,0,0,0,0,0,0,0,1,0,1,0,0,0,0,0,0,0,1,0,1,0,1,0,0,0,0,0,0,0,0,1,0,1,0,0,0,0,1,0,1,1,1,0,0,0,1,0,0,1,0,1,0,0,1,0,0,0,0,1,0,0,0,0,0,0,0,0,0,0,0,0,0,0,0,1,0,0,0,0,1,0,1,1,0,0,0,0,0,0,0,1,0,0,0,0,0,1,0,0,0,0,1,0,0,0,0,0,0,0,0,0,0,0,0,0,0,0,0,1,0,1,0,0,0,1,0,0,0,0,0,0,0,0,0,0,0,0,0,0,0,0,0,0,0,0,0,0,0,0,0,1,0,1,0,0,0,0,1,1,1,0,0,1,1,1,1,1,0,1,0,0,0,0,0,0,1,1,0,0,0,0,0,0,1,0,1,1,0,0,0,0,0,0,1,0,0,0,0,0,1,1,0,1,0,0,0,0,0,0,0,0,0,0,0,1,0,0,0,0,0,0,0,0,0,0,0,0,0,0,0,0,1,0,0,0,1,0,0,1,1,0,0,0,0,0,1,0,0,0,0,0,0,1,0,1,1,0,0,0,0,0,0,0,0,0,0,0,1,1,0,1,0,0,0,0,0,0,0,1,0,1,0,0,0,0,1,0,1,0,0,1,0,0,0,0,1,1,0,0,0,0,0,1,0,0,0,0,1,0,0,0,0,0,0,0,0,0,0,0,0,0,0,0,1,0,1,1,0,0,0,0,0,0,0,0,1,0,1,0,0,1,0,0,1,0,0,0,0,0,0,1,1,0,0,1,0,0,1,0,0,0,0,1,0,0,1,0,1,0,0,0,0,0,0,1,0,0,0,0,0,0,0,0,0,0,0,0,0,0,0,0,0,0,0,1,0,0,1,0,0,1,0,0,0,0,0,0,1,0,0,0,0,0,0,0,0,1,0,0,0,0,0,1,0,1,0,0,0,0,0,0,0,0,0,1,1,0,0,0,1,0,0,0,0,1,0,0,0,0,0,0,0,0,0,1,0,1,0,0,0,0,0,0,0,0,0,1,0,0,0,1,1,0,0,0,1,0,1,1,0,0,0,0,0,0,0,0,0,1,0,0,1,0,0,1,0,0,0,0,1,1,0,1,0,0,0,1,0,0,1,0,0,0,0,0,0,0,0,0,0,0,0,1,1,1,1,1,0,0,0,1,0,1,0,1,0,0,0,1,0,0,1,1,0,0,0,0,0,0,0,0,1,0,0,0,0,1,1,0,1,0,0,0,0,0,0,0,0,1,0,1,1,1,0,0,0,1,1,0,0,0,0,1,0,0,1,1,0,0,0,0,0,0,0,0,0,0,0,0,1,1,0,0,1,0,0,0,1,0,0,0,0,0,1,0,0,0,0,0,0,0,0,0,0,0,0,0,0,0,0,0,1,0,0,0,0,0,0,0,0,0,0,0,0,0,1,0,0,0,1,0,0,0,1,0,0,1,0,0,1,0,1,0,1,0,0,0,1,0,0,0,0,0,0,0,0,0,0,1,0,0,0,0,1,0,0,1,1,0,0,0,1,0,0,0,0,0,0,0,0,0,0,0,0,0,0,0,0,1,0,1,0,1,0,0,0,0,0,0,0,0,0,1,0,1,0,0,0,1,0,0,1,0,1,0,0,0,0,0,0,0,0,0,0,0,1,0,1,0,0,0,0,0,0,0,0,0,0,0,1,0,0,0,0,0,0,1,0,0,0,0,0,0,1,0,0,0,0,0,0,0,1,0,0,0,0,0,0,0,0,0,1,0,0,0,0,0,1,1,0,0,1,0,0,1,1,0,0,0,0,0,0,1,0,0,1,1,0,0,1,0,0,0,0,0,0,1,1,0,0,0,0,0,0,0,0,0,0,0,0,0,0,0,0,1,0,0,0,0,0,0,0,0,0,1,0,0,0,0,0,0,0,0,0,0,0,1,0,0,0,1,0,0,0,0,1,0,0,0,0,0,0,0,0,1,0,1,1,1,0,0,0,0,0,0,0,0,0,0,1,0,0,0,1,0,0,0,1,1,1,0,1,0,0,0,0,0,1,0,0,0,0,0,1,0,1,1,0,0,0,1,0,0,0,0,0,1,1,1,0,0,0,0,0,1,1,1,0,1,0,0,0,0,0,1,1,0,1,0,1,0,1,0,0,0,1,1,0,0,1,1,0,1,0,1,0,0,0,0,0,1,0,0,0,0,0,0,1,0,0,1,0,0,0,0,0,0,0,0,0,0,1,0,1,0,0,0,0,1,0,0,1,1,0,0,0,1,1,0,1,1,1,0,0,1,0,0,0,1,0,0,0,0,1,1,0,0,1,0,0,0,1,0,0,0,0,0,0,1,0,0,0,0,0,1,0,0,0,0,1,0,0,1,1,1,1,1,0,0,0,0,1,1,1,0,1,0,0,0,1,0,1,0,1,1,0,0,0,0,0,0,0,0,0,0,0,0,0,1,0,0,0,0,0,0,0,0,0,0,0,0,0,0,0,0,0,0,0,0,0,0,0,0,0,0,0,0,1,0,0,0,0,0,0,1,0,0,0,1,1,0,0,1,0,0,0,0,0,1,0,0,0,0,1,1,0,0,0,0,0,0,0,0,0,0,0,0,0,1,0,1,0,0,0,0,1,0,1,1,0,0,0,0,0,0,0,0,1,1,0,0,0,1,0,0,0,1,0,0,1,0,0,0,0,0,0,0,0,0,1,0,0,0,0,0,0,0,0,0,0,0,0,0,0,1,0,1,0,0,0,0,0,0,1,0,0,1,0,0,0,0,1,0,0,0,0,1,0,0,0,1,0,1,0,0,0,0,0,0,1,0,0,0,0,0,1,0,0,0,0,0,0,1,0,0,0,0,0,0,1,1,0,0,0,1,0,0,0,0,0,0,0,0,0,0,0,0,1,0,1,0,1,0,1,0,1,0,0,0,1,1,0,0,0,0,0,0,0,1,0,0,0,0,0,0,0,0,1,1,1,1,1,1,0,1,0,0,0,0,0,0,0,0,0,0,0,0,1,0,0,0,0,1,1,0,0,0,1,0,0,0,0,0,0,0,0,0,0,1,1,0,0,0,0,0,1,0,0,1,0,0,1,0,0,0,0,1,0,0,0,0,0,1,0,0,0,1,1,0,1,1,0,1,0,0,0,0,0,0,0,1,0,0,0,1,0,0,0,1,0,0,0,0,0,1,0,0,0,1,0,0,1,0,1,0,0,0,0,0,0,0,1,1,0,0,1,0,0,0,1,0,0,0,0,0,1,1,0,0,0,0,0,0,0,0,1,1,0,1,1,0,0,0,0,0,0,1,0,0,0,0,1,0,0,0,1,0,1,0,0,1,1,0,0,0,0,1,0,0,0,0,0,0,0,0,0,0,1,1,0,0,0,0,0,0,1,0,1,0,0,0,0,0,0,0,0,0,1,0,0,0,1,0,0,1,0,0,0,0,0,0,0,0,0,0,0,1,0,0,0,0,0,1,0,0,0,0,0,0,1,0,0,0,0,1,0,0,0,0,0,0,0,0,0,0,0,1,0,0,0,0,0,0,0,0,0,0,0,0,0,0,0,0,0,0,0,0,0,0],\"coloraxis\":\"coloraxis\",\"symbol\":\"circle\"},\"mode\":\"markers\",\"name\":\"\",\"showlegend\":false,\"x\":[12.4,0.0,11.2,-1.4,15.1,16.2,12.6,15.4,16.8,1.2,18.0,15.4,9.9,7.2,15.9,4.1,18.8,20.8,13.4,5.0,12.9,13.2,14.8,3.8,17.1,12.5,19.7,12.1,12.1,20.2,18.8,15.7,12.7,14.4,9.5,18.5,10.4,0.9,6.8,9.6,11.9,11.7,14.4,10.3,6.9,13.6,8.3,15.3,21.5,11.0,12.19403438096892,7.9,10.0,2.1,19.4,19.5,13.8,8.8,7.4,16.5,10.3,2.1,17.2,15.0,8.1,15.4,2.5,9.0,12.0,16.4,15.4,14.5,12.9,10.1,16.0,11.4,15.5,9.1,11.0,3.5,16.8,21.2,14.7,4.5,12.19403438096892,16.5,10.7,10.2,21.1,7.3,15.8,18.0,13.9,4.8,-3.8,7.8,9.6,24.5,17.3,16.7,21.7,8.1,9.8,20.0,15.3,15.4,7.4,16.6,11.3,13.3,1.4,-2.3,-0.1,9.9,12.0,4.5,6.5,14.9,5.3,3.9,2.7,5.3,3.4,2.3,10.4,13.3,6.0,13.4,17.9,4.9,6.4,9.7,7.9,10.8,5.6,8.1,10.3,2.5,2.7,8.0,14.6,7.8,1.1,10.2,17.4,10.7,11.5,11.1,18.3,15.6,-5.9,1.8,15.9,4.6,15.7,12.4,5.2,3.0,13.5,8.0,21.8,0.5,2.2,19.1,7.0,15.8,15.5,6.1,11.0,14.4,13.0,17.6,8.3,10.8,6.4,21.9,13.2,17.2,9.4,9.2,7.8,9.8,15.9,12.7,18.6,18.8,0.8,12.0,3.8,15.6,20.5,4.7,8.9,15.8,15.3,5.0,25.5,16.4,24.0,9.3,19.8,22.3,18.6,7.8,4.4,10.9,13.4,-0.1,16.8,12.19403438096892,12.19403438096892,14.1,2.7,8.5,6.0,10.5,10.9,16.0,6.9,6.1,4.6,4.9,14.4,8.8,1.8,21.0,10.6,23.5,16.9,-2.5,15.6,10.5,15.0,1.7,9.9,20.0,22.7,11.2,20.6,9.5,19.7,11.2,12.5,15.4,25.6,11.3,8.7,10.9,12.1,14.6,2.8,14.7,8.1,15.1,26.5,11.5,3.4,9.9,19.0,17.1,3.7,12.9,15.6,12.19403438096892,7.5,12.1,4.3,10.8,25.0,14.8,13.3,20.7,4.9,7.2,8.1,6.2,8.1,15.8,9.2,2.7,16.6,4.5,8.1,7.8,17.3,16.7,12.2,4.0,6.3,2.9,4.2,14.3,23.6,11.0,17.4,12.0,21.5,15.3,7.6,16.2,3.9,5.5,15.6,16.6,13.0,22.0,18.0,9.0,4.6,22.7,11.8,9.2,4.7,9.7,10.5,10.5,11.8,12.7,8.9,8.9,10.9,16.0,19.7,19.4,17.8,19.5,16.8,16.3,16.3,12.8,15.6,13.5,25.4,16.2,12.0,8.9,20.6,4.9,-2.2,18.2,6.9,12.8,11.0,14.8,18.9,20.8,21.4,15.0,12.0,10.0,19.9,0.9,21.5,22.3,11.7,10.8,6.6,12.8,17.5,19.0,11.4,14.9,8.7,19.1,9.0,15.5,16.1,17.6,9.5,-1.1,3.5,9.3,18.2,14.5,17.8,11.2,14.4,4.7,14.0,16.8,9.7,12.1,20.7,18.5,0.4,14.3,13.2,11.7,5.8,12.2,5.2,7.7,5.3,11.7,19.3,11.1,10.0,12.2,19.7,-0.5,18.5,16.3,7.6,16.9,12.7,24.6,19.5,20.1,5.8,9.1,17.2,12.8,8.4,16.8,9.9,10.0,13.8,1.9,14.9,5.3,23.8,-2.3,17.6,9.9,19.8,-0.3,9.4,-1.4,16.1,9.6,10.1,8.2,14.2,3.5,18.5,20.9,20.5,6.7,8.9,6.7,17.4,10.1,8.0,9.1,8.2,13.6,24.6,13.7,7.3,9.3,9.6,19.7,16.9,15.5,24.1,5.6,13.3,14.0,5.4,22.1,10.4,2.7,1.2,22.6,20.5,8.4,13.3,14.0,9.7,15.5,17.7,3.8,19.2,23.8,15.7,0.8,13.4,8.3,9.0,14.3,14.2,23.1,7.3,9.3,11.9,11.8,9.6,23.9,19.9,12.0,3.8,21.5,5.3,18.4,10.7,6.4,10.3,9.6,0.3,1.6,10.8,2.0,16.2,2.5,23.6,6.2,12.1,15.2,15.2,11.7,19.6,0.8,-1.5,13.8,5.0,14.6,16.4,16.5,4.9,14.2,9.7,13.3,14.4,6.1,15.1,7.6,6.4,14.3,12.19403438096892,12.0,16.3,2.8,16.4,9.1,16.0,19.9,4.3,18.5,12.1,11.4,18.3,10.7,6.3,11.4,14.7,11.5,18.7,9.5,6.8,25.1,21.4,14.6,18.6,13.8,10.1,4.7,1.3,18.2,18.1,13.5,18.8,22.6,17.7,5.4,17.4,17.4,5.5,14.0,20.2,15.6,8.2,-0.4,11.2,8.1,3.5,1.7,7.5,16.1,11.1,23.6,24.7,9.7,9.2,9.6,10.2,7.4,8.4,12.19403438096892,13.7,15.7,15.3,15.6,8.7,13.4,18.2,9.0,20.4,13.2,12.7,13.8,4.3,10.9,19.4,15.1,21.2,7.9,11.1,13.3,15.0,12.1,20.2,5.7,22.6,12.1,25.1,14.6,9.6,6.5,4.9,12.19403438096892,10.1,9.9,9.5,14.2,-2.3,-3.0,13.3,23.1,4.1,24.4,0.4,20.8,10.2,11.0,4.5,13.2,14.0,20.2,8.4,13.0,8.6,13.0,10.0,13.8,10.9,17.7,13.0,22.2,24.0,12.7,1.7,13.1,7.4,13.7,6.0,16.3,6.7,4.3,11.9,16.5,20.3,22.6,12.6,5.5,2.8,9.7,7.3,9.2,9.3,11.4,25.0,11.2,12.3,0.5,1.1,8.4,19.4,-1.0,8.4,5.8,21.4,11.1,18.1,12.0,-0.8,16.6,17.9,20.1,6.7,13.4,9.0,13.3,19.2,15.5,3.8,19.5,9.1,9.3,4.9,9.1,7.4,5.9,6.3,16.2,14.7,20.0,16.4,9.7,19.4,5.1,14.9,16.7,10.5,12.2,1.8,10.8,11.8,9.1,1.6,6.8,2.5,5.7,17.3,14.3,21.0,22.9,5.7,22.4,7.6,9.6,20.9,12.1,5.8,19.4,3.6,23.5,15.5,15.5,11.5,26.3,17.3,10.8,21.3,14.6,23.6,24.3,15.3,9.0,1.9,9.0,6.9,7.7,10.3,4.7,7.3,20.2,14.7,-0.4,18.1,8.7,14.0,6.7,3.1,11.9,16.1,12.19403438096892,12.19403438096892,12.3,8.9,3.6,13.3,18.9,21.8,8.6,19.6,11.0,12.7,9.2,5.5,10.9,23.1,9.5,-0.8,11.5,24.5,2.1,17.0,12.5,-2.6,11.4,11.7,14.5,-4.3,10.3,-0.8,12.5,12.8,5.2,20.8,19.3,19.8,14.7,16.3,11.8,17.7,25.3,0.3,11.4,18.9,9.1,20.3,18.8,17.6,15.1,0.4,12.6,2.3,21.1,6.8,15.3,9.8,17.7,7.9,15.9,14.7,17.4,6.9,22.1,8.3,7.4,18.0,20.9,7.1,11.6,3.1,15.7,10.4,16.2,15.3,3.9,23.8,15.3,13.4,17.7,5.8,9.0,8.2,16.5,13.8,7.5,4.2,4.6,6.4,12.19403438096892,13.7,8.1,25.2,9.8,17.9,9.2,9.0,20.4,11.7,14.3,24.8,16.1,7.0,2.6,2.4,14.9,23.8,18.5,8.8,19.5,0.7,10.9,10.6,9.2,9.3,20.0,19.1,1.0,-1.4,2.6,14.4,16.8,3.1,13.2,19.2,12.1,15.6,7.1,20.8,8.4,10.8,9.4,20.2,17.2,9.5,10.2,2.5,9.1,10.0,24.4,4.8,12.19403438096892,15.5,12.8,16.2,18.0,12.2,8.6,23.8,22.5,1.1,12.19403438096892,19.3,14.1,16.0,13.9,15.2,1.9,10.1,4.5,1.5,22.0,10.0,18.9,20.4,5.8,18.9,12.9,4.4,5.6,4.5,22.3,10.7,13.7,14.9,16.6,25.1,14.3,20.7,20.2,12.3,6.1,9.4,18.2,17.9,14.1,18.7,19.8,22.4,20.8,12.3,-0.3,5.7,10.9,15.5,15.4,22.8,9.6,22.0,10.5,13.8,17.5,5.1,4.7,6.5,10.0,12.1,21.6,13.8,20.0,5.5,7.1,5.2,6.2,6.8,7.4,17.0,9.0,17.7,7.8,18.2,3.9,3.6,18.7,3.9,4.6,17.0,23.8,12.19403438096892,-0.1,7.4,-2.1,-1.3,7.3,8.2,17.9,24.5,20.3,6.1,12.8,13.9,17.8,9.8,22.8,8.0,7.1,7.5,17.1,23.6,29.3,24.4,25.0,4.2,11.5,17.5,7.5,22.0,7.4,8.1,24.5,21.0,6.2,17.1,6.2,13.8,14.0,9.6,17.4,18.8,17.3,8.6,3.8,3.7,-1.7,13.9,12.6,15.3,4.6,24.9,10.9,15.2,3.1,5.8,15.5,21.1,-0.7,16.0,9.2,-2.1,14.3,14.1,13.7,19.4,2.9,7.5,11.8,19.1,19.1,10.3,4.9,3.7,11.6,19.3,5.5,9.1,0.1,18.4,20.4,7.6,7.7,25.8,14.8,5.9,-1.5,22.0,4.8,18.3,17.1,12.19403438096892,16.0,9.3,20.6,0.3,12.9,7.5,10.5,20.1,13.3,11.0,6.6,10.5,8.3,14.9,14.0,10.3,15.3,22.9,12.8,14.1,14.2,0.4,14.4,10.1,12.7,13.9,13.6,16.8,7.6,15.4,23.8,5.7,8.5,10.7,18.7,6.4,10.5,12.19403438096892,9.5,5.8,8.5,14.9,4.9,2.4,21.4,14.9,10.5,6.5,11.6,13.6,26.2,24.3,14.9,8.0,6.2,13.2,19.5,8.6,11.3,19.1,21.6,0.5,10.1,8.7,11.9,5.5,18.8,5.2,12.8,20.8,3.7,16.3,0.4,13.2,3.2,16.2,7.2,8.3,9.9,7.7,8.4,16.4,18.2,4.4,12.0,10.8,11.1,14.4,17.0,24.2,18.2,6.4,18.6,14.5,18.6,18.4,16.2,-1.5,6.8,10.4,6.8,12.4,7.7,11.9,12.19403438096892,14.9,17.6,20.4,7.9,17.8,9.7,22.7,16.6,11.5,22.6,19.3,8.6,4.3,19.8,7.1,20.5,6.4,21.6,19.4,2.9,9.6,21.7,10.5,9.9,20.4,6.3,5.1,17.3,6.4,12.3,4.6,11.1,6.8,3.9,10.5,18.8,7.8,17.5,19.0,18.9,15.4,13.2,21.4,15.1,20.3,21.5,9.9,6.9,20.3,6.3,9.8,9.5,6.3,-2.0,14.4,0.1,9.4,15.9,4.7,19.4,3.1,15.8,14.4,8.0,7.5,18.1,16.6,10.7,9.3,8.0,10.7,19.0,13.3,10.1,21.7,19.8,2.9,13.5,15.4,8.4,11.7,13.1,19.9,11.5,25.1,19.9,23.7,17.1,12.5,4.5,12.8,-1.7,24.6,7.4,4.3,8.5,8.8,10.9,10.8,5.7,23.1,16.3,2.5,8.7,19.5,19.6,8.6,11.6,4.8,23.1,10.2,8.7,16.5,21.9,7.0,17.4,11.7,13.0,4.1,4.5,8.2,10.5,8.3,10.0,7.5,12.1,15.7,9.1,7.1,22.5,7.5,4.2,4.6,5.6,19.9,21.4,6.2,17.2,24.7,8.1,10.3,9.8,2.6,13.4,20.1,12.5,8.2,19.4,10.7,14.5,12.1,6.2,8.6,15.0,5.9,16.4,12.8,24.4,13.9,11.3,-0.9,10.0,15.0,7.7,16.9,8.8,15.7,13.0,6.1,9.4,22.2,13.6,7.5,19.7,5.6,15.1,11.7,6.7,15.4,7.3,6.8,13.4,4.3,17.4,10.3,18.6,20.9,5.6,0.1,12.19403438096892,4.6,12.7,4.7,6.0,22.1,3.1,15.8,14.9,11.6,25.1,17.5,17.2,12.6,11.0,14.4,12.19403438096892,9.6,12.6,15.5,8.8,-0.2,10.7,20.3,11.6,11.7,7.8,10.0,9.1,10.3,3.5,16.2,16.9,13.0,7.7,9.6,5.0,9.4,3.1,16.1,-0.7,9.9,12.5,2.9,9.4,24.7,18.2,16.3,17.4,15.7,11.4,15.6,11.9,14.1,22.6,14.8,11.4,8.9,15.1,14.9,22.5,13.3,19.0,10.0,11.8,9.8,9.4,16.8,5.4,14.6,8.6,15.5,10.6,10.2,14.2,5.8,13.9,17.9,16.0,14.6,8.2,17.3,15.8,20.4,17.2,11.9,5.6,24.5,13.2,9.7,7.7,14.6,9.6,9.8,16.2,18.7,10.3,10.3,19.9,23.6,9.2,5.0,5.6,11.8,9.4,16.6,7.3,12.9,11.3,20.0,8.9,21.8,7.9,17.7,11.5,16.6,4.5,10.0,8.5,19.1,19.0,7.2,17.3,5.5,12.6,16.8,-0.9,-1.0,14.8,15.1,14.7,10.0,18.2,22.7,8.2,5.9,9.8,18.0,7.6,14.2,19.9,7.7,19.9,4.6,-0.1,14.6,8.7,13.8,13.9,11.4,2.7,11.0,11.6,21.8,6.4,10.4,13.3,17.9,11.5,6.2,25.3,18.7,15.0,23.1,22.6,13.9,13.4,20.0,4.4,12.6,18.3,14.2,5.1,20.0,12.4,14.4,20.8,8.4,25.2,12.9,20.5,19.1,19.7,9.9,21.2,15.6,15.2,10.2,8.9,11.0,13.7,3.8,6.6,0.3,10.2,18.1,6.5,6.6,11.5,17.3,15.5,8.1,15.4,0.7,8.6,18.8,17.0,15.2,24.0,5.1,17.7,23.8,21.5,-1.7,23.8,8.8,11.6,24.4,5.2,8.4,9.8,18.6,8.9,13.6,16.5,17.0,22.8,-4.2,4.6,17.3,8.2,0.9,8.3,5.5,12.5,18.2,8.5,21.6,-5.5,17.2,13.1,23.1,14.7,13.0,15.1,8.5,20.6,14.2,12.4,4.9,17.2,16.6,2.1,2.8,4.5,13.2,6.4,14.5,19.3,9.2,-0.6,6.2,5.5,14.8,10.7,-6.5,13.8,17.9,14.0,18.8,11.7,18.0,11.1,17.2,22.3,9.3,8.6,18.0,6.3,16.7,9.9,12.7,22.2,11.4,19.1,8.2,7.9,7.2,9.8,15.5,-1.6,21.5,8.2,3.6,13.1,5.6,16.3,21.2,20.5,8.6,11.5,8.1,17.2,8.4,23.7,2.6,-1.1,9.0,10.0,14.4,11.4,1.7,15.1,24.2,11.8,11.6,15.8,13.9,1.7,9.5,21.4,9.0,18.1,20.2,8.4,16.9,8.7,7.1,17.9,18.0,21.8,3.8,11.7,12.0,8.5,9.2,19.7,7.2,0.0,-3.8,3.7,3.0,6.2,13.3,4.5,4.2,7.3,24.9,16.9,12.8,13.4,13.9,11.9,8.1,24.1,9.0,13.8,18.3,16.1,4.5,15.4,6.2,19.1,4.2,19.0,16.1,7.8,21.1,16.5,10.7,16.9,19.1,12.6,6.6,19.8,18.1,24.6,8.9,6.6,11.5,6.0,21.2,15.0,6.0,5.6,0.8,9.5,4.0,18.7,8.2,15.7,3.4,12.8,20.5,13.7,16.4,14.0,17.0,16.9,7.2,25.7,7.7,8.3,15.1,1.1,16.3,13.6,17.3,8.1,-0.7,25.3,-0.7,6.7,21.7,0.0,17.4,22.9,10.1,19.8,20.0,5.6,15.7,7.5,21.6,4.8,3.5,17.3,14.1,20.3,19.1,21.4,18.0,4.5,6.0,9.4,17.2,16.8,14.9,13.5,4.6,4.1,7.5,11.5,20.3,9.0,3.4,12.6,22.4,3.3,23.1,16.4,5.3,5.8,22.0,4.9,11.6,8.4,21.4,6.9,11.3,5.0,5.6,16.1,13.2,17.2,19.5,7.3,18.6,23.0,9.5,17.6,16.2,1.4,18.1,16.0,7.7,17.0,25.6,0.7,13.3,14.0,8.0,14.8,19.3,13.9,11.3,0.2,22.4,19.1,18.1,19.1,5.9,13.6,22.1,7.5,12.9,14.0,5.4,4.2,-1.6,14.7,14.4,12.6,16.2,2.2,5.0,17.6,17.1,11.9,11.3,15.2,14.9,18.9,7.8,20.6,12.6,22.0,10.0,10.5,21.8,1.8,18.2,7.6,13.8,9.7,17.3,5.5,12.5,13.0,5.5,4.2,8.9,13.5,-2.7,15.0,13.3,9.1,16.8,13.0,9.3,12.6,11.4,9.2,18.4,13.5,3.0,8.8,20.4,3.4,22.6,16.6,21.0,19.2,24.4,17.6,21.6,15.4,7.3,15.3,15.6,21.7,7.2,23.2,8.2,11.3,10.9,5.1,18.9,11.6,4.0,12.9,17.9,16.6,4.1,5.0,24.9,16.8,7.6,4.1,23.0,12.7,3.4,19.0,18.7,6.2,13.4,12.8,9.3,25.5,12.1,23.3,19.8,10.5,4.7,19.7,26.0,20.8,6.1,7.6,6.1,10.0,12.1,22.9,18.5,18.0,10.0,17.1,13.0,4.5,8.5,14.9,17.8,7.7,5.1,13.6,11.4,9.4,17.5,19.0,23.8,17.1,11.9,13.6],\"xaxis\":\"x\",\"y\":[24.1,21.6,18.0,22.3,25.6,28.3,24.4,23.0,27.4,17.5,27.4,20.8,22.7,13.2,22.6,11.6,32.5,23.9,37.3,18.0,24.1,20.3,39.2,29.1,22.6,23.6,32.6,21.2,19.4,30.6,30.9,36.6,22.0,21.8,15.1,32.7,20.8,12.6,13.1,21.8,27.3,22.9,24.4,16.2,16.7,28.4,13.7,20.8,37.9,17.8,23.22134827564685,13.0,32.9,13.0,31.7,28.6,23.2,21.9,29.7,33.9,14.1,17.0,29.2,22.4,16.6,22.7,20.7,9.6,25.5,24.9,24.1,27.5,26.1,24.8,27.7,18.5,21.4,14.8,18.9,16.8,38.6,30.4,24.7,28.7,23.22134827564685,37.0,14.6,18.9,28.7,17.5,27.8,37.7,23.9,20.9,12.9,15.6,23.7,31.5,21.0,22.7,32.8,15.1,16.2,24.5,19.0,20.7,21.4,25.2,29.8,32.4,10.0,3.9,20.1,26.4,19.8,11.5,24.2,30.0,18.7,20.6,16.2,15.6,13.6,13.3,21.3,21.0,20.9,29.4,29.8,22.5,20.1,19.2,14.7,19.9,12.4,22.4,15.0,19.6,18.2,17.9,19.5,13.6,13.4,21.4,23.0,23.6,26.0,31.3,34.1,21.8,4.1,15.0,33.4,15.2,21.2,27.5,16.5,19.2,18.9,21.7,36.9,18.0,18.7,25.3,21.6,22.5,27.4,20.0,17.7,21.2,20.0,24.1,24.2,15.8,18.5,31.4,29.5,30.4,24.7,17.3,21.7,28.2,27.6,32.2,29.0,44.4,13.6,16.9,12.6,23.0,27.2,16.9,18.4,27.1,29.2,17.2,30.1,28.0,36.6,17.7,25.4,29.7,22.5,18.0,18.4,37.1,24.4,16.5,26.8,23.22134827564685,23.22134827564685,20.6,18.2,11.2,15.4,14.6,29.0,33.4,14.0,12.5,16.4,17.5,18.9,22.7,10.1,31.9,23.9,40.7,32.2,15.0,27.0,35.0,28.5,15.9,25.3,40.0,41.0,15.9,25.3,15.4,25.6,27.3,24.0,19.3,35.7,25.3,12.1,19.7,21.0,21.0,13.6,25.1,19.6,20.1,31.8,25.7,17.0,20.6,29.2,30.3,18.8,20.5,17.5,23.22134827564685,18.9,21.4,16.0,31.3,28.1,22.0,18.5,25.7,25.7,17.4,18.6,14.9,17.1,35.9,25.9,12.8,36.5,16.5,24.4,12.3,24.2,23.7,19.2,23.22134827564685,22.5,20.0,20.2,35.5,36.4,14.2,28.1,22.6,24.0,26.3,32.5,25.6,22.0,13.2,19.8,28.4,20.8,42.2,25.2,16.7,15.5,28.1,19.6,24.0,13.7,24.3,25.0,22.8,16.3,28.0,22.6,21.8,21.8,20.2,35.8,32.1,27.4,25.6,20.1,24.6,21.6,27.2,22.1,18.0,31.9,27.0,31.8,17.6,26.1,14.6,4.1,24.6,20.4,21.0,20.9,17.8,25.9,32.1,28.4,29.2,19.5,14.3,39.3,18.2,29.5,26.8,28.9,20.0,20.3,22.6,28.6,31.2,22.3,31.6,15.2,32.7,22.8,20.7,33.5,26.5,14.2,14.7,20.0,18.6,23.6,19.7,31.0,32.4,21.3,19.4,19.0,24.4,24.3,20.0,25.8,21.1,12.2,35.3,23.7,21.5,14.9,18.1,19.9,26.1,19.5,19.0,26.8,29.6,19.9,17.6,31.7,1.6,30.2,27.6,20.2,31.9,17.1,29.9,30.0,38.8,19.4,17.2,24.1,32.4,19.9,21.9,26.9,18.3,19.8,18.3,25.7,20.5,28.6,2.1,24.1,19.6,34.8,20.9,28.9,1.6,40.4,18.7,22.5,18.6,32.8,9.7,28.2,29.8,30.1,13.5,15.2,15.5,23.22134827564685,17.0,17.5,20.3,13.4,25.3,32.5,28.0,17.5,16.2,34.0,28.2,28.3,20.2,33.5,26.5,28.9,17.8,16.2,29.9,21.7,13.3,24.4,30.9,32.8,30.2,33.8,19.2,24.6,36.1,27.1,22.0,31.3,37.3,28.4,4.5,19.7,17.3,17.5,27.5,18.5,32.9,12.3,12.8,24.8,17.3,25.3,44.2,29.0,17.4,17.8,25.9,22.2,28.7,25.1,23.8,29.8,14.8,13.5,17.9,18.2,18.1,22.4,16.8,29.6,25.2,25.1,21.2,30.8,22.6,31.1,19.3,13.2,36.3,16.3,31.3,29.8,28.0,19.3,20.0,17.3,15.8,30.7,21.1,28.8,16.2,19.0,29.7,23.22134827564685,24.4,28.3,12.9,28.5,17.2,26.1,26.7,18.3,24.6,27.5,24.1,24.7,21.8,17.9,23.3,26.3,35.8,30.5,22.6,14.5,38.9,28.4,19.9,24.2,19.4,28.2,14.6,14.4,39.5,30.9,19.2,23.4,27.5,30.4,14.7,27.3,24.2,19.1,23.9,28.8,23.9,18.2,16.2,30.2,18.1,19.6,13.2,14.4,20.8,18.9,38.2,32.6,17.4,16.5,19.8,16.7,21.2,17.8,23.22134827564685,20.4,25.5,22.1,30.9,28.2,19.2,30.7,15.8,37.5,19.8,19.1,28.8,13.0,18.6,29.0,19.2,34.0,20.5,20.3,25.4,16.9,20.2,23.4,15.3,30.7,21.0,45.1,18.7,19.2,19.4,18.8,23.22134827564685,17.1,22.4,24.2,30.5,3.9,3.9,21.5,35.4,19.9,30.3,16.5,35.8,18.3,26.2,16.5,17.8,23.2,37.9,18.1,21.0,24.5,17.6,25.8,21.2,20.3,23.3,21.4,26.7,30.2,15.6,13.6,27.8,14.2,17.3,16.4,22.5,15.8,20.1,22.8,23.7,27.6,35.9,22.4,22.1,18.8,19.3,24.4,18.2,17.9,14.8,33.3,21.0,24.8,19.0,17.1,14.1,42.1,17.8,22.0,14.4,33.1,19.1,37.3,24.2,13.1,25.3,25.4,30.9,13.2,36.5,24.0,19.5,30.7,33.8,12.9,32.9,19.3,17.2,11.6,19.8,29.5,24.0,13.9,19.5,28.3,21.5,25.9,16.5,27.8,11.9,33.2,24.6,22.7,12.6,13.7,23.6,29.6,20.4,14.5,16.4,10.9,16.9,25.6,31.6,29.4,32.1,13.2,32.0,17.7,31.1,32.3,19.3,18.0,30.7,23.0,35.3,20.6,34.0,22.2,37.1,27.7,24.4,32.5,21.0,29.4,35.3,29.2,25.3,22.0,22.4,16.9,12.8,17.0,20.2,25.0,36.6,24.5,13.0,19.4,28.0,18.5,20.6,20.7,21.1,19.9,23.22134827564685,24.0,22.4,17.1,14.5,26.9,35.5,26.9,28.8,39.4,18.6,36.2,21.2,14.6,35.0,32.4,26.3,11.8,28.3,31.9,15.4,32.2,29.7,15.6,24.9,36.6,27.7,10.6,21.3,17.0,19.4,28.2,15.4,24.4,27.8,22.4,20.7,29.0,24.1,28.6,33.9,21.7,26.0,23.3,22.6,30.7,21.5,20.6,27.7,16.6,26.3,16.7,28.2,19.3,28.5,22.4,30.3,19.4,23.3,37.6,29.9,18.1,33.9,23.22134827564685,21.4,29.7,33.8,18.2,27.7,10.7,21.2,20.0,23.9,23.3,22.3,29.0,31.8,23.5,23.3,19.2,11.3,19.2,23.7,30.4,21.7,19.4,21.4,22.9,14.8,34.9,13.9,32.8,16.1,26.7,24.5,19.9,27.9,21.6,28.7,43.3,21.7,12.9,8.4,14.1,25.8,32.6,25.9,22.2,26.6,8.1,23.2,18.1,19.9,17.3,21.2,22.8,16.9,17.7,19.0,28.9,23.7,13.2,33.1,33.9,22.1,21.1,21.8,26.1,18.4,21.3,16.0,33.8,24.7,21.4,33.2,7.9,16.8,18.0,32.4,16.3,23.22134827564685,30.6,19.7,32.7,27.0,26.6,15.5,33.9,27.9,17.5,23.22134827564685,23.4,29.8,32.8,24.7,26.6,12.1,27.6,14.2,17.5,24.4,14.7,31.5,25.3,22.0,33.8,20.5,19.4,17.3,30.0,31.4,33.4,26.8,22.9,24.4,34.1,34.6,23.4,24.8,24.6,14.9,16.8,21.6,31.8,23.6,24.9,24.1,29.8,33.9,21.2,19.5,20.0,19.2,19.8,21.3,32.9,19.1,30.7,19.4,26.2,36.0,16.4,13.2,20.3,13.4,20.9,29.0,17.1,24.9,17.8,15.3,17.7,14.7,19.8,20.4,26.9,19.0,26.0,15.1,35.7,15.9,10.9,27.4,17.3,17.8,26.9,31.3,17.7,19.3,19.0,2.2,8.3,18.1,17.2,34.9,33.5,27.6,19.4,23.1,19.6,38.2,26.2,30.2,14.4,18.7,26.0,27.3,28.3,46.8,32.2,32.0,15.9,19.0,32.4,16.9,38.0,24.4,20.6,31.7,28.8,18.0,27.2,26.0,23.0,26.7,16.3,24.3,27.2,22.1,16.8,15.1,25.1,19.6,30.9,27.1,21.1,16.4,33.1,30.9,25.5,16.2,15.7,24.7,30.9,15.5,21.4,26.0,15.4,29.8,20.4,23.6,34.2,9.2,19.7,26.0,23.5,26.0,18.0,23.5,11.1,28.4,28.3,26.4,14.5,12.6,34.4,26.0,20.1,13.0,34.4,22.8,16.6,18.5,32.0,13.1,29.1,24.0,23.22134827564685,21.3,13.9,31.1,6.6,19.1,17.7,28.9,29.3,31.9,16.6,12.9,19.5,19.1,24.6,21.5,28.5,36.9,28.9,20.9,20.9,30.1,15.3,29.9,19.4,26.7,33.1,20.1,24.0,13.7,22.2,31.0,22.9,22.6,14.5,26.8,19.3,16.4,23.22134827564685,17.0,18.0,17.0,36.1,11.4,14.4,40.9,18.5,15.8,26.2,20.1,24.3,32.8,31.2,21.3,18.5,14.9,30.5,39.2,20.2,23.4,27.8,30.9,16.8,21.8,13.9,18.7,15.1,32.2,21.4,27.4,31.3,14.8,23.22134827564685,19.0,25.1,18.9,23.4,15.8,11.9,17.1,23.0,22.5,24.2,28.2,21.7,13.9,17.8,16.8,18.0,28.7,29.4,20.6,14.6,27.1,31.9,28.7,26.1,31.8,13.4,22.1,23.1,19.3,20.9,21.1,24.1,16.3,32.6,32.1,26.2,18.0,20.6,26.6,30.7,26.1,23.9,37.0,26.7,12.4,16.6,28.4,11.0,26.1,22.8,25.2,23.4,16.6,20.5,33.2,27.5,22.7,33.5,12.5,12.2,27.5,15.3,18.4,18.4,22.9,12.7,7.6,25.3,28.2,23.9,29.9,24.4,27.5,21.3,24.3,40.5,36.8,29.8,39.0,18.5,20.0,33.7,19.7,21.2,19.1,23.22134827564685,4.4,25.1,11.7,26.6,27.3,15.2,27.6,16.2,30.6,37.9,14.1,21.3,28.9,39.9,21.0,27.2,23.5,26.5,37.1,23.4,20.1,34.8,28.3,20.4,30.5,23.9,19.2,25.3,29.3,24.6,19.8,36.1,27.3,32.6,31.8,17.4,18.7,20.4,16.1,33.0,20.2,21.2,33.6,25.7,25.6,19.2,15.5,29.9,19.2,14.3,20.1,25.2,35.5,20.5,29.9,24.1,39.8,16.0,26.0,16.9,39.5,18.2,23.2,19.0,18.7,17.9,18.8,14.0,16.4,14.3,26.5,16.6,25.8,20.2,19.0,22.5,43.6,10.8,24.5,17.4,16.7,29.5,26.3,11.8,33.7,34.6,12.6,21.1,17.6,15.2,20.8,27.2,39.1,16.9,32.1,20.8,20.6,17.4,16.2,28.8,24.3,19.8,27.3,19.8,27.5,19.0,12.8,14.2,21.3,34.7,13.8,24.6,16.0,31.8,15.8,13.3,27.2,29.6,32.1,17.3,32.7,18.5,22.8,14.0,12.5,21.2,13.0,13.8,28.5,17.0,30.7,19.2,22.5,29.9,12.5,18.1,35.4,21.3,23.9,24.0,9.8,39.2,18.5,36.2,25.0,16.9,31.5,23.5,27.9,18.4,16.8,19.4,23.8,21.3,36.7,25.5,13.2,15.3,20.5,27.0,29.6,20.8,18.9,17.5,26.1,25.3,26.1,25.1,19.4,22.2,14.8,13.0,14.9,25.1,18.9,28.5,23.22134827564685,19.3,24.2,9.6,15.8,38.2,40.6,26.8,21.7,24.7,15.9,24.5,19.3,24.4,36.2,27.8,19.7,14.4,20.3,24.9,38.5,17.1,32.5,26.4,23.1,15.6,15.7,30.6,19.2,31.2,13.5,25.7,15.5,17.0,27.8,23.1,21.9,26.2,23.2,28.2,22.7,18.1,25.3,24.1,31.7,28.0,12.0,38.8,19.0,22.3,12.2,34.7,19.5,22.2,34.0,31.3,17.6,21.6,29.2,31.1,24.4,13.8,18.0,15.4,20.2,20.9,14.2,21.6,18.7,29.5,29.1,36.9,24.4,36.4,22.6,22.7,17.5,19.8,11.3,22.0,28.7,26.3,18.9,22.3,21.6,19.1,12.7,13.0,31.3,32.5,30.4,17.8,26.3,29.8,21.0,21.8,24.1,40.9,26.3,23.7,33.7,21.9,33.4,20.4,13.5,29.4,22.0,26.1,21.2,16.8,14.9,17.9,19.7,34.6,29.6,23.4,31.3,33.6,22.1,16.0,35.7,35.0,18.2,29.5,31.7,24.3,18.8,25.9,15.1,30.3,24.4,22.9,13.5,31.2,23.5,26.2,38.4,15.1,31.7,33.8,31.0,27.7,27.3,24.5,30.2,27.4,26.4,24.7,28.6,19.5,24.7,16.7,15.3,16.1,20.1,32.0,27.1,21.5,27.2,21.4,22.8,17.3,23.2,14.4,26.9,27.8,37.8,33.9,31.1,16.5,29.9,32.6,23.7,11.8,33.9,23.8,20.5,37.9,12.1,25.3,14.9,27.6,19.0,18.0,26.5,28.8,33.8,10.0,16.6,25.8,23.0,16.8,17.9,17.6,32.3,26.7,24.6,31.5,9.4,35.9,22.0,37.3,22.2,23.2,19.2,29.1,43.5,30.0,22.8,20.4,30.0,38.7,17.6,17.4,17.0,32.5,14.7,19.2,29.8,18.9,5.8,25.4,16.7,23.3,23.4,3.5,28.0,22.3,28.6,27.3,29.0,37.8,18.1,32.0,32.4,16.4,18.9,25.0,27.0,37.3,18.2,29.2,32.4,17.3,35.3,18.2,19.5,20.0,20.0,19.6,15.6,28.2,24.9,20.7,38.1,25.9,25.7,25.7,23.8,14.5,16.5,29.1,23.5,14.9,27.9,17.1,16.2,20.8,16.7,28.5,28.7,21.6,33.0,32.0,23.4,24.6,31.7,30.6,16.2,21.7,30.3,14.5,22.7,32.0,26.9,25.1,19.6,17.2,29.0,21.5,33.2,16.1,24.2,17.6,17.5,24.8,32.7,19.9,17.4,6.6,15.3,10.0,23.5,31.4,14.6,14.0,22.0,38.1,24.0,22.5,26.9,18.3,20.2,14.4,30.5,24.1,20.8,25.1,19.3,15.4,22.8,25.1,21.3,13.2,33.2,33.8,24.1,30.5,23.9,17.3,31.6,24.7,27.6,17.4,30.1,24.4,29.5,10.4,15.8,19.2,21.1,27.7,29.2,19.0,21.4,18.1,24.8,13.0,25.2,16.7,36.3,19.7,14.6,26.7,28.5,35.8,25.1,24.0,29.0,13.5,34.9,18.9,19.1,20.4,10.9,19.5,26.9,32.6,16.4,8.8,31.2,14.0,22.0,29.5,8.0,20.2,32.5,23.2,30.1,26.5,11.2,19.7,14.6,28.2,8.0,21.6,25.6,27.1,26.8,25.7,32.1,26.4,11.3,15.7,14.4,22.6,24.5,23.2,14.3,17.1,17.0,24.6,19.0,37.2,21.0,14.2,23.7,32.0,11.5,32.1,41.1,20.2,14.9,33.6,13.3,32.7,24.7,27.4,21.6,16.8,16.6,19.8,26.5,18.2,30.5,25.2,12.2,35.6,38.9,17.6,29.3,24.3,4.5,20.6,25.5,22.9,26.1,41.4,18.3,18.3,24.1,24.3,29.0,28.7,36.6,22.2,15.9,31.5,24.0,22.2,26.1,20.4,20.0,27.3,23.1,29.2,26.2,17.5,14.4,13.9,17.8,30.1,31.4,26.4,16.6,15.4,29.6,28.7,23.2,12.0,19.2,24.6,34.0,13.9,27.6,17.3,28.8,27.2,17.0,31.1,12.5,37.5,20.7,16.6,20.1,28.9,12.3,20.8,28.3,17.8,12.1,17.3,18.7,13.8,20.6,29.5,13.2,28.9,22.4,15.4,28.0,18.3,14.4,24.2,23.5,21.8,22.2,31.6,19.3,32.5,34.2,28.2,30.1,35.4,24.7,26.3,33.6,16.4,21.7,37.5,45.8,20.2,29.0,15.2,24.7,25.5,21.4,30.5,18.9,21.1,19.7,27.2,30.9,27.7,30.6,32.0,25.1,24.0,24.3,28.4,23.3,23.5,27.3,22.4,12.9,20.3,26.8,22.9,32.0,29.8,32.4,29.1,32.5,14.7,37.4,35.7,31.1,14.0,27.9,17.1,17.9,25.6,35.6,26.7,33.9,14.3,26.2,24.6,12.2,19.0,31.5,36.9,12.7,22.6,36.1,28.5,25.8,27.3,28.4,31.2,37.4,17.7,29.3],\"yaxis\":\"y\",\"type\":\"scattergl\"}],                        {\"template\":{\"data\":{\"bar\":[{\"error_x\":{\"color\":\"#2a3f5f\"},\"error_y\":{\"color\":\"#2a3f5f\"},\"marker\":{\"line\":{\"color\":\"#E5ECF6\",\"width\":0.5},\"pattern\":{\"fillmode\":\"overlay\",\"size\":10,\"solidity\":0.2}},\"type\":\"bar\"}],\"barpolar\":[{\"marker\":{\"line\":{\"color\":\"#E5ECF6\",\"width\":0.5},\"pattern\":{\"fillmode\":\"overlay\",\"size\":10,\"solidity\":0.2}},\"type\":\"barpolar\"}],\"carpet\":[{\"aaxis\":{\"endlinecolor\":\"#2a3f5f\",\"gridcolor\":\"white\",\"linecolor\":\"white\",\"minorgridcolor\":\"white\",\"startlinecolor\":\"#2a3f5f\"},\"baxis\":{\"endlinecolor\":\"#2a3f5f\",\"gridcolor\":\"white\",\"linecolor\":\"white\",\"minorgridcolor\":\"white\",\"startlinecolor\":\"#2a3f5f\"},\"type\":\"carpet\"}],\"choropleth\":[{\"colorbar\":{\"outlinewidth\":0,\"ticks\":\"\"},\"type\":\"choropleth\"}],\"contour\":[{\"colorbar\":{\"outlinewidth\":0,\"ticks\":\"\"},\"colorscale\":[[0.0,\"#0d0887\"],[0.1111111111111111,\"#46039f\"],[0.2222222222222222,\"#7201a8\"],[0.3333333333333333,\"#9c179e\"],[0.4444444444444444,\"#bd3786\"],[0.5555555555555556,\"#d8576b\"],[0.6666666666666666,\"#ed7953\"],[0.7777777777777778,\"#fb9f3a\"],[0.8888888888888888,\"#fdca26\"],[1.0,\"#f0f921\"]],\"type\":\"contour\"}],\"contourcarpet\":[{\"colorbar\":{\"outlinewidth\":0,\"ticks\":\"\"},\"type\":\"contourcarpet\"}],\"heatmap\":[{\"colorbar\":{\"outlinewidth\":0,\"ticks\":\"\"},\"colorscale\":[[0.0,\"#0d0887\"],[0.1111111111111111,\"#46039f\"],[0.2222222222222222,\"#7201a8\"],[0.3333333333333333,\"#9c179e\"],[0.4444444444444444,\"#bd3786\"],[0.5555555555555556,\"#d8576b\"],[0.6666666666666666,\"#ed7953\"],[0.7777777777777778,\"#fb9f3a\"],[0.8888888888888888,\"#fdca26\"],[1.0,\"#f0f921\"]],\"type\":\"heatmap\"}],\"heatmapgl\":[{\"colorbar\":{\"outlinewidth\":0,\"ticks\":\"\"},\"colorscale\":[[0.0,\"#0d0887\"],[0.1111111111111111,\"#46039f\"],[0.2222222222222222,\"#7201a8\"],[0.3333333333333333,\"#9c179e\"],[0.4444444444444444,\"#bd3786\"],[0.5555555555555556,\"#d8576b\"],[0.6666666666666666,\"#ed7953\"],[0.7777777777777778,\"#fb9f3a\"],[0.8888888888888888,\"#fdca26\"],[1.0,\"#f0f921\"]],\"type\":\"heatmapgl\"}],\"histogram\":[{\"marker\":{\"pattern\":{\"fillmode\":\"overlay\",\"size\":10,\"solidity\":0.2}},\"type\":\"histogram\"}],\"histogram2d\":[{\"colorbar\":{\"outlinewidth\":0,\"ticks\":\"\"},\"colorscale\":[[0.0,\"#0d0887\"],[0.1111111111111111,\"#46039f\"],[0.2222222222222222,\"#7201a8\"],[0.3333333333333333,\"#9c179e\"],[0.4444444444444444,\"#bd3786\"],[0.5555555555555556,\"#d8576b\"],[0.6666666666666666,\"#ed7953\"],[0.7777777777777778,\"#fb9f3a\"],[0.8888888888888888,\"#fdca26\"],[1.0,\"#f0f921\"]],\"type\":\"histogram2d\"}],\"histogram2dcontour\":[{\"colorbar\":{\"outlinewidth\":0,\"ticks\":\"\"},\"colorscale\":[[0.0,\"#0d0887\"],[0.1111111111111111,\"#46039f\"],[0.2222222222222222,\"#7201a8\"],[0.3333333333333333,\"#9c179e\"],[0.4444444444444444,\"#bd3786\"],[0.5555555555555556,\"#d8576b\"],[0.6666666666666666,\"#ed7953\"],[0.7777777777777778,\"#fb9f3a\"],[0.8888888888888888,\"#fdca26\"],[1.0,\"#f0f921\"]],\"type\":\"histogram2dcontour\"}],\"mesh3d\":[{\"colorbar\":{\"outlinewidth\":0,\"ticks\":\"\"},\"type\":\"mesh3d\"}],\"parcoords\":[{\"line\":{\"colorbar\":{\"outlinewidth\":0,\"ticks\":\"\"}},\"type\":\"parcoords\"}],\"pie\":[{\"automargin\":true,\"type\":\"pie\"}],\"scatter\":[{\"marker\":{\"colorbar\":{\"outlinewidth\":0,\"ticks\":\"\"}},\"type\":\"scatter\"}],\"scatter3d\":[{\"line\":{\"colorbar\":{\"outlinewidth\":0,\"ticks\":\"\"}},\"marker\":{\"colorbar\":{\"outlinewidth\":0,\"ticks\":\"\"}},\"type\":\"scatter3d\"}],\"scattercarpet\":[{\"marker\":{\"colorbar\":{\"outlinewidth\":0,\"ticks\":\"\"}},\"type\":\"scattercarpet\"}],\"scattergeo\":[{\"marker\":{\"colorbar\":{\"outlinewidth\":0,\"ticks\":\"\"}},\"type\":\"scattergeo\"}],\"scattergl\":[{\"marker\":{\"colorbar\":{\"outlinewidth\":0,\"ticks\":\"\"}},\"type\":\"scattergl\"}],\"scattermapbox\":[{\"marker\":{\"colorbar\":{\"outlinewidth\":0,\"ticks\":\"\"}},\"type\":\"scattermapbox\"}],\"scatterpolar\":[{\"marker\":{\"colorbar\":{\"outlinewidth\":0,\"ticks\":\"\"}},\"type\":\"scatterpolar\"}],\"scatterpolargl\":[{\"marker\":{\"colorbar\":{\"outlinewidth\":0,\"ticks\":\"\"}},\"type\":\"scatterpolargl\"}],\"scatterternary\":[{\"marker\":{\"colorbar\":{\"outlinewidth\":0,\"ticks\":\"\"}},\"type\":\"scatterternary\"}],\"surface\":[{\"colorbar\":{\"outlinewidth\":0,\"ticks\":\"\"},\"colorscale\":[[0.0,\"#0d0887\"],[0.1111111111111111,\"#46039f\"],[0.2222222222222222,\"#7201a8\"],[0.3333333333333333,\"#9c179e\"],[0.4444444444444444,\"#bd3786\"],[0.5555555555555556,\"#d8576b\"],[0.6666666666666666,\"#ed7953\"],[0.7777777777777778,\"#fb9f3a\"],[0.8888888888888888,\"#fdca26\"],[1.0,\"#f0f921\"]],\"type\":\"surface\"}],\"table\":[{\"cells\":{\"fill\":{\"color\":\"#EBF0F8\"},\"line\":{\"color\":\"white\"}},\"header\":{\"fill\":{\"color\":\"#C8D4E3\"},\"line\":{\"color\":\"white\"}},\"type\":\"table\"}]},\"layout\":{\"annotationdefaults\":{\"arrowcolor\":\"#2a3f5f\",\"arrowhead\":0,\"arrowwidth\":1},\"autotypenumbers\":\"strict\",\"coloraxis\":{\"colorbar\":{\"outlinewidth\":0,\"ticks\":\"\"}},\"colorscale\":{\"diverging\":[[0,\"#8e0152\"],[0.1,\"#c51b7d\"],[0.2,\"#de77ae\"],[0.3,\"#f1b6da\"],[0.4,\"#fde0ef\"],[0.5,\"#f7f7f7\"],[0.6,\"#e6f5d0\"],[0.7,\"#b8e186\"],[0.8,\"#7fbc41\"],[0.9,\"#4d9221\"],[1,\"#276419\"]],\"sequential\":[[0.0,\"#0d0887\"],[0.1111111111111111,\"#46039f\"],[0.2222222222222222,\"#7201a8\"],[0.3333333333333333,\"#9c179e\"],[0.4444444444444444,\"#bd3786\"],[0.5555555555555556,\"#d8576b\"],[0.6666666666666666,\"#ed7953\"],[0.7777777777777778,\"#fb9f3a\"],[0.8888888888888888,\"#fdca26\"],[1.0,\"#f0f921\"]],\"sequentialminus\":[[0.0,\"#0d0887\"],[0.1111111111111111,\"#46039f\"],[0.2222222222222222,\"#7201a8\"],[0.3333333333333333,\"#9c179e\"],[0.4444444444444444,\"#bd3786\"],[0.5555555555555556,\"#d8576b\"],[0.6666666666666666,\"#ed7953\"],[0.7777777777777778,\"#fb9f3a\"],[0.8888888888888888,\"#fdca26\"],[1.0,\"#f0f921\"]]},\"colorway\":[\"#636efa\",\"#EF553B\",\"#00cc96\",\"#ab63fa\",\"#FFA15A\",\"#19d3f3\",\"#FF6692\",\"#B6E880\",\"#FF97FF\",\"#FECB52\"],\"font\":{\"color\":\"#2a3f5f\"},\"geo\":{\"bgcolor\":\"white\",\"lakecolor\":\"white\",\"landcolor\":\"#E5ECF6\",\"showlakes\":true,\"showland\":true,\"subunitcolor\":\"white\"},\"hoverlabel\":{\"align\":\"left\"},\"hovermode\":\"closest\",\"mapbox\":{\"style\":\"light\"},\"paper_bgcolor\":\"white\",\"plot_bgcolor\":\"#E5ECF6\",\"polar\":{\"angularaxis\":{\"gridcolor\":\"white\",\"linecolor\":\"white\",\"ticks\":\"\"},\"bgcolor\":\"#E5ECF6\",\"radialaxis\":{\"gridcolor\":\"white\",\"linecolor\":\"white\",\"ticks\":\"\"}},\"scene\":{\"xaxis\":{\"backgroundcolor\":\"#E5ECF6\",\"gridcolor\":\"white\",\"gridwidth\":2,\"linecolor\":\"white\",\"showbackground\":true,\"ticks\":\"\",\"zerolinecolor\":\"white\"},\"yaxis\":{\"backgroundcolor\":\"#E5ECF6\",\"gridcolor\":\"white\",\"gridwidth\":2,\"linecolor\":\"white\",\"showbackground\":true,\"ticks\":\"\",\"zerolinecolor\":\"white\"},\"zaxis\":{\"backgroundcolor\":\"#E5ECF6\",\"gridcolor\":\"white\",\"gridwidth\":2,\"linecolor\":\"white\",\"showbackground\":true,\"ticks\":\"\",\"zerolinecolor\":\"white\"}},\"shapedefaults\":{\"line\":{\"color\":\"#2a3f5f\"}},\"ternary\":{\"aaxis\":{\"gridcolor\":\"white\",\"linecolor\":\"white\",\"ticks\":\"\"},\"baxis\":{\"gridcolor\":\"white\",\"linecolor\":\"white\",\"ticks\":\"\"},\"bgcolor\":\"#E5ECF6\",\"caxis\":{\"gridcolor\":\"white\",\"linecolor\":\"white\",\"ticks\":\"\"}},\"title\":{\"x\":0.05},\"xaxis\":{\"automargin\":true,\"gridcolor\":\"white\",\"linecolor\":\"white\",\"ticks\":\"\",\"title\":{\"standoff\":15},\"zerolinecolor\":\"white\",\"zerolinewidth\":2},\"yaxis\":{\"automargin\":true,\"gridcolor\":\"white\",\"linecolor\":\"white\",\"ticks\":\"\",\"title\":{\"standoff\":15},\"zerolinecolor\":\"white\",\"zerolinewidth\":2}}},\"xaxis\":{\"anchor\":\"y\",\"domain\":[0.0,1.0],\"title\":{\"text\":\"MinTemp\"}},\"yaxis\":{\"anchor\":\"x\",\"domain\":[0.0,1.0],\"title\":{\"text\":\"MaxTemp\"}},\"coloraxis\":{\"colorbar\":{\"title\":{\"text\":\"RainToday\"}},\"colorscale\":[[0.0,\"#0d0887\"],[0.1111111111111111,\"#46039f\"],[0.2222222222222222,\"#7201a8\"],[0.3333333333333333,\"#9c179e\"],[0.4444444444444444,\"#bd3786\"],[0.5555555555555556,\"#d8576b\"],[0.6666666666666666,\"#ed7953\"],[0.7777777777777778,\"#fb9f3a\"],[0.8888888888888888,\"#fdca26\"],[1.0,\"#f0f921\"]]},\"legend\":{\"tracegroupgap\":0},\"title\":{\"text\":\"Min Temp. vs Max Temp.\"},\"height\":600,\"width\":600},                        {\"responsive\": true}                    ).then(function(){\n",
              "                            \n",
              "var gd = document.getElementById('9a440dea-08f2-447e-889c-ba3d2f13dbd9');\n",
              "var x = new MutationObserver(function (mutations, observer) {{\n",
              "        var display = window.getComputedStyle(gd).display;\n",
              "        if (!display || display === 'none') {{\n",
              "            console.log([gd, 'removed!']);\n",
              "            Plotly.purge(gd);\n",
              "            observer.disconnect();\n",
              "        }}\n",
              "}});\n",
              "\n",
              "// Listen for the removal of the full notebook cells\n",
              "var notebookContainer = gd.closest('#notebook-container');\n",
              "if (notebookContainer) {{\n",
              "    x.observe(notebookContainer, {childList: true});\n",
              "}}\n",
              "\n",
              "// Listen for the clearing of the current output cell\n",
              "var outputEl = gd.closest('.output');\n",
              "if (outputEl) {{\n",
              "    x.observe(outputEl, {childList: true});\n",
              "}}\n",
              "\n",
              "                        })                };                            </script>        </div>\n",
              "</body>\n",
              "</html>"
            ]
          },
          "metadata": {}
        }
      ]
    },
    {
      "cell_type": "markdown",
      "source": [
        "There is a linear positive correlation between minimum temperature and maximum temperature."
      ],
      "metadata": {
        "id": "HnAScH8JvJkc"
      }
    },
    {
      "cell_type": "markdown",
      "source": [
        "### **Visualizing Temperature and Humidity at 3pm**"
      ],
      "metadata": {
        "id": "XJzguX-jvnsk"
      }
    },
    {
      "cell_type": "code",
      "source": [
        "px.scatter(df.sample(2000), \n",
        "           title='Temp (3 pm) vs. Humidity (3 pm)',\n",
        "           x='Temp3pm',\n",
        "           y='Humidity3pm',\n",
        "           width=600, height=600,\n",
        "           color='RainTomorrow')"
      ],
      "metadata": {
        "colab": {
          "base_uri": "https://localhost:8080/",
          "height": 617
        },
        "id": "gRgL1H7gvCzg",
        "outputId": "5da61240-b54e-431d-8a3e-a4e1d6247f11"
      },
      "execution_count": null,
      "outputs": [
        {
          "output_type": "display_data",
          "data": {
            "text/html": [
              "<html>\n",
              "<head><meta charset=\"utf-8\" /></head>\n",
              "<body>\n",
              "    <div>            <script src=\"https://cdnjs.cloudflare.com/ajax/libs/mathjax/2.7.5/MathJax.js?config=TeX-AMS-MML_SVG\"></script><script type=\"text/javascript\">if (window.MathJax) {MathJax.Hub.Config({SVG: {font: \"STIX-Web\"}});}</script>                <script type=\"text/javascript\">window.PlotlyConfig = {MathJaxConfig: 'local'};</script>\n",
              "        <script src=\"https://cdn.plot.ly/plotly-2.8.3.min.js\"></script>                <div id=\"b7f20377-5f3e-403f-96bf-7f41e10bd1db\" class=\"plotly-graph-div\" style=\"height:600px; width:600px;\"></div>            <script type=\"text/javascript\">                                    window.PLOTLYENV=window.PLOTLYENV || {};                                    if (document.getElementById(\"b7f20377-5f3e-403f-96bf-7f41e10bd1db\")) {                    Plotly.newPlot(                        \"b7f20377-5f3e-403f-96bf-7f41e10bd1db\",                        [{\"hovertemplate\":\"RainTomorrow=No<br>Temp3pm=%{x}<br>Humidity3pm=%{y}<extra></extra>\",\"legendgroup\":\"No\",\"marker\":{\"color\":\"#636efa\",\"symbol\":\"circle\"},\"mode\":\"markers\",\"name\":\"No\",\"showlegend\":true,\"x\":[32.7,24.5,23.7,17.0,15.8,18.1,24.3,31.4,30.9,0.8,21.68339031800974,29.3,25.3,24.3,31.4,22.8,13.5,26.9,34.0,25.5,19.8,11.6,31.2,27.4,22.9,19.3,25.5,22.6,14.1,18.8,25.8,19.3,21.0,27.9,19.9,21.68339031800974,11.4,15.0,15.8,23.3,25.0,20.9,28.3,14.1,28.9,8.1,28.4,31.2,22.3,17.7,20.4,21.0,39.9,20.7,18.2,15.7,16.4,22.4,30.3,16.2,31.9,16.7,14.0,16.6,28.5,15.7,25.4,23.3,21.5,18.0,21.2,2.4,24.5,25.6,11.2,19.5,27.2,20.3,25.1,15.5,20.9,24.8,22.4,39.0,12.4,22.8,14.2,25.2,16.8,21.5,17.7,24.0,22.1,12.7,25.3,22.7,18.3,13.3,29.1,28.9,19.7,22.8,27.4,18.6,16.8,21.68339031800974,10.2,18.5,16.9,15.9,23.6,18.1,38.7,20.5,35.9,33.8,18.4,34.1,24.7,19.9,14.6,33.6,13.1,23.0,19.8,29.5,18.8,36.0,20.7,21.3,23.1,17.0,23.8,21.68339031800974,11.2,21.68339031800974,23.8,26.8,15.5,30.2,28.0,24.6,13.6,27.0,22.5,14.7,24.5,19.3,14.3,23.8,16.7,27.6,13.5,26.8,24.0,20.4,22.7,18.0,18.0,19.4,28.9,21.4,21.7,25.6,15.4,33.2,19.7,10.6,28.1,16.4,24.1,25.6,9.2,18.9,22.3,20.2,31.3,17.1,28.9,35.0,23.5,31.5,22.2,17.3,29.5,20.9,15.7,15.1,21.6,20.6,24.2,25.2,15.0,9.1,15.7,13.4,28.2,17.9,28.0,13.4,13.8,21.68339031800974,11.1,22.6,17.9,16.9,34.4,34.7,7.2,26.8,23.5,20.0,18.6,21.2,18.9,17.6,25.8,24.5,16.6,19.2,25.7,38.2,27.8,30.6,17.0,23.7,20.1,17.1,17.7,30.0,27.0,23.4,26.6,20.6,16.6,15.0,17.8,25.4,14.1,24.5,22.3,25.1,15.2,8.1,13.2,12.5,21.68339031800974,28.3,38.3,20.4,14.1,20.0,19.0,31.7,30.6,21.9,17.0,27.0,33.6,16.5,17.6,23.3,21.8,21.1,24.7,17.0,31.1,17.2,17.1,25.3,19.7,30.1,25.2,28.4,21.7,22.9,13.5,21.9,19.9,15.0,33.4,20.3,16.1,21.1,15.4,10.3,23.1,21.7,24.6,28.0,27.3,33.2,21.1,13.4,27.7,23.2,17.3,27.5,27.4,27.1,30.9,25.4,23.2,30.0,15.8,14.1,20.9,11.0,24.0,23.0,17.4,26.9,12.9,17.2,25.0,19.4,15.7,14.7,25.9,18.5,18.6,22.6,13.7,16.8,15.5,18.9,36.1,38.8,20.8,27.1,30.1,3.1,25.8,16.4,22.3,27.2,25.9,14.8,17.8,24.6,13.6,24.5,19.8,26.1,18.7,19.3,15.3,19.8,34.0,16.0,34.6,27.6,11.7,16.1,16.9,30.0,22.7,15.8,20.2,28.2,26.8,30.1,14.4,16.1,13.5,27.5,24.0,23.9,21.68339031800974,17.5,21.68339031800974,16.2,21.68339031800974,19.2,41.5,21.0,24.6,11.5,16.9,25.3,14.6,19.9,19.0,30.1,19.8,16.2,13.8,20.2,21.0,27.8,27.9,17.4,25.2,21.4,22.8,17.0,21.6,28.7,20.4,28.9,15.1,17.0,30.8,19.7,21.2,23.7,14.2,15.5,29.6,11.9,29.4,34.4,25.4,33.8,20.9,30.8,30.3,25.0,14.6,15.2,19.1,17.9,11.2,22.8,19.6,18.8,29.6,15.8,27.0,21.0,25.8,22.1,18.3,14.7,26.4,22.5,33.2,26.9,20.3,21.68339031800974,19.6,23.8,26.2,21.68339031800974,23.6,18.8,11.7,17.5,12.2,30.1,28.9,24.1,22.8,23.2,31.2,34.6,33.9,24.2,17.1,31.9,30.2,13.8,27.9,31.1,19.1,36.0,23.5,23.1,11.9,12.0,19.0,12.8,19.2,20.6,11.9,16.2,21.68339031800974,22.5,16.3,17.0,22.4,20.5,25.0,32.7,24.9,17.2,25.6,19.4,17.1,17.2,28.1,24.0,24.4,16.1,28.6,12.0,31.0,19.6,21.68339031800974,31.3,21.0,31.7,19.1,17.4,22.6,32.4,22.2,35.7,13.4,32.5,23.9,23.9,20.2,15.7,24.1,24.7,27.5,21.2,17.0,18.7,14.9,29.7,28.2,14.0,18.4,16.6,16.0,23.0,16.6,24.5,10.3,24.0,17.2,25.5,15.8,16.0,16.7,9.1,27.5,33.7,16.1,23.2,21.1,13.8,33.6,19.7,40.0,17.1,23.4,25.7,36.7,36.0,23.1,21.3,21.68339031800974,18.4,29.5,31.9,32.7,21.6,29.0,17.0,15.2,21.68339031800974,30.2,33.2,10.1,13.4,21.0,19.6,22.5,23.9,34.2,30.0,15.2,19.6,32.7,29.7,22.8,21.7,31.1,8.8,16.4,26.6,21.3,21.1,22.4,21.8,28.6,15.5,21.68339031800974,6.9,21.4,38.0,16.9,22.3,25.1,19.5,25.6,22.5,16.2,27.0,20.4,23.2,32.8,24.6,19.3,15.3,31.9,14.7,31.5,21.68339031800974,23.6,12.6,22.3,19.1,33.0,14.2,29.4,13.8,16.5,32.4,21.68339031800974,24.3,25.0,18.5,12.6,15.0,29.9,31.2,40.5,34.8,16.2,23.0,19.1,21.4,24.6,15.8,30.1,31.1,36.4,23.9,25.0,23.6,30.9,22.6,17.0,14.6,14.8,12.7,10.2,12.1,33.0,21.68339031800974,23.7,24.5,21.68339031800974,22.1,14.0,13.3,26.4,21.4,21.5,26.8,20.9,22.3,20.6,24.0,27.8,33.6,15.0,21.68339031800974,26.9,30.4,32.0,19.3,14.2,25.5,23.1,15.1,10.0,21.68339031800974,34.9,35.5,19.0,27.8,31.7,14.9,24.6,24.2,13.2,24.0,16.9,13.9,31.2,31.1,15.6,23.4,28.3,15.8,35.7,40.7,23.0,18.7,31.3,30.7,24.0,15.9,32.2,26.6,19.5,28.0,17.5,21.4,19.4,21.2,17.0,24.0,21.6,16.7,20.6,22.7,34.6,19.6,38.2,25.0,18.3,23.6,24.8,27.3,16.0,25.5,28.8,24.0,16.1,21.68339031800974,24.4,11.6,12.6,21.0,27.9,35.9,26.1,19.6,14.0,28.8,39.5,28.7,22.6,16.6,25.3,25.9,15.8,27.7,21.6,12.3,11.0,25.5,18.4,31.6,18.1,31.4,13.0,25.7,23.7,25.3,21.0,22.9,24.0,27.4,14.3,17.5,37.0,30.9,17.7,18.3,23.9,13.2,12.2,23.7,21.68339031800974,14.4,25.1,17.4,28.6,21.6,15.2,27.8,17.9,19.6,17.8,13.5,23.8,15.6,21.0,15.3,15.6,14.1,21.2,23.6,17.7,22.9,29.0,23.9,9.3,21.68339031800974,14.3,21.68339031800974,16.2,21.68339031800974,12.5,20.0,19.9,17.8,22.2,17.8,12.5,13.3,38.3,24.8,21.2,19.9,13.8,17.8,17.4,25.5,24.7,35.2,15.6,24.1,20.6,11.5,24.6,14.7,26.9,27.3,17.6,12.9,26.1,8.9,18.3,19.9,21.68339031800974,26.3,21.1,13.8,22.8,21.68339031800974,24.3,18.4,20.3,17.0,17.6,27.9,26.8,24.6,29.7,13.7,29.5,25.1,18.3,20.6,21.68339031800974,27.9,23.9,23.4,26.3,22.0,23.9,20.1,16.5,15.9,12.9,19.9,31.1,24.0,15.2,29.7,11.3,28.3,19.2,28.1,21.68339031800974,19.0,22.3,26.1,23.0,17.8,29.2,14.5,18.3,16.0,24.6,16.1,12.8,26.9,17.3,22.9,36.0,38.4,28.7,34.6,34.0,18.3,31.2,19.1,26.1,32.8,17.3,16.3,16.0,21.0,32.1,18.5,14.3,31.3,28.1,23.6,13.0,15.8,23.9,26.8,18.4,16.9,13.3,20.1,27.8,16.0,21.7,10.6,20.4,30.2,33.3,33.1,29.1,17.2,27.0,17.1,27.1,22.3,31.9,24.2,23.1,16.0,21.7,24.0,21.68339031800974,27.5,15.4,14.4,27.0,17.8,14.2,27.9,18.1,25.1,11.2,11.1,38.5,16.4,27.8,26.3,27.6,31.2,26.6,23.3,17.2,17.9,28.7,20.2,16.0,35.6,20.3,14.4,24.2,38.4,19.4,22.6,16.1,20.3,13.9,15.8,16.1,32.3,23.9,21.68339031800974,34.8,16.3,14.3,20.8,30.2,10.5,25.8,14.3,25.0,22.9,25.8,24.2,18.5,13.4,19.8,35.8,19.5,14.2,24.4,31.0,14.4,19.9,21.7,30.7,27.4,26.6,23.4,7.1,27.1,22.1,27.3,27.9,10.6,23.6,30.8,17.9,24.7,28.5,14.3,40.2,21.4,14.2,29.0,22.6,13.5,15.2,26.3,11.8,23.4,16.8,17.7,36.5,31.0,14.5,23.3,20.0,21.5,20.5,23.7,12.7,24.7,11.9,33.5,27.7,19.0,24.3,13.2,22.3,15.4,29.5,13.4,23.4,16.7,17.0,26.9,29.4,18.4,15.2,40.0,16.2,29.8,29.7,23.1,19.0,21.68339031800974,34.0,16.8,20.8,20.9,16.6,20.2,22.1,27.4,23.8,33.8,22.1,16.6,35.5,20.1,24.9,19.5,24.5,33.8,15.0,21.68339031800974,14.8,18.8,21.3,22.7,18.9,19.3,15.8,37.5,18.3,29.5,21.6,15.1,23.7,26.3,37.5,22.5,15.6,21.6,15.8,21.4,18.5,21.8,21.68339031800974,25.8,14.8,20.2,26.0,38.5,17.5,29.6,25.4,29.5,30.3,18.5,32.6,14.1,29.5,26.1,25.3,25.6,17.3,16.8,16.0,21.8,16.7,17.1,20.0,22.0,24.1,16.1,25.0,17.6,22.0,40.5,24.2,28.0,15.7,23.9,19.6,23.8,22.4,27.2,18.2,28.1,22.5,31.5,21.2,16.2,20.6,17.3,29.5,29.1,17.4,14.2,29.4,16.7,14.3,29.6,16.1,22.6,22.5,9.7,14.8,29.0,21.7,15.2,19.6,14.9,21.9,28.0,34.9,34.2,15.3,24.1,31.4,21.68339031800974,17.4,26.6,13.3,17.7,23.6,22.6,29.1,29.1,24.5,32.6,19.4,29.9,15.7,9.8,38.5,23.0,21.68339031800974,33.0,17.4,24.0,18.7,15.9,24.9,19.7,28.8,26.6,29.6,19.1,27.8,23.3,20.9,25.8,12.6,12.6,20.0,21.4,24.7,19.8,12.0,16.3,24.4,27.9,20.0,33.7,31.4,14.9,21.68339031800974,26.3,18.0,13.0,24.3,13.6,19.3,28.9,27.7,17.0,32.7,40.0,21.68339031800974,19.9,29.6,15.0,24.1,14.2,24.7,33.7,22.7,23.0,14.7,16.0,15.1,29.4,14.8,19.7,28.6,17.3,33.9,36.7,35.8,15.1,22.6,24.1,16.5,21.3,24.7,22.5,36.1,23.6,21.6,15.9,17.3,22.0,26.1,25.4,29.3,30.7,34.4,20.6,17.8,31.9,16.8,29.9,31.3,18.9,11.2,20.6,16.5,13.9,27.2,16.9,23.3,22.0,27.8,26.3,15.5,17.9,17.2,22.1,31.4,30.1,27.6,13.6,22.3,21.0,31.4,18.2,22.1,21.8,16.8,19.0,27.6,24.1,19.2,19.5,23.8,22.5,20.5,28.3,33.1,17.2,21.68339031800974,29.3,29.9,19.0,22.6,17.5,30.5,19.6,32.2,18.7,18.6,15.7,8.4,28.4,24.6,13.4,18.8,34.2,24.4,35.9,19.1,29.0,27.7,18.1,19.9,27.9,26.6,22.0,23.9,21.6,30.5,21.4,14.0,24.7,22.4,25.3,20.8,16.8,39.3,28.7,13.1,25.5,20.0,29.3,20.2,14.1,33.6,14.6,20.5,23.7,24.1,20.3,19.5,27.3,15.1,20.1,26.9,24.1,20.0,28.4,29.2,22.4,22.8,17.7,20.3,27.5,13.5,22.9,15.8,36.5,23.0,27.1,17.1,22.0,15.3,32.9,14.3,17.5,27.2,35.5,14.1,24.8,15.8,16.4,18.8,15.3,21.7,19.1,25.2,15.3,24.1,24.5,26.8,16.1,12.4,25.8,26.9,22.2,26.2,22.0,24.3,23.8,31.3,17.5,29.5,24.2,12.7,30.3,15.7,25.1,11.7,29.1,22.5,21.9,27.1,27.6,20.7,15.8,22.5,26.2,20.4,25.5,18.8,23.0,16.5,29.8,11.8,13.6,19.6,22.4,26.6,20.5,23.3,26.0,25.9,18.2,18.1,25.5,19.7,20.7,18.2,32.3,25.5,30.0,33.9,31.5,23.6,17.1,6.5,25.2,21.68339031800974,38.0,17.0,20.1,20.5,23.1,19.0,12.2,20.2,15.8,30.2,24.2,34.4,17.4,19.1,28.1,23.0,22.0,0.5,24.8,19.6,33.4,31.2,27.6,28.4,15.0,18.0,17.7,23.4,26.1,38.1,37.0,14.4,25.4,12.4,16.8,14.4,21.2,21.2,13.8,8.0,19.0,17.3,15.1,13.8,21.8,39.1,22.7,13.7,16.8,22.8,9.2,32.0,34.0,15.0,36.3,21.5,20.0,27.6,15.2,21.2,24.9,20.9,15.2,30.3,41.1,22.3,29.8,22.8,32.5,21.68339031800974,31.7,20.9,24.3,12.2,16.3,18.0,23.3,16.4,30.8,28.0,20.9,17.9,20.4,18.3,31.7],\"xaxis\":\"x\",\"y\":[38.0,57.0,44.0,54.0,59.0,53.0,45.0,14.0,16.0,97.0,null,30.0,23.0,59.0,22.0,30.0,48.0,53.0,15.0,71.0,58.0,63.0,71.0,11.0,46.0,44.0,52.0,35.0,51.0,44.0,30.0,31.0,54.0,51.0,43.0,null,64.0,45.0,null,62.0,53.0,63.0,58.0,75.0,28.0,79.0,37.0,53.0,31.0,64.0,39.0,53.0,12.0,34.0,60.0,35.0,61.0,70.0,31.0,45.0,19.0,36.0,55.0,48.0,30.0,62.0,24.0,68.0,70.0,50.0,42.0,93.0,46.0,70.0,78.0,45.0,19.0,59.0,64.0,46.0,48.0,55.0,28.0,7.0,77.0,52.0,55.0,50.0,65.0,39.0,39.0,32.0,29.0,89.0,48.0,17.0,51.0,65.0,22.0,59.0,46.0,60.0,42.0,52.0,54.0,null,41.0,32.0,65.0,43.0,30.0,92.0,10.0,25.0,18.0,25.0,41.0,19.0,52.0,34.0,78.0,36.0,64.0,79.0,31.0,null,35.0,17.0,49.0,8.0,35.0,63.0,81.0,null,74.0,null,21.0,40.0,34.0,11.0,65.0,61.0,53.0,76.0,51.0,51.0,74.0,38.0,35.0,37.0,67.0,55.0,62.0,32.0,60.0,30.0,73.0,69.0,56.0,47.0,36.0,60.0,70.0,50.0,64.0,22.0,40.0,73.0,4.0,50.0,23.0,35.0,97.0,58.0,39.0,50.0,66.0,46.0,58.0,8.0,32.0,51.0,69.0,60.0,53.0,66.0,49.0,71.0,45.0,42.0,54.0,47.0,59.0,56.0,55.0,63.0,28.0,50.0,49.0,71.0,44.0,null,68.0,57.0,55.0,70.0,25.0,19.0,58.0,55.0,37.0,13.0,57.0,37.0,30.0,77.0,36.0,51.0,50.0,48.0,54.0,16.0,50.0,30.0,67.0,27.0,70.0,43.0,42.0,41.0,53.0,16.0,17.0,22.0,56.0,39.0,47.0,51.0,71.0,41.0,48.0,69.0,42.0,87.0,64.0,50.0,null,26.0,13.0,18.0,77.0,43.0,53.0,17.0,38.0,56.0,70.0,36.0,24.0,61.0,29.0,59.0,73.0,65.0,56.0,75.0,60.0,32.0,59.0,34.0,63.0,21.0,68.0,null,58.0,56.0,41.0,62.0,46.0,40.0,21.0,26.0,41.0,41.0,53.0,76.0,59.0,31.0,36.0,42.0,13.0,4.0,97.0,61.0,65.0,56.0,52.0,78.0,54.0,39.0,66.0,56.0,53.0,20.0,51.0,70.0,46.0,55.0,61.0,55.0,36.0,60.0,68.0,79.0,57.0,78.0,35.0,49.0,64.0,60.0,48.0,60.0,51.0,34.0,54.0,70.0,14.0,10.0,57.0,49.0,29.0,75.0,23.0,57.0,70.0,25.0,39.0,61.0,69.0,39.0,76.0,20.0,30.0,45.0,50.0,44.0,51.0,46.0,39.0,39.0,34.0,56.0,63.0,33.0,67.0,49.0,38.0,37.0,55.0,13.0,23.0,16.0,77.0,56.0,73.0,73.0,36.0,55.0,null,29.0,null,63.0,null,50.0,12.0,66.0,44.0,69.0,53.0,55.0,77.0,80.0,19.0,24.0,50.0,36.0,98.0,43.0,41.0,61.0,58.0,49.0,60.0,31.0,62.0,48.0,19.0,39.0,58.0,28.0,60.0,38.0,23.0,52.0,53.0,27.0,44.0,36.0,46.0,59.0,26.0,36.0,12.0,13.0,46.0,71.0,45.0,57.0,50.0,73.0,53.0,24.0,73.0,31.0,32.0,55.0,39.0,50.0,59.0,46.0,60.0,25.0,39.0,52.0,22.0,49.0,98.0,33.0,48.0,null,32.0,32.0,33.0,null,51.0,24.0,61.0,54.0,75.0,19.0,74.0,50.0,60.0,9.0,16.0,16.0,9.0,35.0,51.0,63.0,35.0,78.0,49.0,35.0,49.0,13.0,54.0,64.0,50.0,46.0,61.0,47.0,59.0,68.0,66.0,47.0,null,48.0,43.0,48.0,34.0,61.0,50.0,10.0,36.0,44.0,36.0,67.0,38.0,42.0,58.0,35.0,47.0,50.0,62.0,81.0,30.0,32.0,null,null,70.0,36.0,40.0,57.0,30.0,21.0,50.0,8.0,51.0,18.0,44.0,39.0,57.0,64.0,70.0,52.0,32.0,78.0,63.0,67.0,43.0,29.0,17.0,81.0,61.0,81.0,55.0,64.0,63.0,29.0,58.0,49.0,44.0,58.0,61.0,59.0,50.0,51.0,38.0,43.0,61.0,42.0,25.0,62.0,24.0,25.0,8.0,43.0,21.0,19.0,13.0,13.0,69.0,50.0,null,73.0,71.0,17.0,21.0,34.0,58.0,62.0,37.0,null,25.0,30.0,72.0,67.0,32.0,49.0,39.0,38.0,20.0,52.0,45.0,60.0,13.0,31.0,34.0,33.0,29.0,55.0,52.0,67.0,41.0,52.0,34.0,57.0,48.0,86.0,null,80.0,33.0,25.0,71.0,78.0,54.0,70.0,52.0,32.0,37.0,36.0,83.0,74.0,19.0,70.0,53.0,49.0,41.0,48.0,29.0,null,69.0,49.0,65.0,58.0,20.0,56.0,52.0,50.0,51.0,65.0,null,19.0,71.0,26.0,63.0,null,47.0,33.0,16.0,19.0,50.0,46.0,49.0,24.0,32.0,63.0,24.0,42.0,11.0,null,49.0,15.0,6.0,49.0,51.0,53.0,62.0,66.0,51.0,58.0,59.0,null,35.0,49.0,null,40.0,48.0,47.0,64.0,47.0,63.0,47.0,47.0,35.0,51.0,63.0,31.0,10.0,77.0,null,54.0,41.0,11.0,51.0,66.0,33.0,34.0,71.0,60.0,null,16.0,19.0,60.0,28.0,45.0,52.0,58.0,49.0,69.0,60.0,33.0,75.0,23.0,61.0,63.0,95.0,42.0,37.0,19.0,13.0,28.0,71.0,24.0,31.0,54.0,59.0,27.0,28.0,63.0,27.0,36.0,32.0,98.0,49.0,61.0,33.0,50.0,41.0,35.0,57.0,29.0,68.0,12.0,26.0,25.0,11.0,54.0,74.0,78.0,53.0,65.0,59.0,79.0,null,59.0,98.0,50.0,55.0,12.0,14.0,30.0,56.0,71.0,49.0,8.0,60.0,58.0,48.0,71.0,30.0,40.0,48.0,76.0,62.0,95.0,71.0,52.0,61.0,44.0,31.0,52.0,60.0,39.0,70.0,26.0,76.0,36.0,37.0,58.0,32.0,14.0,30.0,22.0,79.0,54.0,71.0,45.0,65.0,null,80.0,67.0,53.0,64.0,33.0,54.0,39.0,53.0,52.0,44.0,68.0,51.0,52.0,49.0,34.0,63.0,42.0,49.0,64.0,70.0,40.0,26.0,44.0,59.0,null,62.0,null,52.0,null,69.0,75.0,54.0,36.0,57.0,71.0,72.0,50.0,13.0,62.0,55.0,32.0,59.0,15.0,60.0,56.0,28.0,25.0,64.0,23.0,46.0,72.0,64.0,46.0,27.0,39.0,54.0,47.0,32.0,88.0,82.0,49.0,null,19.0,31.0,46.0,66.0,null,25.0,39.0,46.0,46.0,52.0,28.0,55.0,51.0,28.0,74.0,56.0,30.0,45.0,38.0,null,73.0,34.0,41.0,58.0,51.0,56.0,47.0,40.0,35.0,67.0,70.0,19.0,46.0,43.0,8.0,86.0,47.0,45.0,25.0,null,71.0,38.0,36.0,57.0,69.0,62.0,63.0,52.0,59.0,80.0,66.0,null,67.0,49.0,66.0,8.0,11.0,31.0,29.0,20.0,33.0,15.0,71.0,55.0,16.0,62.0,50.0,54.0,52.0,39.0,32.0,51.0,57.0,69.0,16.0,45.0,58.0,70.0,26.0,46.0,72.0,69.0,49.0,44.0,36.0,56.0,85.0,44.0,31.0,38.0,15.0,22.0,52.0,21.0,92.0,32.0,70.0,6.0,36.0,34.0,45.0,46.0,36.0,null,30.0,65.0,58.0,39.0,73.0,43.0,56.0,60.0,45.0,87.0,55.0,9.0,72.0,22.0,57.0,50.0,74.0,30.0,20.0,45.0,55.0,30.0,48.0,45.0,30.0,68.0,40.0,46.0,12.0,45.0,80.0,37.0,30.0,91.0,52.0,43.0,28.0,48.0,null,2.0,56.0,63.0,79.0,54.0,42.0,16.0,67.0,49.0,56.0,12.0,64.0,55.0,81.0,31.0,12.0,31.0,63.0,46.0,14.0,52.0,46.0,25.0,22.0,74.0,11.0,42.0,66.0,60.0,55.0,29.0,38.0,55.0,40.0,31.0,64.0,42.0,30.0,54.0,9.0,51.0,44.0,35.0,21.0,55.0,48.0,27.0,55.0,52.0,46.0,32.0,12.0,22.0,45.0,41.0,61.0,62.0,19.0,41.0,55.0,51.0,64.0,17.0,14.0,32.0,30.0,40.0,44.0,39.0,34.0,57.0,66.0,65.0,41.0,50.0,36.0,80.0,53.0,21.0,53.0,67.0,9.0,57.0,65.0,null,23.0,44.0,59.0,35.0,42.0,57.0,82.0,56.0,80.0,46.0,60.0,58.0,7.0,37.0,58.0,null,21.0,28.0,71.0,null,56.0,60.0,37.0,68.0,57.0,33.0,35.0,10.0,62.0,21.0,50.0,60.0,60.0,67.0,14.0,51.0,51.0,22.0,47.0,59.0,47.0,57.0,null,18.0,55.0,34.0,73.0,22.0,46.0,36.0,37.0,23.0,25.0,46.0,46.0,62.0,33.0,65.0,65.0,60.0,47.0,63.0,55.0,50.0,65.0,66.0,65.0,57.0,66.0,47.0,60.0,60.0,67.0,20.0,25.0,70.0,75.0,35.0,62.0,14.0,52.0,8.0,84.0,23.0,48.0,25.0,45.0,55.0,49.0,57.0,48.0,48.0,60.0,42.0,46.0,82.0,65.0,28.0,68.0,23.0,35.0,60.0,56.0,25.0,77.0,39.0,59.0,67.0,19.0,57.0,21.0,19.0,53.0,40.0,43.0,null,53.0,35.0,63.0,37.0,32.0,48.0,25.0,18.0,25.0,38.0,40.0,72.0,55.0,59.0,8.0,39.0,null,21.0,52.0,43.0,58.0,46.0,48.0,40.0,38.0,49.0,47.0,26.0,61.0,63.0,51.0,25.0,93.0,35.0,53.0,28.0,25.0,67.0,62.0,69.0,73.0,25.0,57.0,9.0,57.0,71.0,null,31.0,45.0,87.0,49.0,50.0,88.0,44.0,53.0,61.0,34.0,15.0,null,32.0,56.0,66.0,53.0,71.0,36.0,19.0,68.0,34.0,82.0,63.0,50.0,21.0,12.0,51.0,54.0,41.0,31.0,8.0,29.0,39.0,47.0,53.0,65.0,23.0,23.0,40.0,7.0,55.0,39.0,54.0,49.0,51.0,41.0,45.0,43.0,22.0,28.0,45.0,87.0,56.0,60.0,15.0,21.0,39.0,50.0,49.0,43.0,55.0,54.0,34.0,53.0,80.0,43.0,41.0,52.0,38.0,36.0,56.0,56.0,47.0,21.0,63.0,47.0,64.0,37.0,40.0,25.0,38.0,43.0,57.0,58.0,60.0,35.0,43.0,50.0,46.0,61.0,51.0,20.0,59.0,null,23.0,39.0,51.0,59.0,48.0,36.0,47.0,20.0,55.0,74.0,34.0,72.0,36.0,65.0,47.0,45.0,20.0,16.0,22.0,68.0,60.0,67.0,70.0,56.0,46.0,43.0,34.0,79.0,50.0,19.0,68.0,42.0,29.0,36.0,58.0,61.0,49.0,28.0,27.0,76.0,50.0,62.0,47.0,58.0,83.0,4.0,47.0,25.0,58.0,44.0,59.0,75.0,38.0,66.0,48.0,15.0,31.0,64.0,33.0,21.0,40.0,30.0,62.0,53.0,41.0,67.0,67.0,55.0,13.0,54.0,null,45.0,70.0,57.0,64.0,62.0,36.0,56.0,21.0,67.0,37.0,29.0,39.0,62.0,61.0,35.0,30.0,21.0,51.0,9.0,61.0,54.0,62.0,66.0,37.0,14.0,42.0,63.0,71.0,61.0,41.0,20.0,48.0,11.0,24.0,69.0,21.0,40.0,29.0,42.0,56.0,73.0,62.0,22.0,60.0,46.0,76.0,48.0,12.0,74.0,57.0,41.0,69.0,51.0,31.0,69.0,68.0,46.0,53.0,31.0,59.0,66.0,64.0,40.0,53.0,58.0,52.0,48.0,66.0,40.0,36.0,59.0,44.0,26.0,67.0,33.0,61.0,56.0,33.0,null,18.0,35.0,61.0,52.0,45.0,35.0,46.0,29.0,55.0,49.0,43.0,14.0,47.0,63.0,39.0,31.0,46.0,86.0,68.0,86.0,25.0,19.0,51.0,67.0,68.0,54.0,64.0,63.0,85.0,14.0,25.0,52.0,61.0,54.0,63.0,56.0,72.0,43.0,76.0,50.0,45.0,24.0,67.0,46.0,38.0,9.0,63.0,49.0,55.0,20.0,60.0,37.0,17.0,63.0,25.0,31.0,33.0,27.0,56.0,20.0,87.0,60.0,38.0,24.0,22.0,32.0,10.0,42.0,41.0,null,56.0,49.0,73.0,50.0,68.0,60.0,67.0,40.0,67.0,71.0,49.0,36.0,33.0,43.0,null],\"yaxis\":\"y\",\"type\":\"scattergl\"},{\"hovertemplate\":\"RainTomorrow=Yes<br>Temp3pm=%{x}<br>Humidity3pm=%{y}<extra></extra>\",\"legendgroup\":\"Yes\",\"marker\":{\"color\":\"#EF553B\",\"symbol\":\"circle\"},\"mode\":\"markers\",\"name\":\"Yes\",\"showlegend\":true,\"x\":[16.1,11.6,24.8,13.7,40.4,2.0,12.2,16.0,7.7,17.7,17.0,18.5,18.4,10.6,24.3,24.6,20.5,23.9,16.0,10.2,19.3,25.4,22.4,7.7,18.6,24.3,32.0,23.2,15.0,19.2,12.8,20.2,11.0,17.2,13.0,24.8,15.4,11.0,16.4,18.2,28.7,29.7,19.4,17.3,27.2,16.9,13.6,25.4,10.3,13.7,18.5,22.9,15.2,13.8,10.8,12.8,11.2,20.9,16.6,14.0,17.6,11.8,11.9,18.9,6.6,21.68339031800974,18.2,9.2,18.5,31.4,29.5,31.1,14.6,15.7,25.5,27.0,18.6,15.0,13.8,13.7,22.6,21.2,25.4,20.6,24.9,19.6,24.7,20.2,30.0,24.0,18.3,17.5,28.0,18.7,22.0,40.2,17.1,12.1,14.9,16.8,23.7,0.3,13.2,26.0,14.5,21.68339031800974,29.5,21.68339031800974,16.9,15.5,14.3,18.9,17.2,21.5,19.5,14.0,20.9,20.4,26.1,15.0,20.6,13.8,22.9,17.4,24.0,15.5,15.0,25.8,18.4,24.2,22.2,11.3,12.3,19.1,20.4,19.3,15.1,30.2,25.7,24.9,27.7,12.3,21.4,22.5,31.4,14.6,15.8,21.0,15.9,13.1,29.0,12.0,21.1,24.1,18.7,15.0,20.7,20.2,15.1,27.1,18.5,20.4,9.8,24.5,17.5,16.6,14.9,33.9,27.6,18.9,1.6,7.9,27.0,16.1,14.5,11.7,16.7,27.5,13.1,21.6,28.1,19.7,20.7,11.7,19.9,27.0,16.1,17.2,31.3,23.5,21.6,6.9,15.2,0.1,23.1,26.6,12.6,24.0,14.1,19.5,10.7,18.6,30.3,24.6,12.4,9.4,25.4,18.9,17.2,18.4,15.2,27.5,14.4,31.0,19.0,23.4,15.5,24.8,24.8,22.1,30.5,18.1,12.4,17.3,26.5,16.0,22.5,16.6,16.1,21.8,22.7,17.4,7.1,19.5,15.6,11.3,24.6,15.0,25.6,9.7,19.1,18.3,23.7,25.4,25.1,16.4,23.6,10.1,31.5,25.1,19.1,16.4,36.6,10.5,21.68339031800974,32.5,21.9,29.1,8.6,16.2,24.4,11.5,22.8,19.9,28.2,9.4,28.7,17.7,11.3,27.5,14.2,19.3,30.9,24.0,28.7,29.3,18.4,17.9,7.9,17.7,20.8,19.4,17.6,27.8,30.5,15.4,17.3,15.1,14.5,9.3,32.6,8.8,11.7,21.0,31.1,20.4,19.2,33.7,26.5,24.3,13.6,18.4,5.8,18.8,20.8,13.4,11.9,27.6,21.5,10.0,9.3,12.9,15.3,18.0,10.1,9.3,21.7,23.0,10.4,14.2,21.4,12.5,14.9,12.1,38.0,22.4,22.5,14.5,14.9,19.0,16.3,21.0,25.6,28.6,15.1,15.6,19.8,21.3,24.9,24.3,23.6,12.4,30.1,13.7,27.7,17.3,15.0,29.1,20.7,15.0,21.68339031800974,17.8,23.8,17.4,12.6,17.3,17.7,20.0,15.4,21.68339031800974,33.6,23.4,11.9,16.7,17.8,20.5,29.6,16.1,10.4,11.6,19.6,11.8,21.5,18.2,21.9,31.1,13.2,33.7,32.3,21.6,19.0,13.4,14.0,10.1,20.6,14.1,29.0,25.8,29.6,19.2,23.3,21.5,21.2,18.7,21.8,21.8,20.9,15.4,14.5,11.4,18.0,10.8,18.9,10.1,31.3,12.5,25.9,9.7,30.8,12.3,29.7,18.7,13.6,18.7,32.3,31.1,13.4,21.68339031800974,30.4,21.3,24.3,19.1,15.3,18.7,12.3,23.2,31.7,19.7,22.9,24.5,15.1,40.2,27.8,29.2,21.4,19.8,13.2],\"xaxis\":\"x\",\"y\":[54.0,82.0,70.0,89.0,16.0,98.0,85.0,40.0,98.0,79.0,67.0,55.0,48.0,82.0,58.0,70.0,53.0,62.0,93.0,89.0,100.0,40.0,28.0,82.0,77.0,65.0,33.0,71.0,83.0,87.0,64.0,68.0,92.0,95.0,83.0,85.0,83.0,63.0,76.0,55.0,82.0,66.0,76.0,35.0,64.0,89.0,61.0,53.0,86.0,null,77.0,69.0,55.0,97.0,82.0,99.0,95.0,39.0,92.0,91.0,91.0,94.0,54.0,59.0,87.0,null,60.0,89.0,52.0,60.0,72.0,71.0,96.0,87.0,76.0,47.0,64.0,65.0,41.0,88.0,86.0,20.0,76.0,88.0,89.0,59.0,67.0,79.0,70.0,31.0,54.0,71.0,78.0,68.0,57.0,31.0,60.0,88.0,78.0,40.0,21.0,100.0,59.0,57.0,72.0,null,48.0,null,78.0,82.0,61.0,50.0,52.0,88.0,45.0,40.0,21.0,31.0,73.0,97.0,54.0,73.0,72.0,73.0,63.0,67.0,72.0,59.0,71.0,84.0,66.0,99.0,100.0,71.0,77.0,94.0,36.0,62.0,56.0,46.0,77.0,54.0,68.0,43.0,50.0,100.0,83.0,55.0,57.0,88.0,45.0,72.0,82.0,38.0,83.0,51.0,46.0,66.0,69.0,87.0,84.0,58.0,93.0,76.0,86.0,76.0,91.0,25.0,45.0,54.0,100.0,73.0,49.0,67.0,66.0,98.0,93.0,84.0,77.0,37.0,43.0,97.0,51.0,92.0,86.0,57.0,66.0,91.0,61.0,62.0,84.0,100.0,93.0,86.0,26.0,72.0,64.0,63.0,61.0,87.0,96.0,37.0,55.0,75.0,79.0,88.0,45.0,48.0,86.0,88.0,45.0,42.0,100.0,66.0,55.0,77.0,88.0,99.0,84.0,64.0,59.0,46.0,61.0,64.0,85.0,91.0,68.0,80.0,87.0,77.0,85.0,85.0,98.0,81.0,99.0,47.0,63.0,81.0,51.0,74.0,46.0,46.0,79.0,95.0,77.0,91.0,94.0,94.0,59.0,79.0,96.0,98.0,8.0,69.0,null,29.0,24.0,22.0,43.0,57.0,77.0,76.0,65.0,69.0,66.0,65.0,68.0,92.0,71.0,52.0,73.0,79.0,28.0,91.0,71.0,58.0,50.0,41.0,100.0,57.0,null,64.0,100.0,55.0,74.0,94.0,63.0,93.0,80.0,91.0,57.0,54.0,100.0,43.0,66.0,56.0,63.0,55.0,79.0,94.0,54.0,43.0,71.0,96.0,80.0,57.0,84.0,79.0,94.0,89.0,89.0,86.0,54.0,51.0,83.0,90.0,70.0,54.0,92.0,88.0,69.0,74.0,96.0,62.0,32.0,55.0,50.0,65.0,66.0,62.0,72.0,70.0,51.0,30.0,76.0,72.0,49.0,59.0,65.0,33.0,61.0,78.0,65.0,63.0,73.0,60.0,86.0,61.0,64.0,91.0,null,33.0,79.0,52.0,72.0,39.0,67.0,61.0,80.0,null,59.0,61.0,51.0,63.0,82.0,91.0,71.0,78.0,87.0,73.0,68.0,88.0,57.0,72.0,74.0,69.0,57.0,28.0,58.0,90.0,92.0,92.0,96.0,85.0,63.0,89.0,32.0,54.0,24.0,36.0,84.0,64.0,88.0,56.0,73.0,76.0,92.0,52.0,80.0,73.0,82.0,69.0,47.0,null,45.0,78.0,63.0,83.0,55.0,69.0,60.0,99.0,66.0,79.0,42.0,62.0,83.0,null,61.0,55.0,68.0,74.0,94.0,59.0,66.0,60.0,57.0,100.0,99.0,51.0,81.0,15.0,71.0,35.0,86.0,80.0,94.0],\"yaxis\":\"y\",\"type\":\"scattergl\"}],                        {\"template\":{\"data\":{\"bar\":[{\"error_x\":{\"color\":\"#2a3f5f\"},\"error_y\":{\"color\":\"#2a3f5f\"},\"marker\":{\"line\":{\"color\":\"#E5ECF6\",\"width\":0.5},\"pattern\":{\"fillmode\":\"overlay\",\"size\":10,\"solidity\":0.2}},\"type\":\"bar\"}],\"barpolar\":[{\"marker\":{\"line\":{\"color\":\"#E5ECF6\",\"width\":0.5},\"pattern\":{\"fillmode\":\"overlay\",\"size\":10,\"solidity\":0.2}},\"type\":\"barpolar\"}],\"carpet\":[{\"aaxis\":{\"endlinecolor\":\"#2a3f5f\",\"gridcolor\":\"white\",\"linecolor\":\"white\",\"minorgridcolor\":\"white\",\"startlinecolor\":\"#2a3f5f\"},\"baxis\":{\"endlinecolor\":\"#2a3f5f\",\"gridcolor\":\"white\",\"linecolor\":\"white\",\"minorgridcolor\":\"white\",\"startlinecolor\":\"#2a3f5f\"},\"type\":\"carpet\"}],\"choropleth\":[{\"colorbar\":{\"outlinewidth\":0,\"ticks\":\"\"},\"type\":\"choropleth\"}],\"contour\":[{\"colorbar\":{\"outlinewidth\":0,\"ticks\":\"\"},\"colorscale\":[[0.0,\"#0d0887\"],[0.1111111111111111,\"#46039f\"],[0.2222222222222222,\"#7201a8\"],[0.3333333333333333,\"#9c179e\"],[0.4444444444444444,\"#bd3786\"],[0.5555555555555556,\"#d8576b\"],[0.6666666666666666,\"#ed7953\"],[0.7777777777777778,\"#fb9f3a\"],[0.8888888888888888,\"#fdca26\"],[1.0,\"#f0f921\"]],\"type\":\"contour\"}],\"contourcarpet\":[{\"colorbar\":{\"outlinewidth\":0,\"ticks\":\"\"},\"type\":\"contourcarpet\"}],\"heatmap\":[{\"colorbar\":{\"outlinewidth\":0,\"ticks\":\"\"},\"colorscale\":[[0.0,\"#0d0887\"],[0.1111111111111111,\"#46039f\"],[0.2222222222222222,\"#7201a8\"],[0.3333333333333333,\"#9c179e\"],[0.4444444444444444,\"#bd3786\"],[0.5555555555555556,\"#d8576b\"],[0.6666666666666666,\"#ed7953\"],[0.7777777777777778,\"#fb9f3a\"],[0.8888888888888888,\"#fdca26\"],[1.0,\"#f0f921\"]],\"type\":\"heatmap\"}],\"heatmapgl\":[{\"colorbar\":{\"outlinewidth\":0,\"ticks\":\"\"},\"colorscale\":[[0.0,\"#0d0887\"],[0.1111111111111111,\"#46039f\"],[0.2222222222222222,\"#7201a8\"],[0.3333333333333333,\"#9c179e\"],[0.4444444444444444,\"#bd3786\"],[0.5555555555555556,\"#d8576b\"],[0.6666666666666666,\"#ed7953\"],[0.7777777777777778,\"#fb9f3a\"],[0.8888888888888888,\"#fdca26\"],[1.0,\"#f0f921\"]],\"type\":\"heatmapgl\"}],\"histogram\":[{\"marker\":{\"pattern\":{\"fillmode\":\"overlay\",\"size\":10,\"solidity\":0.2}},\"type\":\"histogram\"}],\"histogram2d\":[{\"colorbar\":{\"outlinewidth\":0,\"ticks\":\"\"},\"colorscale\":[[0.0,\"#0d0887\"],[0.1111111111111111,\"#46039f\"],[0.2222222222222222,\"#7201a8\"],[0.3333333333333333,\"#9c179e\"],[0.4444444444444444,\"#bd3786\"],[0.5555555555555556,\"#d8576b\"],[0.6666666666666666,\"#ed7953\"],[0.7777777777777778,\"#fb9f3a\"],[0.8888888888888888,\"#fdca26\"],[1.0,\"#f0f921\"]],\"type\":\"histogram2d\"}],\"histogram2dcontour\":[{\"colorbar\":{\"outlinewidth\":0,\"ticks\":\"\"},\"colorscale\":[[0.0,\"#0d0887\"],[0.1111111111111111,\"#46039f\"],[0.2222222222222222,\"#7201a8\"],[0.3333333333333333,\"#9c179e\"],[0.4444444444444444,\"#bd3786\"],[0.5555555555555556,\"#d8576b\"],[0.6666666666666666,\"#ed7953\"],[0.7777777777777778,\"#fb9f3a\"],[0.8888888888888888,\"#fdca26\"],[1.0,\"#f0f921\"]],\"type\":\"histogram2dcontour\"}],\"mesh3d\":[{\"colorbar\":{\"outlinewidth\":0,\"ticks\":\"\"},\"type\":\"mesh3d\"}],\"parcoords\":[{\"line\":{\"colorbar\":{\"outlinewidth\":0,\"ticks\":\"\"}},\"type\":\"parcoords\"}],\"pie\":[{\"automargin\":true,\"type\":\"pie\"}],\"scatter\":[{\"marker\":{\"colorbar\":{\"outlinewidth\":0,\"ticks\":\"\"}},\"type\":\"scatter\"}],\"scatter3d\":[{\"line\":{\"colorbar\":{\"outlinewidth\":0,\"ticks\":\"\"}},\"marker\":{\"colorbar\":{\"outlinewidth\":0,\"ticks\":\"\"}},\"type\":\"scatter3d\"}],\"scattercarpet\":[{\"marker\":{\"colorbar\":{\"outlinewidth\":0,\"ticks\":\"\"}},\"type\":\"scattercarpet\"}],\"scattergeo\":[{\"marker\":{\"colorbar\":{\"outlinewidth\":0,\"ticks\":\"\"}},\"type\":\"scattergeo\"}],\"scattergl\":[{\"marker\":{\"colorbar\":{\"outlinewidth\":0,\"ticks\":\"\"}},\"type\":\"scattergl\"}],\"scattermapbox\":[{\"marker\":{\"colorbar\":{\"outlinewidth\":0,\"ticks\":\"\"}},\"type\":\"scattermapbox\"}],\"scatterpolar\":[{\"marker\":{\"colorbar\":{\"outlinewidth\":0,\"ticks\":\"\"}},\"type\":\"scatterpolar\"}],\"scatterpolargl\":[{\"marker\":{\"colorbar\":{\"outlinewidth\":0,\"ticks\":\"\"}},\"type\":\"scatterpolargl\"}],\"scatterternary\":[{\"marker\":{\"colorbar\":{\"outlinewidth\":0,\"ticks\":\"\"}},\"type\":\"scatterternary\"}],\"surface\":[{\"colorbar\":{\"outlinewidth\":0,\"ticks\":\"\"},\"colorscale\":[[0.0,\"#0d0887\"],[0.1111111111111111,\"#46039f\"],[0.2222222222222222,\"#7201a8\"],[0.3333333333333333,\"#9c179e\"],[0.4444444444444444,\"#bd3786\"],[0.5555555555555556,\"#d8576b\"],[0.6666666666666666,\"#ed7953\"],[0.7777777777777778,\"#fb9f3a\"],[0.8888888888888888,\"#fdca26\"],[1.0,\"#f0f921\"]],\"type\":\"surface\"}],\"table\":[{\"cells\":{\"fill\":{\"color\":\"#EBF0F8\"},\"line\":{\"color\":\"white\"}},\"header\":{\"fill\":{\"color\":\"#C8D4E3\"},\"line\":{\"color\":\"white\"}},\"type\":\"table\"}]},\"layout\":{\"annotationdefaults\":{\"arrowcolor\":\"#2a3f5f\",\"arrowhead\":0,\"arrowwidth\":1},\"autotypenumbers\":\"strict\",\"coloraxis\":{\"colorbar\":{\"outlinewidth\":0,\"ticks\":\"\"}},\"colorscale\":{\"diverging\":[[0,\"#8e0152\"],[0.1,\"#c51b7d\"],[0.2,\"#de77ae\"],[0.3,\"#f1b6da\"],[0.4,\"#fde0ef\"],[0.5,\"#f7f7f7\"],[0.6,\"#e6f5d0\"],[0.7,\"#b8e186\"],[0.8,\"#7fbc41\"],[0.9,\"#4d9221\"],[1,\"#276419\"]],\"sequential\":[[0.0,\"#0d0887\"],[0.1111111111111111,\"#46039f\"],[0.2222222222222222,\"#7201a8\"],[0.3333333333333333,\"#9c179e\"],[0.4444444444444444,\"#bd3786\"],[0.5555555555555556,\"#d8576b\"],[0.6666666666666666,\"#ed7953\"],[0.7777777777777778,\"#fb9f3a\"],[0.8888888888888888,\"#fdca26\"],[1.0,\"#f0f921\"]],\"sequentialminus\":[[0.0,\"#0d0887\"],[0.1111111111111111,\"#46039f\"],[0.2222222222222222,\"#7201a8\"],[0.3333333333333333,\"#9c179e\"],[0.4444444444444444,\"#bd3786\"],[0.5555555555555556,\"#d8576b\"],[0.6666666666666666,\"#ed7953\"],[0.7777777777777778,\"#fb9f3a\"],[0.8888888888888888,\"#fdca26\"],[1.0,\"#f0f921\"]]},\"colorway\":[\"#636efa\",\"#EF553B\",\"#00cc96\",\"#ab63fa\",\"#FFA15A\",\"#19d3f3\",\"#FF6692\",\"#B6E880\",\"#FF97FF\",\"#FECB52\"],\"font\":{\"color\":\"#2a3f5f\"},\"geo\":{\"bgcolor\":\"white\",\"lakecolor\":\"white\",\"landcolor\":\"#E5ECF6\",\"showlakes\":true,\"showland\":true,\"subunitcolor\":\"white\"},\"hoverlabel\":{\"align\":\"left\"},\"hovermode\":\"closest\",\"mapbox\":{\"style\":\"light\"},\"paper_bgcolor\":\"white\",\"plot_bgcolor\":\"#E5ECF6\",\"polar\":{\"angularaxis\":{\"gridcolor\":\"white\",\"linecolor\":\"white\",\"ticks\":\"\"},\"bgcolor\":\"#E5ECF6\",\"radialaxis\":{\"gridcolor\":\"white\",\"linecolor\":\"white\",\"ticks\":\"\"}},\"scene\":{\"xaxis\":{\"backgroundcolor\":\"#E5ECF6\",\"gridcolor\":\"white\",\"gridwidth\":2,\"linecolor\":\"white\",\"showbackground\":true,\"ticks\":\"\",\"zerolinecolor\":\"white\"},\"yaxis\":{\"backgroundcolor\":\"#E5ECF6\",\"gridcolor\":\"white\",\"gridwidth\":2,\"linecolor\":\"white\",\"showbackground\":true,\"ticks\":\"\",\"zerolinecolor\":\"white\"},\"zaxis\":{\"backgroundcolor\":\"#E5ECF6\",\"gridcolor\":\"white\",\"gridwidth\":2,\"linecolor\":\"white\",\"showbackground\":true,\"ticks\":\"\",\"zerolinecolor\":\"white\"}},\"shapedefaults\":{\"line\":{\"color\":\"#2a3f5f\"}},\"ternary\":{\"aaxis\":{\"gridcolor\":\"white\",\"linecolor\":\"white\",\"ticks\":\"\"},\"baxis\":{\"gridcolor\":\"white\",\"linecolor\":\"white\",\"ticks\":\"\"},\"bgcolor\":\"#E5ECF6\",\"caxis\":{\"gridcolor\":\"white\",\"linecolor\":\"white\",\"ticks\":\"\"}},\"title\":{\"x\":0.05},\"xaxis\":{\"automargin\":true,\"gridcolor\":\"white\",\"linecolor\":\"white\",\"ticks\":\"\",\"title\":{\"standoff\":15},\"zerolinecolor\":\"white\",\"zerolinewidth\":2},\"yaxis\":{\"automargin\":true,\"gridcolor\":\"white\",\"linecolor\":\"white\",\"ticks\":\"\",\"title\":{\"standoff\":15},\"zerolinecolor\":\"white\",\"zerolinewidth\":2}}},\"xaxis\":{\"anchor\":\"y\",\"domain\":[0.0,1.0],\"title\":{\"text\":\"Temp3pm\"}},\"yaxis\":{\"anchor\":\"x\",\"domain\":[0.0,1.0],\"title\":{\"text\":\"Humidity3pm\"}},\"legend\":{\"title\":{\"text\":\"RainTomorrow\"},\"tracegroupgap\":0},\"title\":{\"text\":\"Temp (3 pm) vs. Humidity (3 pm)\"},\"height\":600,\"width\":600},                        {\"responsive\": true}                    ).then(function(){\n",
              "                            \n",
              "var gd = document.getElementById('b7f20377-5f3e-403f-96bf-7f41e10bd1db');\n",
              "var x = new MutationObserver(function (mutations, observer) {{\n",
              "        var display = window.getComputedStyle(gd).display;\n",
              "        if (!display || display === 'none') {{\n",
              "            console.log([gd, 'removed!']);\n",
              "            Plotly.purge(gd);\n",
              "            observer.disconnect();\n",
              "        }}\n",
              "}});\n",
              "\n",
              "// Listen for the removal of the full notebook cells\n",
              "var notebookContainer = gd.closest('#notebook-container');\n",
              "if (notebookContainer) {{\n",
              "    x.observe(notebookContainer, {childList: true});\n",
              "}}\n",
              "\n",
              "// Listen for the clearing of the current output cell\n",
              "var outputEl = gd.closest('.output');\n",
              "if (outputEl) {{\n",
              "    x.observe(outputEl, {childList: true});\n",
              "}}\n",
              "\n",
              "                        })                };                            </script>        </div>\n",
              "</body>\n",
              "</html>"
            ]
          },
          "metadata": {}
        }
      ]
    },
    {
      "cell_type": "markdown",
      "source": [
        "If the temperature today is low and humidity is high, it may rain tomorrow.\\\n",
        "If temperature today is high and humidity is low, it may not rain tomorrow"
      ],
      "metadata": {
        "id": "qu-RrnQFvG73"
      }
    },
    {
      "cell_type": "markdown",
      "source": [
        "### **Correlation Matrix**"
      ],
      "metadata": {
        "id": "xtjXSQJ2vZ__"
      }
    },
    {
      "cell_type": "code",
      "source": [
        "corrmat = df.corr()\n",
        "plt.figure(figsize=(16,12))\n",
        "sns.heatmap(corrmat, square=True, annot=True, fmt='.2f', linecolor='white', cmap='plasma')    \n",
        "plt.title('Correlation Heatmap of Rain in Australia Dataset')\n",
        "plt.show()"
      ],
      "metadata": {
        "colab": {
          "base_uri": "https://localhost:8080/",
          "height": 786
        },
        "id": "oqCd_RLKvVPn",
        "outputId": "8819c295-0686-4ad9-eaeb-4b47271a699f"
      },
      "execution_count": null,
      "outputs": [
        {
          "output_type": "display_data",
          "data": {
            "text/plain": [
              "<Figure size 1152x864 with 2 Axes>"
            ],
            "image/png": "[encoded data removed]"
          },
          "metadata": {
            "needs_background": "light"
          }
        }
      ]
    },
    {
      "cell_type": "markdown",
      "source": [
        "Several features have strong positive correlation\\\n",
        "MinTemp ~ MaxTemp (corr=0.73)\\\n",
        "MinTemp ~ Temp3pm (corr=0.70)\\\n",
        "MinTemp ~ Temp9am (corr=0.90)\\\n",
        "MaxTemp ~ Temp9am (corr=0.88)\\\n",
        "MaxTemp ~ Temp3pm (corr=0.97)\\\n",
        "WindGustSpeed ~ WindSpeed3pm (corr=0.69)\\\n",
        "Pressure9am ~ Pressure3pm (corr=0.96)\\\n",
        "Temp9am ~ Temp3pm (corr=0.85)"
      ],
      "metadata": {
        "id": "zjxLx6xfvz15"
      }
    },
    {
      "cell_type": "markdown",
      "source": [
        "###**FEATURE SCALING**"
      ],
      "metadata": {
        "id": "WYm9MXaQgj-y"
      }
    },
    {
      "cell_type": "code",
      "source": [
        "import pandas as pd\n",
        "from sklearn.preprocessing import StandardScaler\n",
        "\n",
        "#Initialise the Scaler\n",
        "scaler = StandardScaler()\n",
        "X = df.drop(['Date','Location','WindGustDir', 'WindDir9am', 'WindDir3pm', 'RainToday', 'RainTomorrow'], axis=1)\n",
        "#To scale data\n",
        "scaler.fit(X)\n",
        "print('StandardScaler()')\n"
      ],
      "metadata": {
        "colab": {
          "base_uri": "https://localhost:8080/"
        },
        "id": "-eVXqvTwTIn7",
        "outputId": "8c508095-c859-42fa-b341-8556a02ad0fd"
      },
      "execution_count": 11,
      "outputs": [
        {
          "output_type": "stream",
          "name": "stdout",
          "text": [
            "StandardScaler()\n"
          ]
        }
      ]
    },
    {
      "cell_type": "code",
      "source": [
        "df.head()"
      ],
      "metadata": {
        "colab": {
          "base_uri": "https://localhost:8080/",
          "height": 386
        },
        "id": "brc0t7rUjLoW",
        "outputId": "e46c74c1-6e6f-4f2e-fa05-89861e527e84"
      },
      "execution_count": null,
      "outputs": [
        {
          "output_type": "execute_result",
          "data": {
            "text/plain": [
              "         Date Location  MinTemp  MaxTemp  Rainfall  Evaporation  Sunshine  \\\n",
              "0  2008-12-01   Albury     13.4     22.9       0.6     5.468232  7.611178   \n",
              "1  2008-12-02   Albury      7.4     25.1       0.0     5.468232  7.611178   \n",
              "2  2008-12-03   Albury     12.9     25.7       0.0     5.468232  7.611178   \n",
              "3  2008-12-04   Albury      9.2     28.0       0.0     5.468232  7.611178   \n",
              "4  2008-12-05   Albury     17.5     32.3       1.0     5.468232  7.611178   \n",
              "\n",
              "  WindGustDir  WindGustSpeed WindDir9am  ... Humidity9am  Humidity3pm  \\\n",
              "0           W           44.0          W  ...        71.0         22.0   \n",
              "1         WNW           44.0        NNW  ...        44.0         25.0   \n",
              "2         WSW           46.0          W  ...        38.0         30.0   \n",
              "3          NE           24.0         SE  ...        45.0         16.0   \n",
              "4           W           41.0        ENE  ...        82.0         33.0   \n",
              "\n",
              "   Pressure9am  Pressure3pm  Cloud9am  Cloud3pm  Temp9am  Temp3pm  RainToday  \\\n",
              "0       1007.7       1007.1  8.000000   4.50993     16.9     21.8         No   \n",
              "1       1010.6       1007.8  4.447461   4.50993     17.2     24.3         No   \n",
              "2       1007.6       1008.7  4.447461   2.00000     21.0     23.2         No   \n",
              "3       1017.6       1012.8  4.447461   4.50993     18.1     26.5         No   \n",
              "4       1010.8       1006.0  7.000000   8.00000     17.8     29.7         No   \n",
              "\n",
              "   RainTomorrow  \n",
              "0            No  \n",
              "1            No  \n",
              "2            No  \n",
              "3            No  \n",
              "4            No  \n",
              "\n",
              "[5 rows x 23 columns]"
            ],
            "text/html": [
              "\n",
              "  <div id=\"df-8339612d-3f8a-428a-a1dd-8a160c77fc82\">\n",
              "    <div class=\"colab-df-container\">\n",
              "      <div>\n",
              "<style scoped>\n",
              "    .dataframe tbody tr th:only-of-type {\n",
              "        vertical-align: middle;\n",
              "    }\n",
              "\n",
              "    .dataframe tbody tr th {\n",
              "        vertical-align: top;\n",
              "    }\n",
              "\n",
              "    .dataframe thead th {\n",
              "        text-align: right;\n",
              "    }\n",
              "</style>\n",
              "<table border=\"1\" class=\"dataframe\">\n",
              "  <thead>\n",
              "    <tr style=\"text-align: right;\">\n",
              "      <th></th>\n",
              "      <th>Date</th>\n",
              "      <th>Location</th>\n",
              "      <th>MinTemp</th>\n",
              "      <th>MaxTemp</th>\n",
              "      <th>Rainfall</th>\n",
              "      <th>Evaporation</th>\n",
              "      <th>Sunshine</th>\n",
              "      <th>WindGustDir</th>\n",
              "      <th>WindGustSpeed</th>\n",
              "      <th>WindDir9am</th>\n",
              "      <th>...</th>\n",
              "      <th>Humidity9am</th>\n",
              "      <th>Humidity3pm</th>\n",
              "      <th>Pressure9am</th>\n",
              "      <th>Pressure3pm</th>\n",
              "      <th>Cloud9am</th>\n",
              "      <th>Cloud3pm</th>\n",
              "      <th>Temp9am</th>\n",
              "      <th>Temp3pm</th>\n",
              "      <th>RainToday</th>\n",
              "      <th>RainTomorrow</th>\n",
              "    </tr>\n",
              "  </thead>\n",
              "  <tbody>\n",
              "    <tr>\n",
              "      <th>0</th>\n",
              "      <td>2008-12-01</td>\n",
              "      <td>Albury</td>\n",
              "      <td>13.4</td>\n",
              "      <td>22.9</td>\n",
              "      <td>0.6</td>\n",
              "      <td>5.468232</td>\n",
              "      <td>7.611178</td>\n",
              "      <td>W</td>\n",
              "      <td>44.0</td>\n",
              "      <td>W</td>\n",
              "      <td>...</td>\n",
              "      <td>71.0</td>\n",
              "      <td>22.0</td>\n",
              "      <td>1007.7</td>\n",
              "      <td>1007.1</td>\n",
              "      <td>8.000000</td>\n",
              "      <td>4.50993</td>\n",
              "      <td>16.9</td>\n",
              "      <td>21.8</td>\n",
              "      <td>No</td>\n",
              "      <td>No</td>\n",
              "    </tr>\n",
              "    <tr>\n",
              "      <th>1</th>\n",
              "      <td>2008-12-02</td>\n",
              "      <td>Albury</td>\n",
              "      <td>7.4</td>\n",
              "      <td>25.1</td>\n",
              "      <td>0.0</td>\n",
              "      <td>5.468232</td>\n",
              "      <td>7.611178</td>\n",
              "      <td>WNW</td>\n",
              "      <td>44.0</td>\n",
              "      <td>NNW</td>\n",
              "      <td>...</td>\n",
              "      <td>44.0</td>\n",
              "      <td>25.0</td>\n",
              "      <td>1010.6</td>\n",
              "      <td>1007.8</td>\n",
              "      <td>4.447461</td>\n",
              "      <td>4.50993</td>\n",
              "      <td>17.2</td>\n",
              "      <td>24.3</td>\n",
              "      <td>No</td>\n",
              "      <td>No</td>\n",
              "    </tr>\n",
              "    <tr>\n",
              "      <th>2</th>\n",
              "      <td>2008-12-03</td>\n",
              "      <td>Albury</td>\n",
              "      <td>12.9</td>\n",
              "      <td>25.7</td>\n",
              "      <td>0.0</td>\n",
              "      <td>5.468232</td>\n",
              "      <td>7.611178</td>\n",
              "      <td>WSW</td>\n",
              "      <td>46.0</td>\n",
              "      <td>W</td>\n",
              "      <td>...</td>\n",
              "      <td>38.0</td>\n",
              "      <td>30.0</td>\n",
              "      <td>1007.6</td>\n",
              "      <td>1008.7</td>\n",
              "      <td>4.447461</td>\n",
              "      <td>2.00000</td>\n",
              "      <td>21.0</td>\n",
              "      <td>23.2</td>\n",
              "      <td>No</td>\n",
              "      <td>No</td>\n",
              "    </tr>\n",
              "    <tr>\n",
              "      <th>3</th>\n",
              "      <td>2008-12-04</td>\n",
              "      <td>Albury</td>\n",
              "      <td>9.2</td>\n",
              "      <td>28.0</td>\n",
              "      <td>0.0</td>\n",
              "      <td>5.468232</td>\n",
              "      <td>7.611178</td>\n",
              "      <td>NE</td>\n",
              "      <td>24.0</td>\n",
              "      <td>SE</td>\n",
              "      <td>...</td>\n",
              "      <td>45.0</td>\n",
              "      <td>16.0</td>\n",
              "      <td>1017.6</td>\n",
              "      <td>1012.8</td>\n",
              "      <td>4.447461</td>\n",
              "      <td>4.50993</td>\n",
              "      <td>18.1</td>\n",
              "      <td>26.5</td>\n",
              "      <td>No</td>\n",
              "      <td>No</td>\n",
              "    </tr>\n",
              "    <tr>\n",
              "      <th>4</th>\n",
              "      <td>2008-12-05</td>\n",
              "      <td>Albury</td>\n",
              "      <td>17.5</td>\n",
              "      <td>32.3</td>\n",
              "      <td>1.0</td>\n",
              "      <td>5.468232</td>\n",
              "      <td>7.611178</td>\n",
              "      <td>W</td>\n",
              "      <td>41.0</td>\n",
              "      <td>ENE</td>\n",
              "      <td>...</td>\n",
              "      <td>82.0</td>\n",
              "      <td>33.0</td>\n",
              "      <td>1010.8</td>\n",
              "      <td>1006.0</td>\n",
              "      <td>7.000000</td>\n",
              "      <td>8.00000</td>\n",
              "      <td>17.8</td>\n",
              "      <td>29.7</td>\n",
              "      <td>No</td>\n",
              "      <td>No</td>\n",
              "    </tr>\n",
              "  </tbody>\n",
              "</table>\n",
              "<p>5 rows × 23 columns</p>\n",
              "</div>\n",
              "      <button class=\"colab-df-convert\" onclick=\"convertToInteractive('df-8339612d-3f8a-428a-a1dd-8a160c77fc82')\"\n",
              "              title=\"Convert this dataframe to an interactive table.\"\n",
              "              style=\"display:none;\">\n",
              "        \n",
              "  <svg xmlns=\"http://www.w3.org/2000/svg\" height=\"24px\"viewBox=\"0 0 24 24\"\n",
              "       width=\"24px\">\n",
              "    <path d=\"M0 0h24v24H0V0z\" fill=\"none\"/>\n",
              "    <path d=\"M18.56 5.44l.94 2.06.94-2.06 2.06-.94-2.06-.94-.94-2.06-.94 2.06-2.06.94zm-11 1L8.5 8.5l.94-2.06 2.06-.94-2.06-.94L8.5 2.5l-.94 2.06-2.06.94zm10 10l.94 2.06.94-2.06 2.06-.94-2.06-.94-.94-2.06-.94 2.06-2.06.94z\"/><path d=\"M17.41 7.96l-1.37-1.37c-.4-.4-.92-.59-1.43-.59-.52 0-1.04.2-1.43.59L10.3 9.45l-7.72 7.72c-.78.78-.78 2.05 0 2.83L4 21.41c.39.39.9.59 1.41.59.51 0 1.02-.2 1.41-.59l7.78-7.78 2.81-2.81c.8-.78.8-2.07 0-2.86zM5.41 20L4 18.59l7.72-7.72 1.47 1.35L5.41 20z\"/>\n",
              "  </svg>\n",
              "      </button>\n",
              "      \n",
              "  <style>\n",
              "    .colab-df-container {\n",
              "      display:flex;\n",
              "      flex-wrap:wrap;\n",
              "      gap: 12px;\n",
              "    }\n",
              "\n",
              "    .colab-df-convert {\n",
              "      background-color: #E8F0FE;\n",
              "      border: none;\n",
              "      border-radius: 50%;\n",
              "      cursor: pointer;\n",
              "      display: none;\n",
              "      fill: #1967D2;\n",
              "      height: 32px;\n",
              "      padding: 0 0 0 0;\n",
              "      width: 32px;\n",
              "    }\n",
              "\n",
              "    .colab-df-convert:hover {\n",
              "      background-color: #E2EBFA;\n",
              "      box-shadow: 0px 1px 2px rgba(60, 64, 67, 0.3), 0px 1px 3px 1px rgba(60, 64, 67, 0.15);\n",
              "      fill: #174EA6;\n",
              "    }\n",
              "\n",
              "    [theme=dark] .colab-df-convert {\n",
              "      background-color: #3B4455;\n",
              "      fill: #D2E3FC;\n",
              "    }\n",
              "\n",
              "    [theme=dark] .colab-df-convert:hover {\n",
              "      background-color: #434B5C;\n",
              "      box-shadow: 0px 1px 3px 1px rgba(0, 0, 0, 0.15);\n",
              "      filter: drop-shadow(0px 1px 2px rgba(0, 0, 0, 0.3));\n",
              "      fill: #FFFFFF;\n",
              "    }\n",
              "  </style>\n",
              "\n",
              "      <script>\n",
              "        const buttonEl =\n",
              "          document.querySelector('#df-8339612d-3f8a-428a-a1dd-8a160c77fc82 button.colab-df-convert');\n",
              "        buttonEl.style.display =\n",
              "          google.colab.kernel.accessAllowed ? 'block' : 'none';\n",
              "\n",
              "        async function convertToInteractive(key) {\n",
              "          const element = document.querySelector('#df-8339612d-3f8a-428a-a1dd-8a160c77fc82');\n",
              "          const dataTable =\n",
              "            await google.colab.kernel.invokeFunction('convertToInteractive',\n",
              "                                                     [key], {});\n",
              "          if (!dataTable) return;\n",
              "\n",
              "          const docLinkHtml = 'Like what you see? Visit the ' +\n",
              "            '<a target=\"_blank\" href=https://colab.research.google.com/notebooks/data_table.ipynb>data table notebook</a>'\n",
              "            + ' to learn more about interactive tables.';\n",
              "          element.innerHTML = '';\n",
              "          dataTable['output_type'] = 'display_data';\n",
              "          await google.colab.output.renderOutput(dataTable, element);\n",
              "          const docLink = document.createElement('div');\n",
              "          docLink.innerHTML = docLinkHtml;\n",
              "          element.appendChild(docLink);\n",
              "        }\n",
              "      </script>\n",
              "    </div>\n",
              "  </div>\n",
              "  "
            ]
          },
          "metadata": {},
          "execution_count": 21
        }
      ]
    },
    {
      "cell_type": "code",
      "source": [
        "print(\"Scaled values: \")\n",
        "X"
      ],
      "metadata": {
        "colab": {
          "base_uri": "https://localhost:8080/",
          "height": 485
        },
        "id": "CTLSKK0Ni_eh",
        "outputId": "1befc5a2-1cca-4766-8fb9-17bf3e0e6eb7"
      },
      "execution_count": null,
      "outputs": [
        {
          "output_type": "stream",
          "name": "stdout",
          "text": [
            "Scaled values: \n"
          ]
        },
        {
          "output_type": "execute_result",
          "data": {
            "text/plain": [
              "        MinTemp    MaxTemp  Rainfall  Evaporation  Sunshine  WindGustSpeed  \\\n",
              "0          13.4  22.900000       0.6     5.468232  7.611178           44.0   \n",
              "1           7.4  25.100000       0.0     5.468232  7.611178           44.0   \n",
              "2          12.9  25.700000       0.0     5.468232  7.611178           46.0   \n",
              "3           9.2  28.000000       0.0     5.468232  7.611178           24.0   \n",
              "4          17.5  32.300000       1.0     5.468232  7.611178           41.0   \n",
              "...         ...        ...       ...          ...       ...            ...   \n",
              "145455      2.8  23.400000       0.0     5.468232  7.611178           31.0   \n",
              "145456      3.6  25.300000       0.0     5.468232  7.611178           22.0   \n",
              "145457      5.4  26.900000       0.0     5.468232  7.611178           37.0   \n",
              "145458      7.8  27.000000       0.0     5.468232  7.611178           28.0   \n",
              "145459     14.9  23.221348       0.0     5.468232  7.611178            NaN   \n",
              "\n",
              "        WindSpeed9am  WindSpeed3pm  Humidity9am  Humidity3pm  Pressure9am  \\\n",
              "0               20.0          24.0         71.0         22.0       1007.7   \n",
              "1                4.0          22.0         44.0         25.0       1010.6   \n",
              "2               19.0          26.0         38.0         30.0       1007.6   \n",
              "3               11.0           9.0         45.0         16.0       1017.6   \n",
              "4                7.0          20.0         82.0         33.0       1010.8   \n",
              "...              ...           ...          ...          ...          ...   \n",
              "145455          13.0          11.0         51.0         24.0       1024.6   \n",
              "145456          13.0           9.0         56.0         21.0       1023.5   \n",
              "145457           9.0           9.0         53.0         24.0       1021.0   \n",
              "145458          13.0           7.0         51.0         24.0       1019.4   \n",
              "145459          17.0          17.0         62.0         36.0       1020.2   \n",
              "\n",
              "        Pressure3pm  Cloud9am  Cloud3pm  Temp9am  Temp3pm  \n",
              "0            1007.1  8.000000   4.50993     16.9     21.8  \n",
              "1            1007.8  4.447461   4.50993     17.2     24.3  \n",
              "2            1008.7  4.447461   2.00000     21.0     23.2  \n",
              "3            1012.8  4.447461   4.50993     18.1     26.5  \n",
              "4            1006.0  7.000000   8.00000     17.8     29.7  \n",
              "...             ...       ...       ...      ...      ...  \n",
              "145455       1020.3  4.447461   4.50993     10.1     22.4  \n",
              "145456       1019.1  4.447461   4.50993     10.9     24.5  \n",
              "145457       1016.8  4.447461   4.50993     12.5     26.1  \n",
              "145458       1016.5  3.000000   2.00000     15.1     26.0  \n",
              "145459       1017.9  8.000000   8.00000     15.0     20.9  \n",
              "\n",
              "[145460 rows x 16 columns]"
            ],
            "text/html": [
              "\n",
              "  <div id=\"df-1ebb2022-133b-441c-80ca-eaabd13c0e02\">\n",
              "    <div class=\"colab-df-container\">\n",
              "      <div>\n",
              "<style scoped>\n",
              "    .dataframe tbody tr th:only-of-type {\n",
              "        vertical-align: middle;\n",
              "    }\n",
              "\n",
              "    .dataframe tbody tr th {\n",
              "        vertical-align: top;\n",
              "    }\n",
              "\n",
              "    .dataframe thead th {\n",
              "        text-align: right;\n",
              "    }\n",
              "</style>\n",
              "<table border=\"1\" class=\"dataframe\">\n",
              "  <thead>\n",
              "    <tr style=\"text-align: right;\">\n",
              "      <th></th>\n",
              "      <th>MinTemp</th>\n",
              "      <th>MaxTemp</th>\n",
              "      <th>Rainfall</th>\n",
              "      <th>Evaporation</th>\n",
              "      <th>Sunshine</th>\n",
              "      <th>WindGustSpeed</th>\n",
              "      <th>WindSpeed9am</th>\n",
              "      <th>WindSpeed3pm</th>\n",
              "      <th>Humidity9am</th>\n",
              "      <th>Humidity3pm</th>\n",
              "      <th>Pressure9am</th>\n",
              "      <th>Pressure3pm</th>\n",
              "      <th>Cloud9am</th>\n",
              "      <th>Cloud3pm</th>\n",
              "      <th>Temp9am</th>\n",
              "      <th>Temp3pm</th>\n",
              "    </tr>\n",
              "  </thead>\n",
              "  <tbody>\n",
              "    <tr>\n",
              "      <th>0</th>\n",
              "      <td>13.4</td>\n",
              "      <td>22.900000</td>\n",
              "      <td>0.6</td>\n",
              "      <td>5.468232</td>\n",
              "      <td>7.611178</td>\n",
              "      <td>44.0</td>\n",
              "      <td>20.0</td>\n",
              "      <td>24.0</td>\n",
              "      <td>71.0</td>\n",
              "      <td>22.0</td>\n",
              "      <td>1007.7</td>\n",
              "      <td>1007.1</td>\n",
              "      <td>8.000000</td>\n",
              "      <td>4.50993</td>\n",
              "      <td>16.9</td>\n",
              "      <td>21.8</td>\n",
              "    </tr>\n",
              "    <tr>\n",
              "      <th>1</th>\n",
              "      <td>7.4</td>\n",
              "      <td>25.100000</td>\n",
              "      <td>0.0</td>\n",
              "      <td>5.468232</td>\n",
              "      <td>7.611178</td>\n",
              "      <td>44.0</td>\n",
              "      <td>4.0</td>\n",
              "      <td>22.0</td>\n",
              "      <td>44.0</td>\n",
              "      <td>25.0</td>\n",
              "      <td>1010.6</td>\n",
              "      <td>1007.8</td>\n",
              "      <td>4.447461</td>\n",
              "      <td>4.50993</td>\n",
              "      <td>17.2</td>\n",
              "      <td>24.3</td>\n",
              "    </tr>\n",
              "    <tr>\n",
              "      <th>2</th>\n",
              "      <td>12.9</td>\n",
              "      <td>25.700000</td>\n",
              "      <td>0.0</td>\n",
              "      <td>5.468232</td>\n",
              "      <td>7.611178</td>\n",
              "      <td>46.0</td>\n",
              "      <td>19.0</td>\n",
              "      <td>26.0</td>\n",
              "      <td>38.0</td>\n",
              "      <td>30.0</td>\n",
              "      <td>1007.6</td>\n",
              "      <td>1008.7</td>\n",
              "      <td>4.447461</td>\n",
              "      <td>2.00000</td>\n",
              "      <td>21.0</td>\n",
              "      <td>23.2</td>\n",
              "    </tr>\n",
              "    <tr>\n",
              "      <th>3</th>\n",
              "      <td>9.2</td>\n",
              "      <td>28.000000</td>\n",
              "      <td>0.0</td>\n",
              "      <td>5.468232</td>\n",
              "      <td>7.611178</td>\n",
              "      <td>24.0</td>\n",
              "      <td>11.0</td>\n",
              "      <td>9.0</td>\n",
              "      <td>45.0</td>\n",
              "      <td>16.0</td>\n",
              "      <td>1017.6</td>\n",
              "      <td>1012.8</td>\n",
              "      <td>4.447461</td>\n",
              "      <td>4.50993</td>\n",
              "      <td>18.1</td>\n",
              "      <td>26.5</td>\n",
              "    </tr>\n",
              "    <tr>\n",
              "      <th>4</th>\n",
              "      <td>17.5</td>\n",
              "      <td>32.300000</td>\n",
              "      <td>1.0</td>\n",
              "      <td>5.468232</td>\n",
              "      <td>7.611178</td>\n",
              "      <td>41.0</td>\n",
              "      <td>7.0</td>\n",
              "      <td>20.0</td>\n",
              "      <td>82.0</td>\n",
              "      <td>33.0</td>\n",
              "      <td>1010.8</td>\n",
              "      <td>1006.0</td>\n",
              "      <td>7.000000</td>\n",
              "      <td>8.00000</td>\n",
              "      <td>17.8</td>\n",
              "      <td>29.7</td>\n",
              "    </tr>\n",
              "    <tr>\n",
              "      <th>...</th>\n",
              "      <td>...</td>\n",
              "      <td>...</td>\n",
              "      <td>...</td>\n",
              "      <td>...</td>\n",
              "      <td>...</td>\n",
              "      <td>...</td>\n",
              "      <td>...</td>\n",
              "      <td>...</td>\n",
              "      <td>...</td>\n",
              "      <td>...</td>\n",
              "      <td>...</td>\n",
              "      <td>...</td>\n",
              "      <td>...</td>\n",
              "      <td>...</td>\n",
              "      <td>...</td>\n",
              "      <td>...</td>\n",
              "    </tr>\n",
              "    <tr>\n",
              "      <th>145455</th>\n",
              "      <td>2.8</td>\n",
              "      <td>23.400000</td>\n",
              "      <td>0.0</td>\n",
              "      <td>5.468232</td>\n",
              "      <td>7.611178</td>\n",
              "      <td>31.0</td>\n",
              "      <td>13.0</td>\n",
              "      <td>11.0</td>\n",
              "      <td>51.0</td>\n",
              "      <td>24.0</td>\n",
              "      <td>1024.6</td>\n",
              "      <td>1020.3</td>\n",
              "      <td>4.447461</td>\n",
              "      <td>4.50993</td>\n",
              "      <td>10.1</td>\n",
              "      <td>22.4</td>\n",
              "    </tr>\n",
              "    <tr>\n",
              "      <th>145456</th>\n",
              "      <td>3.6</td>\n",
              "      <td>25.300000</td>\n",
              "      <td>0.0</td>\n",
              "      <td>5.468232</td>\n",
              "      <td>7.611178</td>\n",
              "      <td>22.0</td>\n",
              "      <td>13.0</td>\n",
              "      <td>9.0</td>\n",
              "      <td>56.0</td>\n",
              "      <td>21.0</td>\n",
              "      <td>1023.5</td>\n",
              "      <td>1019.1</td>\n",
              "      <td>4.447461</td>\n",
              "      <td>4.50993</td>\n",
              "      <td>10.9</td>\n",
              "      <td>24.5</td>\n",
              "    </tr>\n",
              "    <tr>\n",
              "      <th>145457</th>\n",
              "      <td>5.4</td>\n",
              "      <td>26.900000</td>\n",
              "      <td>0.0</td>\n",
              "      <td>5.468232</td>\n",
              "      <td>7.611178</td>\n",
              "      <td>37.0</td>\n",
              "      <td>9.0</td>\n",
              "      <td>9.0</td>\n",
              "      <td>53.0</td>\n",
              "      <td>24.0</td>\n",
              "      <td>1021.0</td>\n",
              "      <td>1016.8</td>\n",
              "      <td>4.447461</td>\n",
              "      <td>4.50993</td>\n",
              "      <td>12.5</td>\n",
              "      <td>26.1</td>\n",
              "    </tr>\n",
              "    <tr>\n",
              "      <th>145458</th>\n",
              "      <td>7.8</td>\n",
              "      <td>27.000000</td>\n",
              "      <td>0.0</td>\n",
              "      <td>5.468232</td>\n",
              "      <td>7.611178</td>\n",
              "      <td>28.0</td>\n",
              "      <td>13.0</td>\n",
              "      <td>7.0</td>\n",
              "      <td>51.0</td>\n",
              "      <td>24.0</td>\n",
              "      <td>1019.4</td>\n",
              "      <td>1016.5</td>\n",
              "      <td>3.000000</td>\n",
              "      <td>2.00000</td>\n",
              "      <td>15.1</td>\n",
              "      <td>26.0</td>\n",
              "    </tr>\n",
              "    <tr>\n",
              "      <th>145459</th>\n",
              "      <td>14.9</td>\n",
              "      <td>23.221348</td>\n",
              "      <td>0.0</td>\n",
              "      <td>5.468232</td>\n",
              "      <td>7.611178</td>\n",
              "      <td>NaN</td>\n",
              "      <td>17.0</td>\n",
              "      <td>17.0</td>\n",
              "      <td>62.0</td>\n",
              "      <td>36.0</td>\n",
              "      <td>1020.2</td>\n",
              "      <td>1017.9</td>\n",
              "      <td>8.000000</td>\n",
              "      <td>8.00000</td>\n",
              "      <td>15.0</td>\n",
              "      <td>20.9</td>\n",
              "    </tr>\n",
              "  </tbody>\n",
              "</table>\n",
              "<p>145460 rows × 16 columns</p>\n",
              "</div>\n",
              "      <button class=\"colab-df-convert\" onclick=\"convertToInteractive('df-1ebb2022-133b-441c-80ca-eaabd13c0e02')\"\n",
              "              title=\"Convert this dataframe to an interactive table.\"\n",
              "              style=\"display:none;\">\n",
              "        \n",
              "  <svg xmlns=\"http://www.w3.org/2000/svg\" height=\"24px\"viewBox=\"0 0 24 24\"\n",
              "       width=\"24px\">\n",
              "    <path d=\"M0 0h24v24H0V0z\" fill=\"none\"/>\n",
              "    <path d=\"M18.56 5.44l.94 2.06.94-2.06 2.06-.94-2.06-.94-.94-2.06-.94 2.06-2.06.94zm-11 1L8.5 8.5l.94-2.06 2.06-.94-2.06-.94L8.5 2.5l-.94 2.06-2.06.94zm10 10l.94 2.06.94-2.06 2.06-.94-2.06-.94-.94-2.06-.94 2.06-2.06.94z\"/><path d=\"M17.41 7.96l-1.37-1.37c-.4-.4-.92-.59-1.43-.59-.52 0-1.04.2-1.43.59L10.3 9.45l-7.72 7.72c-.78.78-.78 2.05 0 2.83L4 21.41c.39.39.9.59 1.41.59.51 0 1.02-.2 1.41-.59l7.78-7.78 2.81-2.81c.8-.78.8-2.07 0-2.86zM5.41 20L4 18.59l7.72-7.72 1.47 1.35L5.41 20z\"/>\n",
              "  </svg>\n",
              "      </button>\n",
              "      \n",
              "  <style>\n",
              "    .colab-df-container {\n",
              "      display:flex;\n",
              "      flex-wrap:wrap;\n",
              "      gap: 12px;\n",
              "    }\n",
              "\n",
              "    .colab-df-convert {\n",
              "      background-color: #E8F0FE;\n",
              "      border: none;\n",
              "      border-radius: 50%;\n",
              "      cursor: pointer;\n",
              "      display: none;\n",
              "      fill: #1967D2;\n",
              "      height: 32px;\n",
              "      padding: 0 0 0 0;\n",
              "      width: 32px;\n",
              "    }\n",
              "\n",
              "    .colab-df-convert:hover {\n",
              "      background-color: #E2EBFA;\n",
              "      box-shadow: 0px 1px 2px rgba(60, 64, 67, 0.3), 0px 1px 3px 1px rgba(60, 64, 67, 0.15);\n",
              "      fill: #174EA6;\n",
              "    }\n",
              "\n",
              "    [theme=dark] .colab-df-convert {\n",
              "      background-color: #3B4455;\n",
              "      fill: #D2E3FC;\n",
              "    }\n",
              "\n",
              "    [theme=dark] .colab-df-convert:hover {\n",
              "      background-color: #434B5C;\n",
              "      box-shadow: 0px 1px 3px 1px rgba(0, 0, 0, 0.15);\n",
              "      filter: drop-shadow(0px 1px 2px rgba(0, 0, 0, 0.3));\n",
              "      fill: #FFFFFF;\n",
              "    }\n",
              "  </style>\n",
              "\n",
              "      <script>\n",
              "        const buttonEl =\n",
              "          document.querySelector('#df-1ebb2022-133b-441c-80ca-eaabd13c0e02 button.colab-df-convert');\n",
              "        buttonEl.style.display =\n",
              "          google.colab.kernel.accessAllowed ? 'block' : 'none';\n",
              "\n",
              "        async function convertToInteractive(key) {\n",
              "          const element = document.querySelector('#df-1ebb2022-133b-441c-80ca-eaabd13c0e02');\n",
              "          const dataTable =\n",
              "            await google.colab.kernel.invokeFunction('convertToInteractive',\n",
              "                                                     [key], {});\n",
              "          if (!dataTable) return;\n",
              "\n",
              "          const docLinkHtml = 'Like what you see? Visit the ' +\n",
              "            '<a target=\"_blank\" href=https://colab.research.google.com/notebooks/data_table.ipynb>data table notebook</a>'\n",
              "            + ' to learn more about interactive tables.';\n",
              "          element.innerHTML = '';\n",
              "          dataTable['output_type'] = 'display_data';\n",
              "          await google.colab.output.renderOutput(dataTable, element);\n",
              "          const docLink = document.createElement('div');\n",
              "          docLink.innerHTML = docLinkHtml;\n",
              "          element.appendChild(docLink);\n",
              "        }\n",
              "      </script>\n",
              "    </div>\n",
              "  </div>\n",
              "  "
            ]
          },
          "metadata": {},
          "execution_count": 20
        }
      ]
    },
    {
      "cell_type": "markdown",
      "source": [
        "Min-Max Scaling is done by                                         \n",
        "X_std = (X - X.min(axis=0)) / (X.max(axis=0) - X.min(axis=0))\n",
        "X_scaled = X_std * (max - min) + min                                   where min, max = feature_range.\n",
        "\n",
        "This transformation is often used as an alternative to zero mean, unit variance scaling."
      ],
      "metadata": {
        "id": "5hCltEe6UX49"
      }
    }
  ]
}
